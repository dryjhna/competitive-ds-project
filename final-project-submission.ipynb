{
 "cells": [
  {
   "cell_type": "markdown",
   "metadata": {},
   "source": [
    "# Final Project: Predicting Future Sales"
   ]
  },
  {
   "cell_type": "markdown",
   "metadata": {},
   "source": [
    "## 1. Import all required libraries and Load data"
   ]
  },
  {
   "cell_type": "code",
   "execution_count": 1,
   "metadata": {
    "scrolled": true
   },
   "outputs": [],
   "source": [
    "\n",
    "import numpy as np\n",
    "import pandas as pd\n",
    "import matplotlib.pyplot as plt\n",
    "from IPython.core.interactiveshell import InteractiveShell\n",
    "from multiprocessing import Pool\n",
    "from itertools import product\n",
    "from tqdm import tqdm\n",
    "from IPython.display import display, HTML\n",
    "import seaborn as sns\n",
    "\n",
    "InteractiveShell.ast_node_interactivity = \"all\"\n",
    "%matplotlib inline\n",
    "  \n",
    "    "
   ]
  },
  {
   "cell_type": "markdown",
   "metadata": {},
   "source": [
    "Load data from \"inputs\" folder"
   ]
  },
  {
   "cell_type": "code",
   "execution_count": 2,
   "metadata": {},
   "outputs": [],
   "source": [
    "\n",
    "items_df = pd.read_csv(\"./inputs/items.csv\")\n",
    "item_cat_df = pd.read_csv(\"./inputs/item_categories.csv\")\n",
    "sales_train_df = pd.read_csv(\"./inputs/sales_train_v2.csv\")\n",
    "shops_df = pd.read_csv(\"./inputs/shops.csv\")\n",
    "test_df = pd.read_csv(\"./inputs/test.csv\")\n",
    "sample_submission_df = pd.read_csv(\"./inputs/sample_submission.csv\")\n",
    "\n"
   ]
  },
  {
   "cell_type": "markdown",
   "metadata": {},
   "source": [
    "## 2. Exploratory Data Analysis"
   ]
  },
  {
   "cell_type": "code",
   "execution_count": 3,
   "metadata": {
    "scrolled": false
   },
   "outputs": [
    {
     "data": {
      "text/plain": [
       "(22170, 3)"
      ]
     },
     "execution_count": 3,
     "metadata": {},
     "output_type": "execute_result"
    },
    {
     "data": {
      "text/html": [
       "<div>\n",
       "<style scoped>\n",
       "    .dataframe tbody tr th:only-of-type {\n",
       "        vertical-align: middle;\n",
       "    }\n",
       "\n",
       "    .dataframe tbody tr th {\n",
       "        vertical-align: top;\n",
       "    }\n",
       "\n",
       "    .dataframe thead th {\n",
       "        text-align: right;\n",
       "    }\n",
       "</style>\n",
       "<table border=\"1\" class=\"dataframe\">\n",
       "  <thead>\n",
       "    <tr style=\"text-align: right;\">\n",
       "      <th></th>\n",
       "      <th>item_id</th>\n",
       "      <th>item_category_id</th>\n",
       "    </tr>\n",
       "  </thead>\n",
       "  <tbody>\n",
       "    <tr>\n",
       "      <th>count</th>\n",
       "      <td>22170.00000</td>\n",
       "      <td>22170.000000</td>\n",
       "    </tr>\n",
       "    <tr>\n",
       "      <th>mean</th>\n",
       "      <td>11084.50000</td>\n",
       "      <td>46.290753</td>\n",
       "    </tr>\n",
       "    <tr>\n",
       "      <th>std</th>\n",
       "      <td>6400.07207</td>\n",
       "      <td>15.941486</td>\n",
       "    </tr>\n",
       "    <tr>\n",
       "      <th>min</th>\n",
       "      <td>0.00000</td>\n",
       "      <td>0.000000</td>\n",
       "    </tr>\n",
       "    <tr>\n",
       "      <th>25%</th>\n",
       "      <td>5542.25000</td>\n",
       "      <td>37.000000</td>\n",
       "    </tr>\n",
       "    <tr>\n",
       "      <th>50%</th>\n",
       "      <td>11084.50000</td>\n",
       "      <td>40.000000</td>\n",
       "    </tr>\n",
       "    <tr>\n",
       "      <th>75%</th>\n",
       "      <td>16626.75000</td>\n",
       "      <td>58.000000</td>\n",
       "    </tr>\n",
       "    <tr>\n",
       "      <th>max</th>\n",
       "      <td>22169.00000</td>\n",
       "      <td>83.000000</td>\n",
       "    </tr>\n",
       "  </tbody>\n",
       "</table>\n",
       "</div>"
      ],
      "text/plain": [
       "           item_id  item_category_id\n",
       "count  22170.00000      22170.000000\n",
       "mean   11084.50000         46.290753\n",
       "std     6400.07207         15.941486\n",
       "min        0.00000          0.000000\n",
       "25%     5542.25000         37.000000\n",
       "50%    11084.50000         40.000000\n",
       "75%    16626.75000         58.000000\n",
       "max    22169.00000         83.000000"
      ]
     },
     "execution_count": 3,
     "metadata": {},
     "output_type": "execute_result"
    },
    {
     "data": {
      "text/plain": [
       "(84, 2)"
      ]
     },
     "execution_count": 3,
     "metadata": {},
     "output_type": "execute_result"
    },
    {
     "data": {
      "text/html": [
       "<div>\n",
       "<style scoped>\n",
       "    .dataframe tbody tr th:only-of-type {\n",
       "        vertical-align: middle;\n",
       "    }\n",
       "\n",
       "    .dataframe tbody tr th {\n",
       "        vertical-align: top;\n",
       "    }\n",
       "\n",
       "    .dataframe thead th {\n",
       "        text-align: right;\n",
       "    }\n",
       "</style>\n",
       "<table border=\"1\" class=\"dataframe\">\n",
       "  <thead>\n",
       "    <tr style=\"text-align: right;\">\n",
       "      <th></th>\n",
       "      <th>item_category_id</th>\n",
       "    </tr>\n",
       "  </thead>\n",
       "  <tbody>\n",
       "    <tr>\n",
       "      <th>count</th>\n",
       "      <td>84.000000</td>\n",
       "    </tr>\n",
       "    <tr>\n",
       "      <th>mean</th>\n",
       "      <td>41.500000</td>\n",
       "    </tr>\n",
       "    <tr>\n",
       "      <th>std</th>\n",
       "      <td>24.392622</td>\n",
       "    </tr>\n",
       "    <tr>\n",
       "      <th>min</th>\n",
       "      <td>0.000000</td>\n",
       "    </tr>\n",
       "    <tr>\n",
       "      <th>25%</th>\n",
       "      <td>20.750000</td>\n",
       "    </tr>\n",
       "    <tr>\n",
       "      <th>50%</th>\n",
       "      <td>41.500000</td>\n",
       "    </tr>\n",
       "    <tr>\n",
       "      <th>75%</th>\n",
       "      <td>62.250000</td>\n",
       "    </tr>\n",
       "    <tr>\n",
       "      <th>max</th>\n",
       "      <td>83.000000</td>\n",
       "    </tr>\n",
       "  </tbody>\n",
       "</table>\n",
       "</div>"
      ],
      "text/plain": [
       "       item_category_id\n",
       "count         84.000000\n",
       "mean          41.500000\n",
       "std           24.392622\n",
       "min            0.000000\n",
       "25%           20.750000\n",
       "50%           41.500000\n",
       "75%           62.250000\n",
       "max           83.000000"
      ]
     },
     "execution_count": 3,
     "metadata": {},
     "output_type": "execute_result"
    },
    {
     "data": {
      "text/plain": [
       "(2935849, 6)"
      ]
     },
     "execution_count": 3,
     "metadata": {},
     "output_type": "execute_result"
    },
    {
     "data": {
      "text/html": [
       "<div>\n",
       "<style scoped>\n",
       "    .dataframe tbody tr th:only-of-type {\n",
       "        vertical-align: middle;\n",
       "    }\n",
       "\n",
       "    .dataframe tbody tr th {\n",
       "        vertical-align: top;\n",
       "    }\n",
       "\n",
       "    .dataframe thead th {\n",
       "        text-align: right;\n",
       "    }\n",
       "</style>\n",
       "<table border=\"1\" class=\"dataframe\">\n",
       "  <thead>\n",
       "    <tr style=\"text-align: right;\">\n",
       "      <th></th>\n",
       "      <th>date_block_num</th>\n",
       "      <th>shop_id</th>\n",
       "      <th>item_id</th>\n",
       "      <th>item_price</th>\n",
       "      <th>item_cnt_day</th>\n",
       "    </tr>\n",
       "  </thead>\n",
       "  <tbody>\n",
       "    <tr>\n",
       "      <th>count</th>\n",
       "      <td>2.935849e+06</td>\n",
       "      <td>2.935849e+06</td>\n",
       "      <td>2.935849e+06</td>\n",
       "      <td>2.935849e+06</td>\n",
       "      <td>2.935849e+06</td>\n",
       "    </tr>\n",
       "    <tr>\n",
       "      <th>mean</th>\n",
       "      <td>1.456991e+01</td>\n",
       "      <td>3.300173e+01</td>\n",
       "      <td>1.019723e+04</td>\n",
       "      <td>8.908532e+02</td>\n",
       "      <td>1.242641e+00</td>\n",
       "    </tr>\n",
       "    <tr>\n",
       "      <th>std</th>\n",
       "      <td>9.422988e+00</td>\n",
       "      <td>1.622697e+01</td>\n",
       "      <td>6.324297e+03</td>\n",
       "      <td>1.729800e+03</td>\n",
       "      <td>2.618834e+00</td>\n",
       "    </tr>\n",
       "    <tr>\n",
       "      <th>min</th>\n",
       "      <td>0.000000e+00</td>\n",
       "      <td>0.000000e+00</td>\n",
       "      <td>0.000000e+00</td>\n",
       "      <td>-1.000000e+00</td>\n",
       "      <td>-2.200000e+01</td>\n",
       "    </tr>\n",
       "    <tr>\n",
       "      <th>25%</th>\n",
       "      <td>7.000000e+00</td>\n",
       "      <td>2.200000e+01</td>\n",
       "      <td>4.476000e+03</td>\n",
       "      <td>2.490000e+02</td>\n",
       "      <td>1.000000e+00</td>\n",
       "    </tr>\n",
       "    <tr>\n",
       "      <th>50%</th>\n",
       "      <td>1.400000e+01</td>\n",
       "      <td>3.100000e+01</td>\n",
       "      <td>9.343000e+03</td>\n",
       "      <td>3.990000e+02</td>\n",
       "      <td>1.000000e+00</td>\n",
       "    </tr>\n",
       "    <tr>\n",
       "      <th>75%</th>\n",
       "      <td>2.300000e+01</td>\n",
       "      <td>4.700000e+01</td>\n",
       "      <td>1.568400e+04</td>\n",
       "      <td>9.990000e+02</td>\n",
       "      <td>1.000000e+00</td>\n",
       "    </tr>\n",
       "    <tr>\n",
       "      <th>max</th>\n",
       "      <td>3.300000e+01</td>\n",
       "      <td>5.900000e+01</td>\n",
       "      <td>2.216900e+04</td>\n",
       "      <td>3.079800e+05</td>\n",
       "      <td>2.169000e+03</td>\n",
       "    </tr>\n",
       "  </tbody>\n",
       "</table>\n",
       "</div>"
      ],
      "text/plain": [
       "       date_block_num       shop_id       item_id    item_price  item_cnt_day\n",
       "count    2.935849e+06  2.935849e+06  2.935849e+06  2.935849e+06  2.935849e+06\n",
       "mean     1.456991e+01  3.300173e+01  1.019723e+04  8.908532e+02  1.242641e+00\n",
       "std      9.422988e+00  1.622697e+01  6.324297e+03  1.729800e+03  2.618834e+00\n",
       "min      0.000000e+00  0.000000e+00  0.000000e+00 -1.000000e+00 -2.200000e+01\n",
       "25%      7.000000e+00  2.200000e+01  4.476000e+03  2.490000e+02  1.000000e+00\n",
       "50%      1.400000e+01  3.100000e+01  9.343000e+03  3.990000e+02  1.000000e+00\n",
       "75%      2.300000e+01  4.700000e+01  1.568400e+04  9.990000e+02  1.000000e+00\n",
       "max      3.300000e+01  5.900000e+01  2.216900e+04  3.079800e+05  2.169000e+03"
      ]
     },
     "execution_count": 3,
     "metadata": {},
     "output_type": "execute_result"
    },
    {
     "data": {
      "text/html": [
       "<div>\n",
       "<style scoped>\n",
       "    .dataframe tbody tr th:only-of-type {\n",
       "        vertical-align: middle;\n",
       "    }\n",
       "\n",
       "    .dataframe tbody tr th {\n",
       "        vertical-align: top;\n",
       "    }\n",
       "\n",
       "    .dataframe thead th {\n",
       "        text-align: right;\n",
       "    }\n",
       "</style>\n",
       "<table border=\"1\" class=\"dataframe\">\n",
       "  <thead>\n",
       "    <tr style=\"text-align: right;\">\n",
       "      <th></th>\n",
       "      <th>date</th>\n",
       "      <th>date_block_num</th>\n",
       "      <th>shop_id</th>\n",
       "      <th>item_id</th>\n",
       "      <th>item_price</th>\n",
       "      <th>item_cnt_day</th>\n",
       "    </tr>\n",
       "  </thead>\n",
       "  <tbody>\n",
       "    <tr>\n",
       "      <th>0</th>\n",
       "      <td>02.01.2013</td>\n",
       "      <td>0</td>\n",
       "      <td>59</td>\n",
       "      <td>22154</td>\n",
       "      <td>999.00</td>\n",
       "      <td>1.0</td>\n",
       "    </tr>\n",
       "    <tr>\n",
       "      <th>1</th>\n",
       "      <td>03.01.2013</td>\n",
       "      <td>0</td>\n",
       "      <td>25</td>\n",
       "      <td>2552</td>\n",
       "      <td>899.00</td>\n",
       "      <td>1.0</td>\n",
       "    </tr>\n",
       "    <tr>\n",
       "      <th>2</th>\n",
       "      <td>05.01.2013</td>\n",
       "      <td>0</td>\n",
       "      <td>25</td>\n",
       "      <td>2552</td>\n",
       "      <td>899.00</td>\n",
       "      <td>-1.0</td>\n",
       "    </tr>\n",
       "    <tr>\n",
       "      <th>3</th>\n",
       "      <td>06.01.2013</td>\n",
       "      <td>0</td>\n",
       "      <td>25</td>\n",
       "      <td>2554</td>\n",
       "      <td>1709.05</td>\n",
       "      <td>1.0</td>\n",
       "    </tr>\n",
       "    <tr>\n",
       "      <th>4</th>\n",
       "      <td>15.01.2013</td>\n",
       "      <td>0</td>\n",
       "      <td>25</td>\n",
       "      <td>2555</td>\n",
       "      <td>1099.00</td>\n",
       "      <td>1.0</td>\n",
       "    </tr>\n",
       "  </tbody>\n",
       "</table>\n",
       "</div>"
      ],
      "text/plain": [
       "         date  date_block_num  shop_id  item_id  item_price  item_cnt_day\n",
       "0  02.01.2013               0       59    22154      999.00           1.0\n",
       "1  03.01.2013               0       25     2552      899.00           1.0\n",
       "2  05.01.2013               0       25     2552      899.00          -1.0\n",
       "3  06.01.2013               0       25     2554     1709.05           1.0\n",
       "4  15.01.2013               0       25     2555     1099.00           1.0"
      ]
     },
     "execution_count": 3,
     "metadata": {},
     "output_type": "execute_result"
    },
    {
     "data": {
      "text/plain": [
       "(60, 2)"
      ]
     },
     "execution_count": 3,
     "metadata": {},
     "output_type": "execute_result"
    },
    {
     "data": {
      "text/html": [
       "<div>\n",
       "<style scoped>\n",
       "    .dataframe tbody tr th:only-of-type {\n",
       "        vertical-align: middle;\n",
       "    }\n",
       "\n",
       "    .dataframe tbody tr th {\n",
       "        vertical-align: top;\n",
       "    }\n",
       "\n",
       "    .dataframe thead th {\n",
       "        text-align: right;\n",
       "    }\n",
       "</style>\n",
       "<table border=\"1\" class=\"dataframe\">\n",
       "  <thead>\n",
       "    <tr style=\"text-align: right;\">\n",
       "      <th></th>\n",
       "      <th>shop_id</th>\n",
       "    </tr>\n",
       "  </thead>\n",
       "  <tbody>\n",
       "    <tr>\n",
       "      <th>count</th>\n",
       "      <td>60.000000</td>\n",
       "    </tr>\n",
       "    <tr>\n",
       "      <th>mean</th>\n",
       "      <td>29.500000</td>\n",
       "    </tr>\n",
       "    <tr>\n",
       "      <th>std</th>\n",
       "      <td>17.464249</td>\n",
       "    </tr>\n",
       "    <tr>\n",
       "      <th>min</th>\n",
       "      <td>0.000000</td>\n",
       "    </tr>\n",
       "    <tr>\n",
       "      <th>25%</th>\n",
       "      <td>14.750000</td>\n",
       "    </tr>\n",
       "    <tr>\n",
       "      <th>50%</th>\n",
       "      <td>29.500000</td>\n",
       "    </tr>\n",
       "    <tr>\n",
       "      <th>75%</th>\n",
       "      <td>44.250000</td>\n",
       "    </tr>\n",
       "    <tr>\n",
       "      <th>max</th>\n",
       "      <td>59.000000</td>\n",
       "    </tr>\n",
       "  </tbody>\n",
       "</table>\n",
       "</div>"
      ],
      "text/plain": [
       "         shop_id\n",
       "count  60.000000\n",
       "mean   29.500000\n",
       "std    17.464249\n",
       "min     0.000000\n",
       "25%    14.750000\n",
       "50%    29.500000\n",
       "75%    44.250000\n",
       "max    59.000000"
      ]
     },
     "execution_count": 3,
     "metadata": {},
     "output_type": "execute_result"
    },
    {
     "data": {
      "text/plain": [
       "(214200, 3)"
      ]
     },
     "execution_count": 3,
     "metadata": {},
     "output_type": "execute_result"
    },
    {
     "data": {
      "text/html": [
       "<div>\n",
       "<style scoped>\n",
       "    .dataframe tbody tr th:only-of-type {\n",
       "        vertical-align: middle;\n",
       "    }\n",
       "\n",
       "    .dataframe tbody tr th {\n",
       "        vertical-align: top;\n",
       "    }\n",
       "\n",
       "    .dataframe thead th {\n",
       "        text-align: right;\n",
       "    }\n",
       "</style>\n",
       "<table border=\"1\" class=\"dataframe\">\n",
       "  <thead>\n",
       "    <tr style=\"text-align: right;\">\n",
       "      <th></th>\n",
       "      <th>ID</th>\n",
       "      <th>shop_id</th>\n",
       "      <th>item_id</th>\n",
       "    </tr>\n",
       "  </thead>\n",
       "  <tbody>\n",
       "    <tr>\n",
       "      <th>count</th>\n",
       "      <td>214200.000000</td>\n",
       "      <td>214200.000000</td>\n",
       "      <td>214200.000000</td>\n",
       "    </tr>\n",
       "    <tr>\n",
       "      <th>mean</th>\n",
       "      <td>107099.500000</td>\n",
       "      <td>31.642857</td>\n",
       "      <td>11019.398627</td>\n",
       "    </tr>\n",
       "    <tr>\n",
       "      <th>std</th>\n",
       "      <td>61834.358168</td>\n",
       "      <td>17.561933</td>\n",
       "      <td>6252.644590</td>\n",
       "    </tr>\n",
       "    <tr>\n",
       "      <th>min</th>\n",
       "      <td>0.000000</td>\n",
       "      <td>2.000000</td>\n",
       "      <td>30.000000</td>\n",
       "    </tr>\n",
       "    <tr>\n",
       "      <th>25%</th>\n",
       "      <td>53549.750000</td>\n",
       "      <td>16.000000</td>\n",
       "      <td>5381.500000</td>\n",
       "    </tr>\n",
       "    <tr>\n",
       "      <th>50%</th>\n",
       "      <td>107099.500000</td>\n",
       "      <td>34.500000</td>\n",
       "      <td>11203.000000</td>\n",
       "    </tr>\n",
       "    <tr>\n",
       "      <th>75%</th>\n",
       "      <td>160649.250000</td>\n",
       "      <td>47.000000</td>\n",
       "      <td>16071.500000</td>\n",
       "    </tr>\n",
       "    <tr>\n",
       "      <th>max</th>\n",
       "      <td>214199.000000</td>\n",
       "      <td>59.000000</td>\n",
       "      <td>22167.000000</td>\n",
       "    </tr>\n",
       "  </tbody>\n",
       "</table>\n",
       "</div>"
      ],
      "text/plain": [
       "                  ID        shop_id        item_id\n",
       "count  214200.000000  214200.000000  214200.000000\n",
       "mean   107099.500000      31.642857   11019.398627\n",
       "std     61834.358168      17.561933    6252.644590\n",
       "min         0.000000       2.000000      30.000000\n",
       "25%     53549.750000      16.000000    5381.500000\n",
       "50%    107099.500000      34.500000   11203.000000\n",
       "75%    160649.250000      47.000000   16071.500000\n",
       "max    214199.000000      59.000000   22167.000000"
      ]
     },
     "execution_count": 3,
     "metadata": {},
     "output_type": "execute_result"
    },
    {
     "data": {
      "text/plain": [
       "(214200, 2)"
      ]
     },
     "execution_count": 3,
     "metadata": {},
     "output_type": "execute_result"
    },
    {
     "data": {
      "text/html": [
       "<div>\n",
       "<style scoped>\n",
       "    .dataframe tbody tr th:only-of-type {\n",
       "        vertical-align: middle;\n",
       "    }\n",
       "\n",
       "    .dataframe tbody tr th {\n",
       "        vertical-align: top;\n",
       "    }\n",
       "\n",
       "    .dataframe thead th {\n",
       "        text-align: right;\n",
       "    }\n",
       "</style>\n",
       "<table border=\"1\" class=\"dataframe\">\n",
       "  <thead>\n",
       "    <tr style=\"text-align: right;\">\n",
       "      <th></th>\n",
       "      <th>ID</th>\n",
       "      <th>item_cnt_month</th>\n",
       "    </tr>\n",
       "  </thead>\n",
       "  <tbody>\n",
       "    <tr>\n",
       "      <th>count</th>\n",
       "      <td>214200.000000</td>\n",
       "      <td>214200.0</td>\n",
       "    </tr>\n",
       "    <tr>\n",
       "      <th>mean</th>\n",
       "      <td>107099.500000</td>\n",
       "      <td>0.5</td>\n",
       "    </tr>\n",
       "    <tr>\n",
       "      <th>std</th>\n",
       "      <td>61834.358168</td>\n",
       "      <td>0.0</td>\n",
       "    </tr>\n",
       "    <tr>\n",
       "      <th>min</th>\n",
       "      <td>0.000000</td>\n",
       "      <td>0.5</td>\n",
       "    </tr>\n",
       "    <tr>\n",
       "      <th>25%</th>\n",
       "      <td>53549.750000</td>\n",
       "      <td>0.5</td>\n",
       "    </tr>\n",
       "    <tr>\n",
       "      <th>50%</th>\n",
       "      <td>107099.500000</td>\n",
       "      <td>0.5</td>\n",
       "    </tr>\n",
       "    <tr>\n",
       "      <th>75%</th>\n",
       "      <td>160649.250000</td>\n",
       "      <td>0.5</td>\n",
       "    </tr>\n",
       "    <tr>\n",
       "      <th>max</th>\n",
       "      <td>214199.000000</td>\n",
       "      <td>0.5</td>\n",
       "    </tr>\n",
       "  </tbody>\n",
       "</table>\n",
       "</div>"
      ],
      "text/plain": [
       "                  ID  item_cnt_month\n",
       "count  214200.000000        214200.0\n",
       "mean   107099.500000             0.5\n",
       "std     61834.358168             0.0\n",
       "min         0.000000             0.5\n",
       "25%     53549.750000             0.5\n",
       "50%    107099.500000             0.5\n",
       "75%    160649.250000             0.5\n",
       "max    214199.000000             0.5"
      ]
     },
     "execution_count": 3,
     "metadata": {},
     "output_type": "execute_result"
    }
   ],
   "source": [
    "#Lets take  a look at contents of all tabels\n",
    "items_df.shape\n",
    "items_df.describe()\n",
    "\n",
    "item_cat_df.shape\n",
    "item_cat_df.describe()\n",
    "\n",
    "sales_train_df.shape\n",
    "sales_train_df.describe()\n",
    "sales_train_df.head()\n",
    "\n",
    "shops_df.shape\n",
    "shops_df.describe()\n",
    "\n",
    "test_df.shape\n",
    "test_df.describe()\n",
    "\n",
    "sample_submission_df.shape\n",
    "sample_submission_df.describe()"
   ]
  },
  {
   "cell_type": "code",
   "execution_count": 26,
   "metadata": {},
   "outputs": [
    {
     "data": {
      "text/plain": [
       "<seaborn.axisgrid.PairGrid at 0x19e78f4ea20>"
      ]
     },
     "execution_count": 26,
     "metadata": {},
     "output_type": "execute_result"
    },
    {
     "data": {
      "image/png": "[encoded data removed]",
      "text/plain": [
       "<Figure size 900x900 with 30 Axes>"
      ]
     },
     "metadata": {
      "needs_background": "light"
     },
     "output_type": "display_data"
    }
   ],
   "source": [
    "sns.pairplot(sales_train_df)"
   ]
  },
  {
   "cell_type": "markdown",
   "metadata": {},
   "source": [
    "As we can observe from above plots there are some outliers in item_cnt_day and item_price"
   ]
  },
  {
   "cell_type": "code",
   "execution_count": 7,
   "metadata": {},
   "outputs": [],
   "source": [
    "\n",
    "sales_train_df[['day','month','year']] = sales_train_df.date.str.split('.',expand=True)\n",
    "sales_train_df['date'] = pd.to_datetime(sales_train_df['date'], format = '%d.%m.%Y')\n",
    "sales_train_df['sales'] = sales_train_df.item_price * sales_train_df.item_cnt_day"
   ]
  },
  {
   "cell_type": "code",
   "execution_count": 8,
   "metadata": {},
   "outputs": [
    {
     "data": {
      "text/plain": [
       "<matplotlib.axes._subplots.AxesSubplot at 0x19e00db33c8>"
      ]
     },
     "execution_count": 8,
     "metadata": {},
     "output_type": "execute_result"
    },
    {
     "data": {
      "text/plain": [
       "<matplotlib.axes._subplots.AxesSubplot at 0x19e003d0908>"
      ]
     },
     "execution_count": 8,
     "metadata": {},
     "output_type": "execute_result"
    },
    {
     "name": "stderr",
     "output_type": "stream",
     "text": [
      "C:\\ProgramData\\Anaconda3\\lib\\site-packages\\ipykernel_launcher.py:4: RuntimeWarning: invalid value encountered in log\n",
      "  after removing the cwd from sys.path.\n"
     ]
    },
    {
     "data": {
      "text/plain": [
       "<matplotlib.axes._subplots.AxesSubplot at 0x19e7ef49b38>"
      ]
     },
     "execution_count": 8,
     "metadata": {},
     "output_type": "execute_result"
    },
    {
     "data": {
      "text/plain": [
       "<matplotlib.axes._subplots.AxesSubplot at 0x19e7e4f1d68>"
      ]
     },
     "execution_count": 8,
     "metadata": {},
     "output_type": "execute_result"
    },
    {
     "data": {
      "image/png": "[encoded data removed]",
      "text/plain": [
       "<Figure size 1800x360 with 4 Axes>"
      ]
     },
     "metadata": {
      "needs_background": "light"
     },
     "output_type": "display_data"
    }
   ],
   "source": [
    "fig, axes = plt.subplots(1,4, figsize=(25,5))\n",
    "sales_train_df.date_block_num.hist(ax=axes[0])\n",
    "sales_train_df[sales_train_df['item_cnt_day'] < 10].item_cnt_day.hist(ax=axes[1])\n",
    "np.log(sales_train_df['item_price']).hist(ax=axes[2])\n",
    "sales_train_df.sales.hist(ax=axes[3])"
   ]
  },
  {
   "cell_type": "code",
   "execution_count": 10,
   "metadata": {},
   "outputs": [
    {
     "data": {
      "text/plain": [
       "<matplotlib.axes._subplots.AxesSubplot at 0x19e3ae7f588>"
      ]
     },
     "execution_count": 10,
     "metadata": {},
     "output_type": "execute_result"
    },
    {
     "data": {
      "image/png": "[encoded data removed]",
      "text/plain": [
       "<Figure size 1080x432 with 1 Axes>"
      ]
     },
     "metadata": {
      "needs_background": "light"
     },
     "output_type": "display_data"
    }
   ],
   "source": [
    "sales_train_df.groupby('date').agg({\"item_cnt_day\": \"sum\"}).plot(figsize=(15,6),title=\"Items transacted per day\")"
   ]
  },
  {
   "cell_type": "code",
   "execution_count": 12,
   "metadata": {},
   "outputs": [
    {
     "data": {
      "text/plain": [
       "<matplotlib.axes._subplots.AxesSubplot at 0x19e6da71128>"
      ]
     },
     "execution_count": 12,
     "metadata": {},
     "output_type": "execute_result"
    },
    {
     "data": {
      "image/png": "[encoded data removed]",
      "text/plain": [
       "<Figure size 1080x432 with 1 Axes>"
      ]
     },
     "metadata": {
      "needs_background": "light"
     },
     "output_type": "display_data"
    }
   ],
   "source": [
    "sales_train_df.groupby('date_block_num').agg({\"item_cnt_day\": \"sum\"}).plot(figsize=(15,6),title=\"Items transacted per day\")"
   ]
  },
  {
   "cell_type": "code",
   "execution_count": 16,
   "metadata": {},
   "outputs": [
    {
     "data": {
      "image/png": "[encoded data removed]",
      "text/plain": [
       "<Figure size 720x432 with 1 Axes>"
      ]
     },
     "metadata": {
      "needs_background": "light"
     },
     "output_type": "display_data"
    }
   ],
   "source": [
    "#We can clearly see a rise in sales on Friday-Sunday\n",
    "\n",
    "sales_train_df['dayofweek'] = sales_train_df.date.dt.dayofweek # The day of the week with Monday=0, Sunday=6\n",
    "sales_train_df.groupby(\"dayofweek\").agg({\"dayofweek\": \"count\"}).plot.bar(figsize=(10, 6));\n"
   ]
  },
  {
   "cell_type": "markdown",
   "metadata": {},
   "source": [
    "Let's take a look at outliers in item price and cnt_day "
   ]
  },
  {
   "cell_type": "code",
   "execution_count": 20,
   "metadata": {},
   "outputs": [
    {
     "data": {
      "text/plain": [
       "<Figure size 720x288 with 0 Axes>"
      ]
     },
     "execution_count": 20,
     "metadata": {},
     "output_type": "execute_result"
    },
    {
     "data": {
      "text/plain": [
       "(-100, 3000)"
      ]
     },
     "execution_count": 20,
     "metadata": {},
     "output_type": "execute_result"
    },
    {
     "data": {
      "text/plain": [
       "<matplotlib.axes._subplots.AxesSubplot at 0x19e7ffb46a0>"
      ]
     },
     "execution_count": 20,
     "metadata": {},
     "output_type": "execute_result"
    },
    {
     "data": {
      "text/plain": [
       "<Figure size 720x288 with 0 Axes>"
      ]
     },
     "execution_count": 20,
     "metadata": {},
     "output_type": "execute_result"
    },
    {
     "data": {
      "text/plain": [
       "(-1.0, 338778.0)"
      ]
     },
     "execution_count": 20,
     "metadata": {},
     "output_type": "execute_result"
    },
    {
     "data": {
      "text/plain": [
       "<matplotlib.axes._subplots.AxesSubplot at 0x19e7ffc87f0>"
      ]
     },
     "execution_count": 20,
     "metadata": {},
     "output_type": "execute_result"
    },
    {
     "data": {
      "image/png": "[encoded data removed]",
      "text/plain": [
       "<Figure size 720x288 with 1 Axes>"
      ]
     },
     "metadata": {
      "needs_background": "light"
     },
     "output_type": "display_data"
    },
    {
     "data": {
      "image/png": "[encoded data removed]",
      "text/plain": [
       "<Figure size 720x288 with 1 Axes>"
      ]
     },
     "metadata": {
      "needs_background": "light"
     },
     "output_type": "display_data"
    }
   ],
   "source": [
    "\n",
    "plt.figure(figsize=(10,4))\n",
    "plt.xlim(-100, 3000)\n",
    "sns.boxplot(x=sales_train_df.item_cnt_day)\n",
    "\n",
    "plt.figure(figsize=(10,4))\n",
    "plt.xlim(sales_train_df.item_price.min(), sales_train_df.item_price.max()*1.1)\n",
    "sns.boxplot(x=sales_train_df.item_price)\n"
   ]
  },
  {
   "cell_type": "markdown",
   "metadata": {},
   "source": [
    "#### Remove outliers from item_price and item_cnt_day"
   ]
  },
  {
   "cell_type": "code",
   "execution_count": 4,
   "metadata": {},
   "outputs": [
    {
     "data": {
      "text/html": [
       "<div>\n",
       "<style scoped>\n",
       "    .dataframe tbody tr th:only-of-type {\n",
       "        vertical-align: middle;\n",
       "    }\n",
       "\n",
       "    .dataframe tbody tr th {\n",
       "        vertical-align: top;\n",
       "    }\n",
       "\n",
       "    .dataframe thead th {\n",
       "        text-align: right;\n",
       "    }\n",
       "</style>\n",
       "<table border=\"1\" class=\"dataframe\">\n",
       "  <thead>\n",
       "    <tr style=\"text-align: right;\">\n",
       "      <th></th>\n",
       "      <th>item_price</th>\n",
       "    </tr>\n",
       "  </thead>\n",
       "  <tbody>\n",
       "    <tr>\n",
       "      <th>2909818</th>\n",
       "      <td>0.908714</td>\n",
       "    </tr>\n",
       "    <tr>\n",
       "      <th>2257993</th>\n",
       "      <td>38.500000</td>\n",
       "    </tr>\n",
       "    <tr>\n",
       "      <th>2048642</th>\n",
       "      <td>71.000000</td>\n",
       "    </tr>\n",
       "    <tr>\n",
       "      <th>1058343</th>\n",
       "      <td>72.200000</td>\n",
       "    </tr>\n",
       "    <tr>\n",
       "      <th>2462729</th>\n",
       "      <td>75.454545</td>\n",
       "    </tr>\n",
       "    <tr>\n",
       "      <th>1398729</th>\n",
       "      <td>76.000000</td>\n",
       "    </tr>\n",
       "    <tr>\n",
       "      <th>2608354</th>\n",
       "      <td>76.083333</td>\n",
       "    </tr>\n",
       "    <tr>\n",
       "      <th>2257974</th>\n",
       "      <td>77.500000</td>\n",
       "    </tr>\n",
       "    <tr>\n",
       "      <th>2626184</th>\n",
       "      <td>79.677419</td>\n",
       "    </tr>\n",
       "    <tr>\n",
       "      <th>2731663</th>\n",
       "      <td>80.000000</td>\n",
       "    </tr>\n",
       "    <tr>\n",
       "      <th>2698600</th>\n",
       "      <td>82.666667</td>\n",
       "    </tr>\n",
       "    <tr>\n",
       "      <th>2327075</th>\n",
       "      <td>83.750000</td>\n",
       "    </tr>\n",
       "    <tr>\n",
       "      <th>1398731</th>\n",
       "      <td>87.250000</td>\n",
       "    </tr>\n",
       "    <tr>\n",
       "      <th>1398728</th>\n",
       "      <td>89.068966</td>\n",
       "    </tr>\n",
       "    <tr>\n",
       "      <th>1398775</th>\n",
       "      <td>89.888889</td>\n",
       "    </tr>\n",
       "    <tr>\n",
       "      <th>2805530</th>\n",
       "      <td>94.666667</td>\n",
       "    </tr>\n",
       "    <tr>\n",
       "      <th>565346</th>\n",
       "      <td>95.333333</td>\n",
       "    </tr>\n",
       "    <tr>\n",
       "      <th>58324</th>\n",
       "      <td>97.800000</td>\n",
       "    </tr>\n",
       "    <tr>\n",
       "      <th>2731649</th>\n",
       "      <td>98.947368</td>\n",
       "    </tr>\n",
       "    <tr>\n",
       "      <th>2608352</th>\n",
       "      <td>100.000000</td>\n",
       "    </tr>\n",
       "    <tr>\n",
       "      <th>2531990</th>\n",
       "      <td>101.230769</td>\n",
       "    </tr>\n",
       "    <tr>\n",
       "      <th>1058340</th>\n",
       "      <td>102.466942</td>\n",
       "    </tr>\n",
       "    <tr>\n",
       "      <th>2698573</th>\n",
       "      <td>103.571429</td>\n",
       "    </tr>\n",
       "    <tr>\n",
       "      <th>2144608</th>\n",
       "      <td>105.875000</td>\n",
       "    </tr>\n",
       "    <tr>\n",
       "      <th>1398774</th>\n",
       "      <td>105.954545</td>\n",
       "    </tr>\n",
       "    <tr>\n",
       "      <th>1547382</th>\n",
       "      <td>106.615385</td>\n",
       "    </tr>\n",
       "    <tr>\n",
       "      <th>1547388</th>\n",
       "      <td>107.434783</td>\n",
       "    </tr>\n",
       "    <tr>\n",
       "      <th>1547392</th>\n",
       "      <td>107.909091</td>\n",
       "    </tr>\n",
       "    <tr>\n",
       "      <th>2626185</th>\n",
       "      <td>110.170732</td>\n",
       "    </tr>\n",
       "    <tr>\n",
       "      <th>1398753</th>\n",
       "      <td>110.888889</td>\n",
       "    </tr>\n",
       "    <tr>\n",
       "      <th>...</th>\n",
       "      <td>...</td>\n",
       "    </tr>\n",
       "    <tr>\n",
       "      <th>2014084</th>\n",
       "      <td>805.000000</td>\n",
       "    </tr>\n",
       "    <tr>\n",
       "      <th>1927268</th>\n",
       "      <td>813.500000</td>\n",
       "    </tr>\n",
       "    <tr>\n",
       "      <th>1547386</th>\n",
       "      <td>835.000000</td>\n",
       "    </tr>\n",
       "    <tr>\n",
       "      <th>885300</th>\n",
       "      <td>847.000000</td>\n",
       "    </tr>\n",
       "    <tr>\n",
       "      <th>1058334</th>\n",
       "      <td>854.000000</td>\n",
       "    </tr>\n",
       "    <tr>\n",
       "      <th>2909829</th>\n",
       "      <td>855.000000</td>\n",
       "    </tr>\n",
       "    <tr>\n",
       "      <th>1592839</th>\n",
       "      <td>876.000000</td>\n",
       "    </tr>\n",
       "    <tr>\n",
       "      <th>1592828</th>\n",
       "      <td>885.000000</td>\n",
       "    </tr>\n",
       "    <tr>\n",
       "      <th>2048751</th>\n",
       "      <td>905.000000</td>\n",
       "    </tr>\n",
       "    <tr>\n",
       "      <th>2144601</th>\n",
       "      <td>913.333333</td>\n",
       "    </tr>\n",
       "    <tr>\n",
       "      <th>1592834</th>\n",
       "      <td>959.000000</td>\n",
       "    </tr>\n",
       "    <tr>\n",
       "      <th>2608338</th>\n",
       "      <td>960.000000</td>\n",
       "    </tr>\n",
       "    <tr>\n",
       "      <th>837185</th>\n",
       "      <td>971.000000</td>\n",
       "    </tr>\n",
       "    <tr>\n",
       "      <th>58323</th>\n",
       "      <td>1000.000000</td>\n",
       "    </tr>\n",
       "    <tr>\n",
       "      <th>1651750</th>\n",
       "      <td>1008.000000</td>\n",
       "    </tr>\n",
       "    <tr>\n",
       "      <th>2805540</th>\n",
       "      <td>1009.500000</td>\n",
       "    </tr>\n",
       "    <tr>\n",
       "      <th>2257979</th>\n",
       "      <td>1140.000000</td>\n",
       "    </tr>\n",
       "    <tr>\n",
       "      <th>2865330</th>\n",
       "      <td>1167.400000</td>\n",
       "    </tr>\n",
       "    <tr>\n",
       "      <th>2531985</th>\n",
       "      <td>1240.000000</td>\n",
       "    </tr>\n",
       "    <tr>\n",
       "      <th>2805524</th>\n",
       "      <td>1257.500000</td>\n",
       "    </tr>\n",
       "    <tr>\n",
       "      <th>1006942</th>\n",
       "      <td>1363.000000</td>\n",
       "    </tr>\n",
       "    <tr>\n",
       "      <th>2909807</th>\n",
       "      <td>1451.000000</td>\n",
       "    </tr>\n",
       "    <tr>\n",
       "      <th>2626180</th>\n",
       "      <td>1455.000000</td>\n",
       "    </tr>\n",
       "    <tr>\n",
       "      <th>1058337</th>\n",
       "      <td>1466.000000</td>\n",
       "    </tr>\n",
       "    <tr>\n",
       "      <th>885302</th>\n",
       "      <td>1553.500000</td>\n",
       "    </tr>\n",
       "    <tr>\n",
       "      <th>2608320</th>\n",
       "      <td>1790.000000</td>\n",
       "    </tr>\n",
       "    <tr>\n",
       "      <th>885303</th>\n",
       "      <td>1821.000000</td>\n",
       "    </tr>\n",
       "    <tr>\n",
       "      <th>1006939</th>\n",
       "      <td>1931.000000</td>\n",
       "    </tr>\n",
       "    <tr>\n",
       "      <th>1830098</th>\n",
       "      <td>2111.500000</td>\n",
       "    </tr>\n",
       "    <tr>\n",
       "      <th>1058333</th>\n",
       "      <td>2137.000000</td>\n",
       "    </tr>\n",
       "  </tbody>\n",
       "</table>\n",
       "<p>464 rows × 1 columns</p>\n",
       "</div>"
      ],
      "text/plain": [
       "          item_price\n",
       "2909818     0.908714\n",
       "2257993    38.500000\n",
       "2048642    71.000000\n",
       "1058343    72.200000\n",
       "2462729    75.454545\n",
       "1398729    76.000000\n",
       "2608354    76.083333\n",
       "2257974    77.500000\n",
       "2626184    79.677419\n",
       "2731663    80.000000\n",
       "2698600    82.666667\n",
       "2327075    83.750000\n",
       "1398731    87.250000\n",
       "1398728    89.068966\n",
       "1398775    89.888889\n",
       "2805530    94.666667\n",
       "565346     95.333333\n",
       "58324      97.800000\n",
       "2731649    98.947368\n",
       "2608352   100.000000\n",
       "2531990   101.230769\n",
       "1058340   102.466942\n",
       "2698573   103.571429\n",
       "2144608   105.875000\n",
       "1398774   105.954545\n",
       "1547382   106.615385\n",
       "1547388   107.434783\n",
       "1547392   107.909091\n",
       "2626185   110.170732\n",
       "1398753   110.888889\n",
       "...              ...\n",
       "2014084   805.000000\n",
       "1927268   813.500000\n",
       "1547386   835.000000\n",
       "885300    847.000000\n",
       "1058334   854.000000\n",
       "2909829   855.000000\n",
       "1592839   876.000000\n",
       "1592828   885.000000\n",
       "2048751   905.000000\n",
       "2144601   913.333333\n",
       "1592834   959.000000\n",
       "2608338   960.000000\n",
       "837185    971.000000\n",
       "58323    1000.000000\n",
       "1651750  1008.000000\n",
       "2805540  1009.500000\n",
       "2257979  1140.000000\n",
       "2865330  1167.400000\n",
       "2531985  1240.000000\n",
       "2805524  1257.500000\n",
       "1006942  1363.000000\n",
       "2909807  1451.000000\n",
       "2626180  1455.000000\n",
       "1058337  1466.000000\n",
       "885302   1553.500000\n",
       "2608320  1790.000000\n",
       "885303   1821.000000\n",
       "1006939  1931.000000\n",
       "1830098  2111.500000\n",
       "1058333  2137.000000\n",
       "\n",
       "[464 rows x 1 columns]"
      ]
     },
     "execution_count": 4,
     "metadata": {},
     "output_type": "execute_result"
    },
    {
     "data": {
      "text/html": [
       "<div>\n",
       "<style scoped>\n",
       "    .dataframe tbody tr th:only-of-type {\n",
       "        vertical-align: middle;\n",
       "    }\n",
       "\n",
       "    .dataframe tbody tr th {\n",
       "        vertical-align: top;\n",
       "    }\n",
       "\n",
       "    .dataframe thead th {\n",
       "        text-align: right;\n",
       "    }\n",
       "</style>\n",
       "<table border=\"1\" class=\"dataframe\">\n",
       "  <thead>\n",
       "    <tr style=\"text-align: right;\">\n",
       "      <th></th>\n",
       "      <th>date</th>\n",
       "      <th>date_block_num</th>\n",
       "      <th>shop_id</th>\n",
       "      <th>item_id</th>\n",
       "      <th>item_price</th>\n",
       "      <th>item_cnt_day</th>\n",
       "    </tr>\n",
       "  </thead>\n",
       "  <tbody>\n",
       "    <tr>\n",
       "      <th>1651714</th>\n",
       "      <td>16.05.2014</td>\n",
       "      <td>16</td>\n",
       "      <td>12</td>\n",
       "      <td>11365</td>\n",
       "      <td>124.000000</td>\n",
       "      <td>5.0</td>\n",
       "    </tr>\n",
       "    <tr>\n",
       "      <th>2805487</th>\n",
       "      <td>21.08.2015</td>\n",
       "      <td>31</td>\n",
       "      <td>12</td>\n",
       "      <td>11365</td>\n",
       "      <td>170.000000</td>\n",
       "      <td>2.0</td>\n",
       "    </tr>\n",
       "    <tr>\n",
       "      <th>1330776</th>\n",
       "      <td>13.01.2014</td>\n",
       "      <td>12</td>\n",
       "      <td>12</td>\n",
       "      <td>11365</td>\n",
       "      <td>180.000000</td>\n",
       "      <td>3.0</td>\n",
       "    </tr>\n",
       "    <tr>\n",
       "      <th>1398688</th>\n",
       "      <td>25.02.2014</td>\n",
       "      <td>13</td>\n",
       "      <td>12</td>\n",
       "      <td>11365</td>\n",
       "      <td>194.000000</td>\n",
       "      <td>5.0</td>\n",
       "    </tr>\n",
       "    <tr>\n",
       "      <th>661581</th>\n",
       "      <td>05.07.2013</td>\n",
       "      <td>6</td>\n",
       "      <td>12</td>\n",
       "      <td>11365</td>\n",
       "      <td>230.000000</td>\n",
       "      <td>4.0</td>\n",
       "    </tr>\n",
       "    <tr>\n",
       "      <th>2731490</th>\n",
       "      <td>30.07.2015</td>\n",
       "      <td>30</td>\n",
       "      <td>12</td>\n",
       "      <td>11365</td>\n",
       "      <td>230.000000</td>\n",
       "      <td>1.0</td>\n",
       "    </tr>\n",
       "    <tr>\n",
       "      <th>1398683</th>\n",
       "      <td>06.02.2014</td>\n",
       "      <td>13</td>\n",
       "      <td>12</td>\n",
       "      <td>11365</td>\n",
       "      <td>246.666667</td>\n",
       "      <td>9.0</td>\n",
       "    </tr>\n",
       "    <tr>\n",
       "      <th>2626123</th>\n",
       "      <td>21.05.2015</td>\n",
       "      <td>28</td>\n",
       "      <td>12</td>\n",
       "      <td>11365</td>\n",
       "      <td>248.333333</td>\n",
       "      <td>6.0</td>\n",
       "    </tr>\n",
       "    <tr>\n",
       "      <th>2608316</th>\n",
       "      <td>16.04.2015</td>\n",
       "      <td>27</td>\n",
       "      <td>12</td>\n",
       "      <td>11365</td>\n",
       "      <td>249.333333</td>\n",
       "      <td>15.0</td>\n",
       "    </tr>\n",
       "    <tr>\n",
       "      <th>1058265</th>\n",
       "      <td>29.11.2013</td>\n",
       "      <td>10</td>\n",
       "      <td>12</td>\n",
       "      <td>11365</td>\n",
       "      <td>260.867925</td>\n",
       "      <td>53.0</td>\n",
       "    </tr>\n",
       "    <tr>\n",
       "      <th>1547374</th>\n",
       "      <td>17.03.2014</td>\n",
       "      <td>14</td>\n",
       "      <td>12</td>\n",
       "      <td>11365</td>\n",
       "      <td>261.052632</td>\n",
       "      <td>19.0</td>\n",
       "    </tr>\n",
       "    <tr>\n",
       "      <th>1058291</th>\n",
       "      <td>21.11.2013</td>\n",
       "      <td>10</td>\n",
       "      <td>12</td>\n",
       "      <td>11365</td>\n",
       "      <td>263.333333</td>\n",
       "      <td>3.0</td>\n",
       "    </tr>\n",
       "    <tr>\n",
       "      <th>1175185</th>\n",
       "      <td>19.12.2013</td>\n",
       "      <td>11</td>\n",
       "      <td>12</td>\n",
       "      <td>11365</td>\n",
       "      <td>270.000000</td>\n",
       "      <td>8.0</td>\n",
       "    </tr>\n",
       "    <tr>\n",
       "      <th>2144511</th>\n",
       "      <td>17.11.2014</td>\n",
       "      <td>22</td>\n",
       "      <td>12</td>\n",
       "      <td>11365</td>\n",
       "      <td>277.500000</td>\n",
       "      <td>4.0</td>\n",
       "    </tr>\n",
       "    <tr>\n",
       "      <th>2258353</th>\n",
       "      <td>23.12.2014</td>\n",
       "      <td>23</td>\n",
       "      <td>12</td>\n",
       "      <td>11365</td>\n",
       "      <td>277.500000</td>\n",
       "      <td>4.0</td>\n",
       "    </tr>\n",
       "    <tr>\n",
       "      <th>2048715</th>\n",
       "      <td>24.10.2014</td>\n",
       "      <td>21</td>\n",
       "      <td>12</td>\n",
       "      <td>11365</td>\n",
       "      <td>305.000000</td>\n",
       "      <td>4.0</td>\n",
       "    </tr>\n",
       "    <tr>\n",
       "      <th>2626120</th>\n",
       "      <td>04.05.2015</td>\n",
       "      <td>28</td>\n",
       "      <td>12</td>\n",
       "      <td>11365</td>\n",
       "      <td>305.000000</td>\n",
       "      <td>4.0</td>\n",
       "    </tr>\n",
       "    <tr>\n",
       "      <th>302546</th>\n",
       "      <td>07.03.2013</td>\n",
       "      <td>2</td>\n",
       "      <td>12</td>\n",
       "      <td>11365</td>\n",
       "      <td>308.333333</td>\n",
       "      <td>6.0</td>\n",
       "    </tr>\n",
       "    <tr>\n",
       "      <th>2258351</th>\n",
       "      <td>29.12.2014</td>\n",
       "      <td>23</td>\n",
       "      <td>12</td>\n",
       "      <td>11365</td>\n",
       "      <td>318.000000</td>\n",
       "      <td>5.0</td>\n",
       "    </tr>\n",
       "    <tr>\n",
       "      <th>2461225</th>\n",
       "      <td>11.02.2015</td>\n",
       "      <td>25</td>\n",
       "      <td>12</td>\n",
       "      <td>11365</td>\n",
       "      <td>357.272727</td>\n",
       "      <td>11.0</td>\n",
       "    </tr>\n",
       "    <tr>\n",
       "      <th>1547406</th>\n",
       "      <td>20.03.2014</td>\n",
       "      <td>14</td>\n",
       "      <td>12</td>\n",
       "      <td>11365</td>\n",
       "      <td>358.888889</td>\n",
       "      <td>9.0</td>\n",
       "    </tr>\n",
       "    <tr>\n",
       "      <th>2865537</th>\n",
       "      <td>02.09.2015</td>\n",
       "      <td>32</td>\n",
       "      <td>12</td>\n",
       "      <td>11365</td>\n",
       "      <td>370.000000</td>\n",
       "      <td>3.0</td>\n",
       "    </tr>\n",
       "    <tr>\n",
       "      <th>2144500</th>\n",
       "      <td>28.11.2014</td>\n",
       "      <td>22</td>\n",
       "      <td>12</td>\n",
       "      <td>11365</td>\n",
       "      <td>377.500000</td>\n",
       "      <td>4.0</td>\n",
       "    </tr>\n",
       "    <tr>\n",
       "      <th>2865541</th>\n",
       "      <td>14.09.2015</td>\n",
       "      <td>32</td>\n",
       "      <td>12</td>\n",
       "      <td>11365</td>\n",
       "      <td>382.000000</td>\n",
       "      <td>5.0</td>\n",
       "    </tr>\n",
       "    <tr>\n",
       "      <th>1547373</th>\n",
       "      <td>04.03.2014</td>\n",
       "      <td>14</td>\n",
       "      <td>12</td>\n",
       "      <td>11365</td>\n",
       "      <td>382.000000</td>\n",
       "      <td>5.0</td>\n",
       "    </tr>\n",
       "    <tr>\n",
       "      <th>2909799</th>\n",
       "      <td>20.10.2015</td>\n",
       "      <td>33</td>\n",
       "      <td>12</td>\n",
       "      <td>11365</td>\n",
       "      <td>384.400000</td>\n",
       "      <td>10.0</td>\n",
       "    </tr>\n",
       "    <tr>\n",
       "      <th>176547</th>\n",
       "      <td>02.02.2013</td>\n",
       "      <td>1</td>\n",
       "      <td>12</td>\n",
       "      <td>11365</td>\n",
       "      <td>410.000000</td>\n",
       "      <td>3.0</td>\n",
       "    </tr>\n",
       "    <tr>\n",
       "      <th>1398682</th>\n",
       "      <td>05.02.2014</td>\n",
       "      <td>13</td>\n",
       "      <td>12</td>\n",
       "      <td>11365</td>\n",
       "      <td>426.875000</td>\n",
       "      <td>16.0</td>\n",
       "    </tr>\n",
       "    <tr>\n",
       "      <th>58352</th>\n",
       "      <td>31.01.2013</td>\n",
       "      <td>0</td>\n",
       "      <td>12</td>\n",
       "      <td>11365</td>\n",
       "      <td>430.000000</td>\n",
       "      <td>1.0</td>\n",
       "    </tr>\n",
       "    <tr>\n",
       "      <th>2909801</th>\n",
       "      <td>29.10.2015</td>\n",
       "      <td>33</td>\n",
       "      <td>12</td>\n",
       "      <td>11365</td>\n",
       "      <td>437.833333</td>\n",
       "      <td>6.0</td>\n",
       "    </tr>\n",
       "    <tr>\n",
       "      <th>...</th>\n",
       "      <td>...</td>\n",
       "      <td>...</td>\n",
       "      <td>...</td>\n",
       "      <td>...</td>\n",
       "      <td>...</td>\n",
       "      <td>...</td>\n",
       "    </tr>\n",
       "    <tr>\n",
       "      <th>885162</th>\n",
       "      <td>26.09.2013</td>\n",
       "      <td>8</td>\n",
       "      <td>12</td>\n",
       "      <td>11365</td>\n",
       "      <td>2770.000000</td>\n",
       "      <td>1.0</td>\n",
       "    </tr>\n",
       "    <tr>\n",
       "      <th>176594</th>\n",
       "      <td>19.02.2013</td>\n",
       "      <td>1</td>\n",
       "      <td>12</td>\n",
       "      <td>11365</td>\n",
       "      <td>2770.000000</td>\n",
       "      <td>1.0</td>\n",
       "    </tr>\n",
       "    <tr>\n",
       "      <th>302560</th>\n",
       "      <td>26.03.2013</td>\n",
       "      <td>2</td>\n",
       "      <td>12</td>\n",
       "      <td>11365</td>\n",
       "      <td>2775.000000</td>\n",
       "      <td>2.0</td>\n",
       "    </tr>\n",
       "    <tr>\n",
       "      <th>58319</th>\n",
       "      <td>24.01.2013</td>\n",
       "      <td>0</td>\n",
       "      <td>12</td>\n",
       "      <td>11365</td>\n",
       "      <td>3170.000000</td>\n",
       "      <td>1.0</td>\n",
       "    </tr>\n",
       "    <tr>\n",
       "      <th>661586</th>\n",
       "      <td>19.07.2013</td>\n",
       "      <td>6</td>\n",
       "      <td>12</td>\n",
       "      <td>11365</td>\n",
       "      <td>3240.000000</td>\n",
       "      <td>1.0</td>\n",
       "    </tr>\n",
       "    <tr>\n",
       "      <th>302561</th>\n",
       "      <td>25.03.2013</td>\n",
       "      <td>2</td>\n",
       "      <td>12</td>\n",
       "      <td>11365</td>\n",
       "      <td>3255.000000</td>\n",
       "      <td>2.0</td>\n",
       "    </tr>\n",
       "    <tr>\n",
       "      <th>1006895</th>\n",
       "      <td>28.10.2013</td>\n",
       "      <td>9</td>\n",
       "      <td>12</td>\n",
       "      <td>11365</td>\n",
       "      <td>3330.000000</td>\n",
       "      <td>1.0</td>\n",
       "    </tr>\n",
       "    <tr>\n",
       "      <th>176591</th>\n",
       "      <td>11.02.2013</td>\n",
       "      <td>1</td>\n",
       "      <td>12</td>\n",
       "      <td>11365</td>\n",
       "      <td>3340.000000</td>\n",
       "      <td>1.0</td>\n",
       "    </tr>\n",
       "    <tr>\n",
       "      <th>565389</th>\n",
       "      <td>05.06.2013</td>\n",
       "      <td>5</td>\n",
       "      <td>12</td>\n",
       "      <td>11365</td>\n",
       "      <td>3780.000000</td>\n",
       "      <td>1.0</td>\n",
       "    </tr>\n",
       "    <tr>\n",
       "      <th>1175182</th>\n",
       "      <td>06.12.2013</td>\n",
       "      <td>11</td>\n",
       "      <td>12</td>\n",
       "      <td>11365</td>\n",
       "      <td>3840.000000</td>\n",
       "      <td>1.0</td>\n",
       "    </tr>\n",
       "    <tr>\n",
       "      <th>512063</th>\n",
       "      <td>17.05.2013</td>\n",
       "      <td>4</td>\n",
       "      <td>12</td>\n",
       "      <td>11365</td>\n",
       "      <td>3846.666667</td>\n",
       "      <td>3.0</td>\n",
       "    </tr>\n",
       "    <tr>\n",
       "      <th>837027</th>\n",
       "      <td>29.08.2013</td>\n",
       "      <td>7</td>\n",
       "      <td>12</td>\n",
       "      <td>11365</td>\n",
       "      <td>3860.000000</td>\n",
       "      <td>4.0</td>\n",
       "    </tr>\n",
       "    <tr>\n",
       "      <th>885110</th>\n",
       "      <td>03.09.2013</td>\n",
       "      <td>8</td>\n",
       "      <td>12</td>\n",
       "      <td>11365</td>\n",
       "      <td>4038.000000</td>\n",
       "      <td>5.0</td>\n",
       "    </tr>\n",
       "    <tr>\n",
       "      <th>2531866</th>\n",
       "      <td>13.03.2015</td>\n",
       "      <td>26</td>\n",
       "      <td>12</td>\n",
       "      <td>11365</td>\n",
       "      <td>4110.000000</td>\n",
       "      <td>1.0</td>\n",
       "    </tr>\n",
       "    <tr>\n",
       "      <th>1547407</th>\n",
       "      <td>21.03.2014</td>\n",
       "      <td>14</td>\n",
       "      <td>12</td>\n",
       "      <td>11365</td>\n",
       "      <td>4140.000000</td>\n",
       "      <td>1.0</td>\n",
       "    </tr>\n",
       "    <tr>\n",
       "      <th>369830</th>\n",
       "      <td>12.04.2013</td>\n",
       "      <td>3</td>\n",
       "      <td>12</td>\n",
       "      <td>11365</td>\n",
       "      <td>4260.000000</td>\n",
       "      <td>1.0</td>\n",
       "    </tr>\n",
       "    <tr>\n",
       "      <th>302565</th>\n",
       "      <td>18.03.2013</td>\n",
       "      <td>2</td>\n",
       "      <td>12</td>\n",
       "      <td>11365</td>\n",
       "      <td>4270.000000</td>\n",
       "      <td>1.0</td>\n",
       "    </tr>\n",
       "    <tr>\n",
       "      <th>2805485</th>\n",
       "      <td>27.08.2015</td>\n",
       "      <td>31</td>\n",
       "      <td>12</td>\n",
       "      <td>11365</td>\n",
       "      <td>4570.000000</td>\n",
       "      <td>1.0</td>\n",
       "    </tr>\n",
       "    <tr>\n",
       "      <th>837031</th>\n",
       "      <td>13.08.2013</td>\n",
       "      <td>7</td>\n",
       "      <td>12</td>\n",
       "      <td>11365</td>\n",
       "      <td>4610.000000</td>\n",
       "      <td>1.0</td>\n",
       "    </tr>\n",
       "    <tr>\n",
       "      <th>1006892</th>\n",
       "      <td>21.10.2013</td>\n",
       "      <td>9</td>\n",
       "      <td>12</td>\n",
       "      <td>11365</td>\n",
       "      <td>4840.000000</td>\n",
       "      <td>1.0</td>\n",
       "    </tr>\n",
       "    <tr>\n",
       "      <th>837028</th>\n",
       "      <td>27.08.2013</td>\n",
       "      <td>7</td>\n",
       "      <td>12</td>\n",
       "      <td>11365</td>\n",
       "      <td>6040.000000</td>\n",
       "      <td>1.0</td>\n",
       "    </tr>\n",
       "    <tr>\n",
       "      <th>1058290</th>\n",
       "      <td>05.11.2013</td>\n",
       "      <td>10</td>\n",
       "      <td>12</td>\n",
       "      <td>11365</td>\n",
       "      <td>6500.000000</td>\n",
       "      <td>1.0</td>\n",
       "    </tr>\n",
       "    <tr>\n",
       "      <th>302566</th>\n",
       "      <td>14.03.2013</td>\n",
       "      <td>2</td>\n",
       "      <td>12</td>\n",
       "      <td>11365</td>\n",
       "      <td>6950.000000</td>\n",
       "      <td>1.0</td>\n",
       "    </tr>\n",
       "    <tr>\n",
       "      <th>885163</th>\n",
       "      <td>25.09.2013</td>\n",
       "      <td>8</td>\n",
       "      <td>12</td>\n",
       "      <td>11365</td>\n",
       "      <td>7240.000000</td>\n",
       "      <td>1.0</td>\n",
       "    </tr>\n",
       "    <tr>\n",
       "      <th>1006888</th>\n",
       "      <td>10.10.2013</td>\n",
       "      <td>9</td>\n",
       "      <td>12</td>\n",
       "      <td>11365</td>\n",
       "      <td>7750.000000</td>\n",
       "      <td>1.0</td>\n",
       "    </tr>\n",
       "    <tr>\n",
       "      <th>885161</th>\n",
       "      <td>28.09.2013</td>\n",
       "      <td>8</td>\n",
       "      <td>12</td>\n",
       "      <td>11365</td>\n",
       "      <td>9370.000000</td>\n",
       "      <td>1.0</td>\n",
       "    </tr>\n",
       "    <tr>\n",
       "      <th>302568</th>\n",
       "      <td>12.03.2013</td>\n",
       "      <td>2</td>\n",
       "      <td>12</td>\n",
       "      <td>11365</td>\n",
       "      <td>10540.000000</td>\n",
       "      <td>1.0</td>\n",
       "    </tr>\n",
       "    <tr>\n",
       "      <th>885165</th>\n",
       "      <td>23.09.2013</td>\n",
       "      <td>8</td>\n",
       "      <td>12</td>\n",
       "      <td>11365</td>\n",
       "      <td>11880.000000</td>\n",
       "      <td>1.0</td>\n",
       "    </tr>\n",
       "    <tr>\n",
       "      <th>302544</th>\n",
       "      <td>05.03.2013</td>\n",
       "      <td>2</td>\n",
       "      <td>12</td>\n",
       "      <td>11365</td>\n",
       "      <td>14530.000000</td>\n",
       "      <td>1.0</td>\n",
       "    </tr>\n",
       "    <tr>\n",
       "      <th>885138</th>\n",
       "      <td>17.09.2013</td>\n",
       "      <td>8</td>\n",
       "      <td>12</td>\n",
       "      <td>11365</td>\n",
       "      <td>59200.000000</td>\n",
       "      <td>1.0</td>\n",
       "    </tr>\n",
       "  </tbody>\n",
       "</table>\n",
       "<p>242 rows × 6 columns</p>\n",
       "</div>"
      ],
      "text/plain": [
       "               date  date_block_num  shop_id  item_id    item_price  \\\n",
       "1651714  16.05.2014              16       12    11365    124.000000   \n",
       "2805487  21.08.2015              31       12    11365    170.000000   \n",
       "1330776  13.01.2014              12       12    11365    180.000000   \n",
       "1398688  25.02.2014              13       12    11365    194.000000   \n",
       "661581   05.07.2013               6       12    11365    230.000000   \n",
       "2731490  30.07.2015              30       12    11365    230.000000   \n",
       "1398683  06.02.2014              13       12    11365    246.666667   \n",
       "2626123  21.05.2015              28       12    11365    248.333333   \n",
       "2608316  16.04.2015              27       12    11365    249.333333   \n",
       "1058265  29.11.2013              10       12    11365    260.867925   \n",
       "1547374  17.03.2014              14       12    11365    261.052632   \n",
       "1058291  21.11.2013              10       12    11365    263.333333   \n",
       "1175185  19.12.2013              11       12    11365    270.000000   \n",
       "2144511  17.11.2014              22       12    11365    277.500000   \n",
       "2258353  23.12.2014              23       12    11365    277.500000   \n",
       "2048715  24.10.2014              21       12    11365    305.000000   \n",
       "2626120  04.05.2015              28       12    11365    305.000000   \n",
       "302546   07.03.2013               2       12    11365    308.333333   \n",
       "2258351  29.12.2014              23       12    11365    318.000000   \n",
       "2461225  11.02.2015              25       12    11365    357.272727   \n",
       "1547406  20.03.2014              14       12    11365    358.888889   \n",
       "2865537  02.09.2015              32       12    11365    370.000000   \n",
       "2144500  28.11.2014              22       12    11365    377.500000   \n",
       "2865541  14.09.2015              32       12    11365    382.000000   \n",
       "1547373  04.03.2014              14       12    11365    382.000000   \n",
       "2909799  20.10.2015              33       12    11365    384.400000   \n",
       "176547   02.02.2013               1       12    11365    410.000000   \n",
       "1398682  05.02.2014              13       12    11365    426.875000   \n",
       "58352    31.01.2013               0       12    11365    430.000000   \n",
       "2909801  29.10.2015              33       12    11365    437.833333   \n",
       "...             ...             ...      ...      ...           ...   \n",
       "885162   26.09.2013               8       12    11365   2770.000000   \n",
       "176594   19.02.2013               1       12    11365   2770.000000   \n",
       "302560   26.03.2013               2       12    11365   2775.000000   \n",
       "58319    24.01.2013               0       12    11365   3170.000000   \n",
       "661586   19.07.2013               6       12    11365   3240.000000   \n",
       "302561   25.03.2013               2       12    11365   3255.000000   \n",
       "1006895  28.10.2013               9       12    11365   3330.000000   \n",
       "176591   11.02.2013               1       12    11365   3340.000000   \n",
       "565389   05.06.2013               5       12    11365   3780.000000   \n",
       "1175182  06.12.2013              11       12    11365   3840.000000   \n",
       "512063   17.05.2013               4       12    11365   3846.666667   \n",
       "837027   29.08.2013               7       12    11365   3860.000000   \n",
       "885110   03.09.2013               8       12    11365   4038.000000   \n",
       "2531866  13.03.2015              26       12    11365   4110.000000   \n",
       "1547407  21.03.2014              14       12    11365   4140.000000   \n",
       "369830   12.04.2013               3       12    11365   4260.000000   \n",
       "302565   18.03.2013               2       12    11365   4270.000000   \n",
       "2805485  27.08.2015              31       12    11365   4570.000000   \n",
       "837031   13.08.2013               7       12    11365   4610.000000   \n",
       "1006892  21.10.2013               9       12    11365   4840.000000   \n",
       "837028   27.08.2013               7       12    11365   6040.000000   \n",
       "1058290  05.11.2013              10       12    11365   6500.000000   \n",
       "302566   14.03.2013               2       12    11365   6950.000000   \n",
       "885163   25.09.2013               8       12    11365   7240.000000   \n",
       "1006888  10.10.2013               9       12    11365   7750.000000   \n",
       "885161   28.09.2013               8       12    11365   9370.000000   \n",
       "302568   12.03.2013               2       12    11365  10540.000000   \n",
       "885165   23.09.2013               8       12    11365  11880.000000   \n",
       "302544   05.03.2013               2       12    11365  14530.000000   \n",
       "885138   17.09.2013               8       12    11365  59200.000000   \n",
       "\n",
       "         item_cnt_day  \n",
       "1651714           5.0  \n",
       "2805487           2.0  \n",
       "1330776           3.0  \n",
       "1398688           5.0  \n",
       "661581            4.0  \n",
       "2731490           1.0  \n",
       "1398683           9.0  \n",
       "2626123           6.0  \n",
       "2608316          15.0  \n",
       "1058265          53.0  \n",
       "1547374          19.0  \n",
       "1058291           3.0  \n",
       "1175185           8.0  \n",
       "2144511           4.0  \n",
       "2258353           4.0  \n",
       "2048715           4.0  \n",
       "2626120           4.0  \n",
       "302546            6.0  \n",
       "2258351           5.0  \n",
       "2461225          11.0  \n",
       "1547406           9.0  \n",
       "2865537           3.0  \n",
       "2144500           4.0  \n",
       "2865541           5.0  \n",
       "1547373           5.0  \n",
       "2909799          10.0  \n",
       "176547            3.0  \n",
       "1398682          16.0  \n",
       "58352             1.0  \n",
       "2909801           6.0  \n",
       "...               ...  \n",
       "885162            1.0  \n",
       "176594            1.0  \n",
       "302560            2.0  \n",
       "58319             1.0  \n",
       "661586            1.0  \n",
       "302561            2.0  \n",
       "1006895           1.0  \n",
       "176591            1.0  \n",
       "565389            1.0  \n",
       "1175182           1.0  \n",
       "512063            3.0  \n",
       "837027            4.0  \n",
       "885110            5.0  \n",
       "2531866           1.0  \n",
       "1547407           1.0  \n",
       "369830            1.0  \n",
       "302565            1.0  \n",
       "2805485           1.0  \n",
       "837031            1.0  \n",
       "1006892           1.0  \n",
       "837028            1.0  \n",
       "1058290           1.0  \n",
       "302566            1.0  \n",
       "885163            1.0  \n",
       "1006888           1.0  \n",
       "885161            1.0  \n",
       "302568            1.0  \n",
       "885165            1.0  \n",
       "302544            1.0  \n",
       "885138            1.0  \n",
       "\n",
       "[242 rows x 6 columns]"
      ]
     },
     "execution_count": 4,
     "metadata": {},
     "output_type": "execute_result"
    },
    {
     "name": "stderr",
     "output_type": "stream",
     "text": [
      "C:\\ProgramData\\Anaconda3\\lib\\site-packages\\ipykernel_launcher.py:5: SettingWithCopyWarning: \n",
      "A value is trying to be set on a copy of a slice from a DataFrame\n",
      "\n",
      "See the caveats in the documentation: http://pandas.pydata.org/pandas-docs/stable/indexing.html#indexing-view-versus-copy\n",
      "  \"\"\"\n",
      "C:\\ProgramData\\Anaconda3\\lib\\site-packages\\ipykernel_launcher.py:6: SettingWithCopyWarning: \n",
      "A value is trying to be set on a copy of a slice from a DataFrame\n",
      "\n",
      "See the caveats in the documentation: http://pandas.pydata.org/pandas-docs/stable/indexing.html#indexing-view-versus-copy\n",
      "  \n",
      "C:\\ProgramData\\Anaconda3\\lib\\site-packages\\ipykernel_launcher.py:7: SettingWithCopyWarning: \n",
      "A value is trying to be set on a copy of a slice from a DataFrame\n",
      "\n",
      "See the caveats in the documentation: http://pandas.pydata.org/pandas-docs/stable/indexing.html#indexing-view-versus-copy\n",
      "  import sys\n",
      "C:\\ProgramData\\Anaconda3\\lib\\site-packages\\ipykernel_launcher.py:8: SettingWithCopyWarning: \n",
      "A value is trying to be set on a copy of a slice from a DataFrame\n",
      "\n",
      "See the caveats in the documentation: http://pandas.pydata.org/pandas-docs/stable/indexing.html#indexing-view-versus-copy\n",
      "  \n",
      "C:\\ProgramData\\Anaconda3\\lib\\site-packages\\ipykernel_launcher.py:9: SettingWithCopyWarning: \n",
      "A value is trying to be set on a copy of a slice from a DataFrame\n",
      "\n",
      "See the caveats in the documentation: http://pandas.pydata.org/pandas-docs/stable/indexing.html#indexing-view-versus-copy\n",
      "  if __name__ == '__main__':\n",
      "C:\\ProgramData\\Anaconda3\\lib\\site-packages\\ipykernel_launcher.py:10: SettingWithCopyWarning: \n",
      "A value is trying to be set on a copy of a slice from a DataFrame\n",
      "\n",
      "See the caveats in the documentation: http://pandas.pydata.org/pandas-docs/stable/indexing.html#indexing-view-versus-copy\n",
      "  # Remove the CWD from sys.path while we load stuff.\n"
     ]
    }
   ],
   "source": [
    "sales_train_df[sales_train_df['item_id'] == 11373][['item_price']].sort_values(['item_price'])\n",
    "sales_train_df[sales_train_df['item_id'] == 11365].sort_values(['item_price'])\n",
    "\n",
    "# Correcting sales_train_df values\n",
    "sales_train_df['item_price'][2909818] = np.nan\n",
    "sales_train_df['item_cnt_day'][2909818] = np.nan\n",
    "sales_train_df['item_price'][2909818] = sales_train_df[(sales_train_df['shop_id'] ==12) & (sales_train_df['item_id'] == 11373) & (sales_train_df['date_block_num'] == 33)]['item_price'].median()\n",
    "sales_train_df['item_cnt_day'][2909818] = round(sales_train_df[(sales_train_df['shop_id'] ==12) & (sales_train_df['item_id'] == 11373) & (sales_train_df['date_block_num'] == 33)]['item_cnt_day'].median())\n",
    "sales_train_df['item_price'][885138] = np.nan\n",
    "sales_train_df['item_price'][885138] = sales_train_df[(sales_train_df['item_id'] == 11365) & (sales_train_df['shop_id'] ==12) & (sales_train_df['date_block_num'] == 8)]['item_price'].median()\n",
    "\n",
    "\n",
    "sales_train_df = sales_train_df.merge(test_df[['shop_id']].drop_duplicates(), how = 'inner')\n",
    "sales_train_df['date'] = pd.to_datetime(sales_train_df['date'], format = '%d.%m.%Y')"
   ]
  },
  {
   "cell_type": "markdown",
   "metadata": {},
   "source": [
    "### 3. Feature Engineering and data aggregation\n",
    "\n",
    " For every month we create a grid from all shops/items combinations from that month\n"
   ]
  },
  {
   "cell_type": "code",
   "execution_count": 5,
   "metadata": {},
   "outputs": [],
   "source": [
    "\n",
    "grid = []\n",
    "\n",
    "for block_num in sales_train_df['date_block_num'].unique():\n",
    "\n",
    "    cur_shops = sales_train_df[sales_train_df['date_block_num']==block_num]['shop_id'].unique()\n",
    "    cur_items = sales_train_df[sales_train_df['date_block_num']==block_num]['item_id'].unique()\n",
    "    grid.append(np.array(list(product(*[cur_shops, cur_items, [block_num]])),dtype='int32'))\n",
    "\n",
    "#Convert the grid into pandas dataframe\n",
    "index_cols = ['shop_id', 'item_id', 'date_block_num']\n",
    "grid = pd.DataFrame(np.vstack(grid), columns = index_cols,dtype=np.int32)"
   ]
  },
  {
   "cell_type": "code",
   "execution_count": 6,
   "metadata": {},
   "outputs": [],
   "source": [
    "def dcast_dtypes(df):\n",
    "    float_cols = [c for c in df if df[c].dtype == \"float64\"]\n",
    "    int_cols =   [c for c in df if df[c].dtype in [\"int64\", \"int32\"]]\n",
    "    df[float_cols] = df[float_cols].astype(np.float32)\n",
    "    df[int_cols]   = df[int_cols].astype(np.int16)\n",
    "\n",
    "    return df"
   ]
  },
  {
   "cell_type": "code",
   "execution_count": 7,
   "metadata": {},
   "outputs": [
    {
     "data": {
      "text/plain": [
       "2934456.0"
      ]
     },
     "execution_count": 7,
     "metadata": {},
     "output_type": "execute_result"
    },
    {
     "data": {
      "text/plain": [
       "2671279"
      ]
     },
     "execution_count": 7,
     "metadata": {},
     "output_type": "execute_result"
    },
    {
     "data": {
      "text/plain": [
       "2671279"
      ]
     },
     "execution_count": 7,
     "metadata": {},
     "output_type": "execute_result"
    },
    {
     "data": {
      "text/html": [
       "<div>\n",
       "<style scoped>\n",
       "    .dataframe tbody tr th:only-of-type {\n",
       "        vertical-align: middle;\n",
       "    }\n",
       "\n",
       "    .dataframe tbody tr th {\n",
       "        vertical-align: top;\n",
       "    }\n",
       "\n",
       "    .dataframe thead th {\n",
       "        text-align: right;\n",
       "    }\n",
       "</style>\n",
       "<table border=\"1\" class=\"dataframe\">\n",
       "  <thead>\n",
       "    <tr style=\"text-align: right;\">\n",
       "      <th></th>\n",
       "      <th>shop_id</th>\n",
       "      <th>item_id</th>\n",
       "      <th>date_block_num</th>\n",
       "      <th>item_cnt_month</th>\n",
       "    </tr>\n",
       "  </thead>\n",
       "  <tbody>\n",
       "    <tr>\n",
       "      <th>84203</th>\n",
       "      <td>2</td>\n",
       "      <td>19</td>\n",
       "      <td>0</td>\n",
       "      <td>0</td>\n",
       "    </tr>\n",
       "    <tr>\n",
       "      <th>86531</th>\n",
       "      <td>2</td>\n",
       "      <td>27</td>\n",
       "      <td>0</td>\n",
       "      <td>1</td>\n",
       "    </tr>\n",
       "    <tr>\n",
       "      <th>88912</th>\n",
       "      <td>2</td>\n",
       "      <td>28</td>\n",
       "      <td>0</td>\n",
       "      <td>0</td>\n",
       "    </tr>\n",
       "    <tr>\n",
       "      <th>87693</th>\n",
       "      <td>2</td>\n",
       "      <td>29</td>\n",
       "      <td>0</td>\n",
       "      <td>0</td>\n",
       "    </tr>\n",
       "    <tr>\n",
       "      <th>83623</th>\n",
       "      <td>2</td>\n",
       "      <td>32</td>\n",
       "      <td>0</td>\n",
       "      <td>0</td>\n",
       "    </tr>\n",
       "  </tbody>\n",
       "</table>\n",
       "</div>"
      ],
      "text/plain": [
       "       shop_id  item_id  date_block_num  item_cnt_month\n",
       "84203        2       19               0               0\n",
       "86531        2       27               0               1\n",
       "88912        2       28               0               0\n",
       "87693        2       29               0               0\n",
       "83623        2       32               0               0"
      ]
     },
     "execution_count": 7,
     "metadata": {},
     "output_type": "execute_result"
    }
   ],
   "source": [
    "index_cols = ['shop_id', 'item_id', 'date_block_num']\n",
    "\n",
    "sales_train_df['item_cnt_day'] = sales_train_df['item_cnt_day'].clip(0,20)\n",
    "\n",
    "gb_cnt = sales_train_df.groupby(index_cols)['item_cnt_day'].agg(['sum']).reset_index().rename(columns = {'sum': 'item_cnt_month'})\n",
    "\n",
    "gb_cnt['item_cnt_month'] = gb_cnt['item_cnt_month'].clip(0,20).astype(np.int)\n",
    "\n",
    "#join aggregated data to the grid\n",
    "train = pd.merge(grid,gb_cnt,how='left',on=index_cols).fillna(0)\n",
    "train['item_cnt_month'] = train['item_cnt_month'].astype(int)\n",
    "\n",
    "train = dcast_dtypes(train)\n",
    "\n",
    "#sort the data\n",
    "train.sort_values(['date_block_num','shop_id','item_id'],inplace=True)\n",
    "\n",
    "## Sanity check\n",
    "sales_train_df['item_cnt_day'].sum()\n",
    "train['item_cnt_month'].sum()\n",
    "gb_cnt['item_cnt_month'].sum()\n",
    "\n",
    "train.head()"
   ]
  },
  {
   "cell_type": "code",
   "execution_count": 8,
   "metadata": {},
   "outputs": [],
   "source": [
    "\n",
    "train = train.merge(items_df[['item_id', 'item_category_id']], on = ['item_id'], how = 'left')\n",
    "test = test_df.merge(items_df[['item_id', 'item_category_id']], on = ['item_id'], how = 'left')\n"
   ]
  },
  {
   "cell_type": "markdown",
   "metadata": {},
   "source": [
    "Recode item_category_name using translations from google translate"
   ]
  },
  {
   "cell_type": "code",
   "execution_count": 9,
   "metadata": {},
   "outputs": [
    {
     "data": {
      "text/plain": [
       "array([12,  0,  0,  0,  0,  0,  0, 18, 17,  6,  7,  7,  7,  7,  7,  7,  7,\n",
       "       19,  8,  8,  8,  8,  8,  8, 20,  1,  2, 13, 13, 13, 13, 21, 14, 14,\n",
       "       14, 14, 22, 10, 10, 10, 10, 23,  4,  4,  4,  4,  4,  4,  4,  4,  4,\n",
       "        4,  4,  4, 24, 11, 11, 11, 11, 11, 25,  9,  9,  9,  9,  9,  9,  9,\n",
       "        9,  9,  9,  9, 26, 16, 16, 16, 16, 16, 27, 15, 28,  5, 29,  3],\n",
       "      dtype=int64)"
      ]
     },
     "execution_count": 9,
     "metadata": {},
     "output_type": "execute_result"
    }
   ],
   "source": [
    "l_cat = list(item_cat_df.item_category_name)\n",
    "\n",
    "for ind in range(0,1):\n",
    "    l_cat[ind] = 'PC - Headsets / Headphones'\n",
    "\n",
    "for ind in range(1,7):\n",
    "    l_cat[ind] = 'Accessories'\n",
    "\n",
    "l_cat[8] = 'Tickets (Digital)'\n",
    "\n",
    "l_cat[9] = 'Delivery of goods'\n",
    "\n",
    "for ind in range(10,17):\n",
    "    l_cat[ind] = 'Game Consoles'\n",
    "\n",
    "for ind in range(18,24):\n",
    "    l_cat[ind] = 'Games'\n",
    "\n",
    "l_cat[25] = 'Accessories for games'\n",
    "l_cat[26] = 'Android Games'\n",
    "\n",
    "for ind in range(27,31):\n",
    "    l_cat[ind] = 'PC games'\n",
    "\n",
    "for ind in range(32,36):\n",
    "    l_cat[ind] = 'Payment Card'\n",
    "\n",
    "for ind in range(37,41):\n",
    "    l_cat[ind] = 'Movie'\n",
    "\n",
    "for ind in range(42,54):\n",
    "    l_cat[ind] = 'Books'\n",
    "\n",
    "for ind in range(55,60):\n",
    "    l_cat[ind] = 'Music'\n",
    "\n",
    "for ind in range(61,72):\n",
    "    l_cat[ind] = 'Gifts'\n",
    "\n",
    "for ind in range(73,78):\n",
    "    l_cat[ind] = 'Softwares'\n",
    "\n",
    "for ind in range(79,80):\n",
    "    l_cat[ind] = 'Service'\n",
    "\n",
    "for ind in range(81,82):\n",
    "    l_cat[ind] = 'Cleaning'\n",
    "\n",
    "l_cat[83] = 'Batteries'\n",
    "\n",
    "\n",
    "from sklearn import preprocessing\n",
    "\n",
    "lb = preprocessing.LabelEncoder()\n",
    "\n",
    "lb.fit_transform(l_cat)\n",
    "\n",
    "item_cat_df['item_cat_id_fix'] = lb.fit_transform(l_cat)\n",
    "\n"
   ]
  },
  {
   "cell_type": "code",
   "execution_count": 10,
   "metadata": {},
   "outputs": [],
   "source": [
    "train = train.merge(item_cat_df[['item_cat_id_fix', 'item_category_id']], on = ['item_category_id'], how = 'left')\n",
    "\n",
    "test = test.merge(item_cat_df[['item_cat_id_fix', 'item_category_id']], on = ['item_category_id'], how = 'left')"
   ]
  },
  {
   "cell_type": "markdown",
   "metadata": {},
   "source": [
    "#### Add mean-encoded features\n",
    "This step also checks for coorelation of mean encoded features with target variable, to ensure there is no target leakage"
   ]
  },
  {
   "cell_type": "code",
   "execution_count": 11,
   "metadata": {},
   "outputs": [],
   "source": [
    "Validation = False"
   ]
  },
  {
   "cell_type": "code",
   "execution_count": 12,
   "metadata": {},
   "outputs": [
    {
     "name": "stderr",
     "output_type": "stream",
     "text": [
      "  0%|          | 0/4 [00:00<?, ?it/s]C:\\ProgramData\\Anaconda3\\lib\\site-packages\\ipykernel_launcher.py:19: SettingWithCopyWarning: \n",
      "A value is trying to be set on a copy of a slice from a DataFrame.\n",
      "Try using .loc[row_indexer,col_indexer] = value instead\n",
      "\n",
      "See the caveats in the documentation: http://pandas.pydata.org/pandas-docs/stable/indexing.html#indexing-view-versus-copy\n",
      "C:\\ProgramData\\Anaconda3\\lib\\site-packages\\ipykernel_launcher.py:24: SettingWithCopyWarning: \n",
      "A value is trying to be set on a copy of a slice from a DataFrame.\n",
      "Try using .loc[row_indexer,col_indexer] = value instead\n",
      "\n",
      "See the caveats in the documentation: http://pandas.pydata.org/pandas-docs/stable/indexing.html#indexing-view-versus-copy\n",
      "C:\\ProgramData\\Anaconda3\\lib\\site-packages\\pandas\\core\\indexing.py:543: SettingWithCopyWarning: \n",
      "A value is trying to be set on a copy of a slice from a DataFrame.\n",
      "Try using .loc[row_indexer,col_indexer] = value instead\n",
      "\n",
      "See the caveats in the documentation: http://pandas.pydata.org/pandas-docs/stable/indexing.html#indexing-view-versus-copy\n",
      "  self.obj[item] = s\n",
      "C:\\ProgramData\\Anaconda3\\lib\\site-packages\\pandas\\core\\frame.py:3790: SettingWithCopyWarning: \n",
      "A value is trying to be set on a copy of a slice from a DataFrame\n",
      "\n",
      "See the caveats in the documentation: http://pandas.pydata.org/pandas-docs/stable/indexing.html#indexing-view-versus-copy\n",
      "  downcast=downcast, **kwargs)\n",
      "C:\\ProgramData\\Anaconda3\\lib\\site-packages\\ipykernel_launcher.py:35: SettingWithCopyWarning: \n",
      "A value is trying to be set on a copy of a slice from a DataFrame.\n",
      "Try using .loc[row_indexer,col_indexer] = value instead\n",
      "\n",
      "See the caveats in the documentation: http://pandas.pydata.org/pandas-docs/stable/indexing.html#indexing-view-versus-copy\n",
      "C:\\ProgramData\\Anaconda3\\lib\\site-packages\\ipykernel_launcher.py:36: SettingWithCopyWarning: \n",
      "A value is trying to be set on a copy of a slice from a DataFrame.\n",
      "Try using .loc[row_indexer,col_indexer] = value instead\n",
      "\n",
      "See the caveats in the documentation: http://pandas.pydata.org/pandas-docs/stable/indexing.html#indexing-view-versus-copy\n"
     ]
    },
    {
     "name": "stdout",
     "output_type": "stream",
     "text": [
      "                                       Cor\n",
      "shop_id_cnt_month_mean_Kfold      0.173370\n",
      "shop_id_target_mean_LOO           0.175547\n",
      "shop_id_cnt_month_mean_Smooth     0.175572\n",
      "shop_id_cnt_month_mean_Expanding  0.175746\n"
     ]
    },
    {
     "name": "stderr",
     "output_type": "stream",
     "text": [
      " 25%|██▌       | 1/4 [00:11<00:35, 11.75s/it]C:\\ProgramData\\Anaconda3\\lib\\site-packages\\ipykernel_launcher.py:38: SettingWithCopyWarning: \n",
      "A value is trying to be set on a copy of a slice from a DataFrame.\n",
      "Try using .loc[row_indexer,col_indexer] = value instead\n",
      "\n",
      "See the caveats in the documentation: http://pandas.pydata.org/pandas-docs/stable/indexing.html#indexing-view-versus-copy\n"
     ]
    },
    {
     "name": "stdout",
     "output_type": "stream",
     "text": [
      "                                       Cor\n",
      "item_id_cnt_month_mean_Kfold      0.315862\n",
      "item_id_cnt_month_mean_Smooth     0.479840\n",
      "item_id_target_mean_LOO           0.481937\n",
      "item_id_cnt_month_mean_Expanding  0.565646\n"
     ]
    },
    {
     "name": "stderr",
     "output_type": "stream",
     "text": [
      " 50%|█████     | 2/4 [00:25<00:24, 12.28s/it]C:\\ProgramData\\Anaconda3\\lib\\site-packages\\ipykernel_launcher.py:47: SettingWithCopyWarning: \n",
      "A value is trying to be set on a copy of a slice from a DataFrame.\n",
      "Try using .loc[row_indexer,col_indexer] = value instead\n",
      "\n",
      "See the caveats in the documentation: http://pandas.pydata.org/pandas-docs/stable/indexing.html#indexing-view-versus-copy\n",
      "C:\\ProgramData\\Anaconda3\\lib\\site-packages\\ipykernel_launcher.py:48: SettingWithCopyWarning: \n",
      "A value is trying to be set on a copy of a slice from a DataFrame.\n",
      "Try using .loc[row_indexer,col_indexer] = value instead\n",
      "\n",
      "See the caveats in the documentation: http://pandas.pydata.org/pandas-docs/stable/indexing.html#indexing-view-versus-copy\n"
     ]
    },
    {
     "name": "stdout",
     "output_type": "stream",
     "text": [
      "                                                Cor\n",
      "item_category_id_cnt_month_mean_Kfold      0.274072\n",
      "item_category_id_cnt_month_mean_Smooth     0.292732\n",
      "item_category_id_target_mean_LOO           0.292778\n",
      "item_category_id_cnt_month_mean_Expanding  0.296104\n"
     ]
    },
    {
     "name": "stderr",
     "output_type": "stream",
     "text": [
      " 75%|███████▌  | 3/4 [00:44<00:14, 14.31s/it]C:\\ProgramData\\Anaconda3\\lib\\site-packages\\ipykernel_launcher.py:51: SettingWithCopyWarning: \n",
      "A value is trying to be set on a copy of a slice from a DataFrame.\n",
      "Try using .loc[row_indexer,col_indexer] = value instead\n",
      "\n",
      "See the caveats in the documentation: http://pandas.pydata.org/pandas-docs/stable/indexing.html#indexing-view-versus-copy\n",
      "C:\\ProgramData\\Anaconda3\\lib\\site-packages\\pandas\\core\\generic.py:5434: SettingWithCopyWarning: \n",
      "A value is trying to be set on a copy of a slice from a DataFrame\n",
      "\n",
      "See the caveats in the documentation: http://pandas.pydata.org/pandas-docs/stable/indexing.html#indexing-view-versus-copy\n",
      "  self._update_inplace(new_data)\n"
     ]
    },
    {
     "name": "stdout",
     "output_type": "stream",
     "text": [
      "                                               Cor\n",
      "item_cat_id_fix_cnt_month_mean_Kfold      0.207511\n",
      "item_cat_id_fix_target_mean_LOO           0.218750\n",
      "item_cat_id_fix_cnt_month_mean_Smooth     0.218758\n",
      "item_cat_id_fix_cnt_month_mean_Expanding  0.219135\n"
     ]
    },
    {
     "name": "stderr",
     "output_type": "stream",
     "text": [
      "100%|██████████| 4/4 [01:02<00:00, 15.33s/it]\n"
     ]
    }
   ],
   "source": [
    "\n",
    "# For Trainset\n",
    "Target = 'item_cnt_month'\n",
    "global_mean =  train[Target].mean()\n",
    "y_tr = train[Target].values\n",
    "\n",
    "mean_encoded_col = ['shop_id', 'item_id', 'item_category_id', 'item_cat_id_fix']\n",
    "\n",
    "for col in tqdm(mean_encoded_col):\n",
    "\n",
    "    col_tr = train[[col] + [Target]]\n",
    "    corrcoefs = pd.DataFrame(columns = ['Cor'])\n",
    "\n",
    "    #1 Mean encodings - K-Fold Schema\n",
    "    from sklearn import model_selection\n",
    "\n",
    "    kf = model_selection.KFold(5, shuffle = False, random_state = 0)\n",
    "\n",
    "    col_tr[col + '_cnt_month_mean_Kfold'] = global_mean\n",
    "\n",
    "    for tr_ind, val_ind in kf.split(col_tr):\n",
    "        X_tr, X_val = col_tr.iloc[tr_ind], col_tr.iloc[val_ind]\n",
    "        means = X_val[col].map(X_tr.groupby(col)[Target].mean())\n",
    "        X_val[col + '_cnt_month_mean_Kfold'] = means\n",
    "        col_tr.iloc[val_ind] = X_val        \n",
    "        \n",
    "\n",
    "    col_tr.fillna(global_mean, inplace = True)\n",
    "    corrcoefs.loc[col + '_cnt_month_mean_Kfold'] = np.corrcoef(y_tr, col_tr[col + '_cnt_month_mean_Kfold'])[0][1]\n",
    "\n",
    "    #2 Mean encodings - Leave-one-out scheme\n",
    "    item_id_target_sum = col_tr.groupby(col)[Target].sum()\n",
    "    item_id_target_count = col_tr.groupby(col)[Target].count()\n",
    "\n",
    "    col_tr[col + '_cnt_month_sum'] = col_tr[col].map(item_id_target_sum)\n",
    "    col_tr[col + '_cnt_month_count'] = col_tr[col].map(item_id_target_count)\n",
    "\n",
    "    col_tr[col + '_target_mean_LOO'] = (col_tr[col + '_cnt_month_sum'] - col_tr[Target]) / (col_tr[col + '_cnt_month_count'] - 1)\n",
    "    col_tr.fillna(global_mean, inplace = True)\n",
    "\n",
    "    corrcoefs.loc[col + '_target_mean_LOO'] = np.corrcoef(y_tr, col_tr[col + '_target_mean_LOO'])[0][1]\n",
    "\n",
    "\n",
    "    #3 Mean encodings - Smoothing\n",
    "    item_id_target_mean = col_tr.groupby(col)[Target].mean()\n",
    "    item_id_target_count = col_tr.groupby(col)[Target].count()\n",
    "    col_tr[col + '_cnt_month_mean'] = col_tr[col].map(item_id_target_mean)\n",
    "    col_tr[col + '_cnt_month_count'] = col_tr[col].map(item_id_target_count)\n",
    "    alpha = 100\n",
    "\n",
    "    col_tr[col + '_cnt_month_mean_Smooth'] = (col_tr[col + '_cnt_month_mean'] *  col_tr[col + '_cnt_month_count'] + global_mean * alpha) / (alpha + col_tr[col + '_cnt_month_count'])\n",
    "\n",
    "    col_tr[col + '_cnt_month_mean_Smooth'].fillna(global_mean, inplace=True)\n",
    "\n",
    "    corrcoefs.loc[col + '_cnt_month_mean_Smooth'] = np.corrcoef(y_tr, col_tr[col + '_cnt_month_mean_Smooth'])[0][1]\n",
    "\n",
    "\n",
    "    #4 Mean encodings - Expanding mean scheme\n",
    "    cumsum = col_tr.groupby(col)[Target].cumsum() - col_tr[Target]\n",
    "    sumcnt = col_tr.groupby(col).cumcount()\n",
    "    col_tr[col + '_cnt_month_mean_Expanding'] = cumsum / sumcnt\n",
    "    col_tr[col + '_cnt_month_mean_Expanding'].fillna(global_mean, inplace=True)\n",
    "    corrcoefs.loc[col + '_cnt_month_mean_Expanding'] = np.corrcoef(y_tr, col_tr[col + '_cnt_month_mean_Expanding'])[0][1]\n",
    "   \n",
    "    \n",
    "    train = pd.concat([train, col_tr[corrcoefs['Cor'].idxmax()]], axis = 1)\n",
    "\n",
    "    print(corrcoefs.sort_values('Cor'))"
   ]
  },
  {
   "cell_type": "markdown",
   "metadata": {},
   "source": [
    "If Validation = False, full training set is used for modelling"
   ]
  },
  {
   "cell_type": "code",
   "execution_count": 14,
   "metadata": {},
   "outputs": [
    {
     "name": "stderr",
     "output_type": "stream",
     "text": [
      "C:\\ProgramData\\Anaconda3\\lib\\site-packages\\ipykernel_launcher.py:3: FutureWarning: Sorting because non-concatenation axis is not aligned. A future version\n",
      "of pandas will change to not sort by default.\n",
      "\n",
      "To accept the future behavior, pass 'sort=False'.\n",
      "\n",
      "To retain the current behavior and silence the warning, pass 'sort=True'.\n",
      "\n",
      "  This is separate from the ipykernel package so we can avoid doing imports until\n"
     ]
    }
   ],
   "source": [
    "if Validation == False:\n",
    "    test['date_block_num'] = 34\n",
    "    all_data = pd.concat([train, test], axis = 0)\n",
    "    all_data = all_data.drop(columns = ['ID'])\n",
    "\n",
    "else:\n",
    "    all_data = train\n",
    "\n",
    "all_data = dcast_dtypes(all_data)"
   ]
  },
  {
   "cell_type": "markdown",
   "metadata": {},
   "source": [
    "#### Creating item/shop pair lags lag-based features "
   ]
  },
  {
   "cell_type": "code",
   "execution_count": 15,
   "metadata": {},
   "outputs": [
    {
     "name": "stdout",
     "output_type": "stream",
     "text": [
      "['item_cat_id_fix_cnt_month_mean_Expanding', 'item_category_id_cnt_month_mean_Expanding', 'item_cnt_month', 'item_id_cnt_month_mean_Expanding', 'shop_id_cnt_month_mean_Expanding']\n"
     ]
    },
    {
     "name": "stderr",
     "output_type": "stream",
     "text": [
      "100%|██████████| 5/5 [01:12<00:00, 13.82s/it]\n"
     ]
    }
   ],
   "source": [
    "\n",
    "index_cols = ['shop_id', 'item_id', 'item_category_id', 'item_cat_id_fix', 'date_block_num']\n",
    "\n",
    "cols_to_rename = list(all_data.columns.difference(index_cols))\n",
    "\n",
    "print(cols_to_rename)\n",
    "\n",
    "shift_range = [1, 2, 3, 4, 12]\n",
    "\n",
    "for month_shift in tqdm(shift_range):\n",
    "    train_shift = all_data[index_cols + cols_to_rename].copy()\n",
    "    train_shift['date_block_num'] = train_shift['date_block_num'] + month_shift\n",
    "    foo = lambda x: '{}_lag_{}'.format(x, month_shift) if x in cols_to_rename else x\n",
    "    train_shift = train_shift.rename(columns=foo)\n",
    "    all_data = pd.merge(all_data, train_shift, on=index_cols, how='left').fillna(0)\n",
    "\n",
    "all_data = all_data[all_data['date_block_num'] >= 12] # Don't use old data from year 2013\n",
    "\n",
    "lag_cols = [col for col in all_data.columns if col[-1] in [str(item) for item in shift_range]]\n",
    "\n",
    "all_data = dcast_dtypes(all_data)"
   ]
  },
  {
   "cell_type": "markdown",
   "metadata": {},
   "source": [
    "#### Add date features\n"
   ]
  },
  {
   "cell_type": "code",
   "execution_count": 16,
   "metadata": {},
   "outputs": [
    {
     "name": "stderr",
     "output_type": "stream",
     "text": [
      "C:\\ProgramData\\Anaconda3\\lib\\site-packages\\ipykernel_launcher.py:4: SettingWithCopyWarning: \n",
      "A value is trying to be set on a copy of a slice from a DataFrame.\n",
      "Try using .loc[row_indexer,col_indexer] = value instead\n",
      "\n",
      "See the caveats in the documentation: http://pandas.pydata.org/pandas-docs/stable/indexing.html#indexing-view-versus-copy\n",
      "  after removing the cwd from sys.path.\n",
      "C:\\ProgramData\\Anaconda3\\lib\\site-packages\\ipykernel_launcher.py:5: SettingWithCopyWarning: \n",
      "A value is trying to be set on a copy of a slice from a DataFrame.\n",
      "Try using .loc[row_indexer,col_indexer] = value instead\n",
      "\n",
      "See the caveats in the documentation: http://pandas.pydata.org/pandas-docs/stable/indexing.html#indexing-view-versus-copy\n",
      "  \"\"\"\n"
     ]
    },
    {
     "data": {
      "text/plain": [
       "date              datetime64[ns]\n",
       "date_block_num             int64\n",
       "dtype: object"
      ]
     },
     "execution_count": 16,
     "metadata": {},
     "output_type": "execute_result"
    }
   ],
   "source": [
    "dates_train = sales_train_df[['date', 'date_block_num']].drop_duplicates()\n",
    "dates_test = dates_train[dates_train['date_block_num'] == 34-12]\n",
    "\n",
    "dates_test['date_block_num'] = 34\n",
    "dates_test['date'] = dates_test['date'] + pd.DateOffset(years=1)\n",
    "dates_test.dtypes\n",
    "dates_all = pd.concat([dates_train, dates_test])\n",
    "\n",
    "\n",
    "dates_all['dow'] = dates_all['date'].dt.dayofweek\n",
    "dates_all['year'] = dates_all['date'].dt.year\n",
    "dates_all['month'] = dates_all['date'].dt.month\n",
    "dates_all = pd.get_dummies(dates_all, columns=['dow'])\n",
    "\n",
    "dow_col = ['dow_' + str(x) for x in range(7)]\n",
    "\n",
    "date_features = dates_all.groupby(['year', 'month', 'date_block_num'])[dow_col].agg('sum').reset_index()\n",
    "\n",
    "date_features['days_of_month'] = date_features[dow_col].sum(axis=1)\n",
    "\n",
    "date_features['year'] = date_features['year'] - 2013\n",
    "\n",
    "\n",
    "\n",
    "date_features = date_features[['month', 'year', 'days_of_month', 'date_block_num']]\n",
    "\n",
    "all_data = all_data.merge(date_features, on = 'date_block_num', how = 'left')\n",
    "\n",
    "date_columns = date_features.columns.difference(set(index_cols))\n"
   ]
  },
  {
   "cell_type": "markdown",
   "metadata": {},
   "source": [
    "#### Scale feature columns"
   ]
  },
  {
   "cell_type": "code",
   "execution_count": 17,
   "metadata": {},
   "outputs": [
    {
     "name": "stderr",
     "output_type": "stream",
     "text": [
      "C:\\ProgramData\\Anaconda3\\lib\\site-packages\\sklearn\\preprocessing\\data.py:625: DataConversionWarning: Data with input dtype int16, float32, int64 were all converted to float64 by StandardScaler.\n",
      "  return self.partial_fit(X, y)\n",
      "C:\\ProgramData\\Anaconda3\\lib\\site-packages\\sklearn\\base.py:462: DataConversionWarning: Data with input dtype int16, float32, int64 were all converted to float64 by StandardScaler.\n",
      "  return self.fit(X, **fit_params).transform(X)\n",
      "C:\\ProgramData\\Anaconda3\\lib\\site-packages\\ipykernel_launcher.py:13: SettingWithCopyWarning: \n",
      "A value is trying to be set on a copy of a slice from a DataFrame.\n",
      "Try using .loc[row_indexer,col_indexer] = value instead\n",
      "\n",
      "See the caveats in the documentation: http://pandas.pydata.org/pandas-docs/stable/indexing.html#indexing-view-versus-copy\n",
      "  del sys.path[0]\n",
      "C:\\ProgramData\\Anaconda3\\lib\\site-packages\\pandas\\core\\indexing.py:543: SettingWithCopyWarning: \n",
      "A value is trying to be set on a copy of a slice from a DataFrame.\n",
      "Try using .loc[row_indexer,col_indexer] = value instead\n",
      "\n",
      "See the caveats in the documentation: http://pandas.pydata.org/pandas-docs/stable/indexing.html#indexing-view-versus-copy\n",
      "  self.obj[item] = s\n",
      "C:\\ProgramData\\Anaconda3\\lib\\site-packages\\ipykernel_launcher.py:15: DataConversionWarning: Data with input dtype int16, float32, int64 were all converted to float64 by StandardScaler.\n",
      "  from ipykernel import kernelapp as app\n",
      "C:\\ProgramData\\Anaconda3\\lib\\site-packages\\ipykernel_launcher.py:15: SettingWithCopyWarning: \n",
      "A value is trying to be set on a copy of a slice from a DataFrame.\n",
      "Try using .loc[row_indexer,col_indexer] = value instead\n",
      "\n",
      "See the caveats in the documentation: http://pandas.pydata.org/pandas-docs/stable/indexing.html#indexing-view-versus-copy\n",
      "  from ipykernel import kernelapp as app\n",
      "C:\\ProgramData\\Anaconda3\\lib\\site-packages\\pandas\\core\\indexing.py:543: SettingWithCopyWarning: \n",
      "A value is trying to be set on a copy of a slice from a DataFrame.\n",
      "Try using .loc[row_indexer,col_indexer] = value instead\n",
      "\n",
      "See the caveats in the documentation: http://pandas.pydata.org/pandas-docs/stable/indexing.html#indexing-view-versus-copy\n",
      "  self.obj[item] = s\n"
     ]
    }
   ],
   "source": [
    "from sklearn.preprocessing import StandardScaler\n",
    "\n",
    "train = all_data[all_data['date_block_num']!= all_data['date_block_num'].max()]\n",
    "\n",
    "test = all_data[all_data['date_block_num']== all_data['date_block_num'].max()]\n",
    "\n",
    "sc = StandardScaler()\n",
    "\n",
    "to_drop_cols = ['date_block_num']\n",
    "\n",
    "feature_columns = list(set(lag_cols + index_cols + list(date_columns)).difference(to_drop_cols))\n",
    "\n",
    "train[feature_columns] = sc.fit_transform(train[feature_columns])\n",
    "\n",
    "test[feature_columns] = sc.transform(test[feature_columns])\n",
    "\n",
    "all_data = pd.concat([train, test], axis = 0)\n",
    "all_data = dcast_dtypes(all_data)"
   ]
  },
  {
   "cell_type": "markdown",
   "metadata": {},
   "source": [
    "## 4. Modelling\n",
    "\n",
    "We create 3 first level models, results from these first level models are passed onto level 2 models for ensabling"
   ]
  },
  {
   "cell_type": "code",
   "execution_count": 18,
   "metadata": {},
   "outputs": [
    {
     "name": "stdout",
     "output_type": "stream",
     "text": [
      "Test `date_block_num` is 34\n",
      "['item_cnt_month_lag_3', 'item_cat_id_fix_cnt_month_mean_Expanding_lag_2', 'month', 'item_cat_id_fix_cnt_month_mean_Expanding_lag_4', 'item_cat_id_fix_cnt_month_mean_Expanding_lag_3', 'shop_id_cnt_month_mean_Expanding_lag_3', 'shop_id_cnt_month_mean_Expanding_lag_2', 'shop_id_cnt_month_mean_Expanding_lag_12', 'year', 'item_cat_id_fix_cnt_month_mean_Expanding_lag_12', 'item_id_cnt_month_mean_Expanding_lag_3', 'item_cnt_month_lag_4', 'item_cat_id_fix', 'shop_id', 'item_category_id_cnt_month_mean_Expanding_lag_12', 'days_of_month', 'item_category_id_cnt_month_mean_Expanding_lag_1', 'item_cat_id_fix_cnt_month_mean_Expanding_lag_1', 'item_id', 'item_category_id', 'item_id_cnt_month_mean_Expanding_lag_12', 'shop_id_cnt_month_mean_Expanding_lag_4', 'item_id_cnt_month_mean_Expanding_lag_4', 'item_category_id_cnt_month_mean_Expanding_lag_4', 'item_cnt_month_lag_2', 'item_cnt_month_lag_1', 'item_id_cnt_month_mean_Expanding_lag_2', 'item_id_cnt_month_mean_Expanding_lag_1', 'item_category_id_cnt_month_mean_Expanding_lag_2', 'item_category_id_cnt_month_mean_Expanding_lag_3', 'shop_id_cnt_month_mean_Expanding_lag_1', 'item_cnt_month_lag_12']\n"
     ]
    },
    {
     "name": "stderr",
     "output_type": "stream",
     "text": [
      "\r",
      "  0%|          | 0/8 [00:00<?, ?it/s]"
     ]
    },
    {
     "name": "stdout",
     "output_type": "stream",
     "text": [
      "--------------------------------------------------\n",
      "Start training for month27\n",
      "Training Model 0: SGDRegressor\n"
     ]
    },
    {
     "name": "stderr",
     "output_type": "stream",
     "text": [
      "C:\\ProgramData\\Anaconda3\\lib\\site-packages\\sklearn\\linear_model\\stochastic_gradient.py:166: FutureWarning: max_iter and tol parameters have been added in SGDRegressor in 0.19. If both are left unset, they default to max_iter=5 and tol=None. If tol is not None, max_iter defaults to max_iter=1000. From 0.21, default max_iter will be 1000, and default tol will be 1e-3.\n",
      "  FutureWarning)\n"
     ]
    },
    {
     "data": {
      "text/plain": [
       "SGDRegressor(alpha=0.0001, average=False, early_stopping=False, epsilon=0.1,\n",
       "       eta0=0.01, fit_intercept=True, l1_ratio=0.15,\n",
       "       learning_rate='invscaling', loss='squared_loss', max_iter=None,\n",
       "       n_iter=None, n_iter_no_change=5, penalty='l2', power_t=0.25,\n",
       "       random_state=777, shuffle=True, tol=None, validation_fraction=0.1,\n",
       "       verbose=0, warm_start=False)"
      ]
     },
     "execution_count": 18,
     "metadata": {},
     "output_type": "execute_result"
    },
    {
     "name": "stdout",
     "output_type": "stream",
     "text": [
      "Train RMSE for SGDRegressor is 0.962115\n",
      "Test RMSE for SGDRegressor is 0.965129\n",
      "Training Model 1: lightgbm\n",
      "Train RMSE for lightgbm is 0.800196\n",
      "Test RMSE for lightgbm is 0.887854\n",
      "Training Model 2: keras\n"
     ]
    },
    {
     "name": "stderr",
     "output_type": "stream",
     "text": [
      "Using TensorFlow backend.\n"
     ]
    },
    {
     "name": "stdout",
     "output_type": "stream",
     "text": [
      "Epoch 1/5\n",
      "3746814/3746814 [==============================] - ETA: 3:56 - loss: 1.5615 - mean_squared_error: 1.56 - ETA: 1:59 - loss: 1.5449 - mean_squared_error: 1.54 - ETA: 1:19 - loss: 1.5655 - mean_squared_error: 1.56 - ETA: 59s - loss: 1.5675 - mean_squared_error: 1.5675 - ETA: 48s - loss: 1.5522 - mean_squared_error: 1.552 - ETA: 40s - loss: 1.5491 - mean_squared_error: 1.549 - ETA: 34s - loss: 1.5351 - mean_squared_error: 1.535 - ETA: 26s - loss: 1.5265 - mean_squared_error: 1.526 - ETA: 24s - loss: 1.5276 - mean_squared_error: 1.527 - ETA: 21s - loss: 1.5197 - mean_squared_error: 1.519 - ETA: 20s - loss: 1.5208 - mean_squared_error: 1.520 - ETA: 18s - loss: 1.5123 - mean_squared_error: 1.512 - ETA: 17s - loss: 1.5003 - mean_squared_error: 1.500 - ETA: 15s - loss: 1.4949 - mean_squared_error: 1.494 - ETA: 14s - loss: 1.4936 - mean_squared_error: 1.493 - ETA: 13s - loss: 1.4813 - mean_squared_error: 1.481 - ETA: 13s - loss: 1.4726 - mean_squared_error: 1.472 - ETA: 12s - loss: 1.4619 - mean_squared_error: 1.461 - ETA: 11s - loss: 1.4553 - mean_squared_error: 1.455 - ETA: 11s - loss: 1.4480 - mean_squared_error: 1.448 - ETA: 10s - loss: 1.4428 - mean_squared_error: 1.442 - ETA: 10s - loss: 1.4380 - mean_squared_error: 1.438 - ETA: 9s - loss: 1.4323 - mean_squared_error: 1.432 - ETA: 9s - loss: 1.4244 - mean_squared_error: 1.42 - ETA: 8s - loss: 1.4201 - mean_squared_error: 1.42 - ETA: 8s - loss: 1.4142 - mean_squared_error: 1.41 - ETA: 7s - loss: 1.4049 - mean_squared_error: 1.40 - ETA: 7s - loss: 1.3966 - mean_squared_error: 1.39 - ETA: 7s - loss: 1.3917 - mean_squared_error: 1.39 - ETA: 6s - loss: 1.3866 - mean_squared_error: 1.38 - ETA: 6s - loss: 1.3821 - mean_squared_error: 1.38 - ETA: 6s - loss: 1.3788 - mean_squared_error: 1.37 - ETA: 5s - loss: 1.3733 - mean_squared_error: 1.37 - ETA: 5s - loss: 1.3685 - mean_squared_error: 1.36 - ETA: 5s - loss: 1.3622 - mean_squared_error: 1.36 - ETA: 4s - loss: 1.3519 - mean_squared_error: 1.35 - ETA: 4s - loss: 1.3497 - mean_squared_error: 1.34 - ETA: 4s - loss: 1.3446 - mean_squared_error: 1.34 - ETA: 4s - loss: 1.3409 - mean_squared_error: 1.34 - ETA: 4s - loss: 1.3367 - mean_squared_error: 1.33 - ETA: 3s - loss: 1.3317 - mean_squared_error: 1.33 - ETA: 3s - loss: 1.3285 - mean_squared_error: 1.32 - ETA: 3s - loss: 1.3251 - mean_squared_error: 1.32 - ETA: 3s - loss: 1.3208 - mean_squared_error: 1.32 - ETA: 3s - loss: 1.3166 - mean_squared_error: 1.31 - ETA: 2s - loss: 1.3117 - mean_squared_error: 1.31 - ETA: 2s - loss: 1.3076 - mean_squared_error: 1.30 - ETA: 2s - loss: 1.3015 - mean_squared_error: 1.30 - ETA: 2s - loss: 1.2988 - mean_squared_error: 1.29 - ETA: 2s - loss: 1.2949 - mean_squared_error: 1.29 - ETA: 2s - loss: 1.2917 - mean_squared_error: 1.29 - ETA: 1s - loss: 1.2871 - mean_squared_error: 1.28 - ETA: 1s - loss: 1.2782 - mean_squared_error: 1.27 - ETA: 1s - loss: 1.2740 - mean_squared_error: 1.27 - ETA: 1s - loss: 1.2711 - mean_squared_error: 1.27 - ETA: 1s - loss: 1.2662 - mean_squared_error: 1.26 - ETA: 1s - loss: 1.2615 - mean_squared_error: 1.26 - ETA: 0s - loss: 1.2595 - mean_squared_error: 1.25 - ETA: 0s - loss: 1.2552 - mean_squared_error: 1.25 - ETA: 0s - loss: 1.2518 - mean_squared_error: 1.25 - ETA: 0s - loss: 1.2493 - mean_squared_error: 1.24 - ETA: 0s - loss: 1.2451 - mean_squared_error: 1.24 - ETA: 0s - loss: 1.2411 - mean_squared_error: 1.24 - ETA: 0s - loss: 1.2362 - mean_squared_error: 1.23 - ETA: 0s - loss: 1.2338 - mean_squared_error: 1.23 - 8s 2us/step - loss: 1.2335 - mean_squared_error: 1.2335\n",
      "Epoch 2/5\n",
      "3746814/3746814 [==============================] - ETA: 16s - loss: 1.0452 - mean_squared_error: 1.045 - ETA: 10s - loss: 1.0134 - mean_squared_error: 1.013 - ETA: 8s - loss: 0.9918 - mean_squared_error: 0.991 - ETA: 7s - loss: 0.9926 - mean_squared_error: 0.99 - ETA: 6s - loss: 0.9837 - mean_squared_error: 0.98 - ETA: 6s - loss: 0.9900 - mean_squared_error: 0.99 - ETA: 6s - loss: 0.9943 - mean_squared_error: 0.99 - ETA: 5s - loss: 0.9959 - mean_squared_error: 0.99 - ETA: 5s - loss: 0.9996 - mean_squared_error: 0.99 - ETA: 5s - loss: 0.9956 - mean_squared_error: 0.99 - ETA: 5s - loss: 0.9961 - mean_squared_error: 0.99 - ETA: 4s - loss: 1.0042 - mean_squared_error: 1.00 - ETA: 4s - loss: 0.9971 - mean_squared_error: 0.99 - ETA: 4s - loss: 0.9978 - mean_squared_error: 0.99 - ETA: 4s - loss: 0.9969 - mean_squared_error: 0.99 - ETA: 4s - loss: 0.9990 - mean_squared_error: 0.99 - ETA: 4s - loss: 0.9996 - mean_squared_error: 0.99 - ETA: 4s - loss: 0.9964 - mean_squared_error: 0.99 - ETA: 3s - loss: 0.9918 - mean_squared_error: 0.99 - ETA: 3s - loss: 0.9895 - mean_squared_error: 0.98 - ETA: 3s - loss: 0.9893 - mean_squared_error: 0.98 - ETA: 3s - loss: 0.9892 - mean_squared_error: 0.98 - ETA: 3s - loss: 0.9840 - mean_squared_error: 0.98 - ETA: 3s - loss: 0.9819 - mean_squared_error: 0.98 - ETA: 3s - loss: 0.9794 - mean_squared_error: 0.97 - ETA: 3s - loss: 0.9816 - mean_squared_error: 0.98 - ETA: 3s - loss: 0.9791 - mean_squared_error: 0.97 - ETA: 2s - loss: 0.9745 - mean_squared_error: 0.97 - ETA: 2s - loss: 0.9740 - mean_squared_error: 0.97 - ETA: 2s - loss: 0.9729 - mean_squared_error: 0.97 - ETA: 2s - loss: 0.9718 - mean_squared_error: 0.97 - ETA: 2s - loss: 0.9692 - mean_squared_error: 0.96 - ETA: 2s - loss: 0.9666 - mean_squared_error: 0.96 - ETA: 2s - loss: 0.9660 - mean_squared_error: 0.96 - ETA: 2s - loss: 0.9644 - mean_squared_error: 0.96 - ETA: 2s - loss: 0.9631 - mean_squared_error: 0.96 - ETA: 2s - loss: 0.9632 - mean_squared_error: 0.96 - ETA: 2s - loss: 0.9629 - mean_squared_error: 0.96 - ETA: 2s - loss: 0.9625 - mean_squared_error: 0.96 - ETA: 2s - loss: 0.9623 - mean_squared_error: 0.96 - ETA: 1s - loss: 0.9609 - mean_squared_error: 0.96 - ETA: 1s - loss: 0.9601 - mean_squared_error: 0.96 - ETA: 1s - loss: 0.9596 - mean_squared_error: 0.95 - ETA: 1s - loss: 0.9567 - mean_squared_error: 0.95 - ETA: 1s - loss: 0.9569 - mean_squared_error: 0.95 - ETA: 1s - loss: 0.9556 - mean_squared_error: 0.95 - ETA: 1s - loss: 0.9558 - mean_squared_error: 0.95 - ETA: 1s - loss: 0.9557 - mean_squared_error: 0.95 - ETA: 1s - loss: 0.9552 - mean_squared_error: 0.95 - ETA: 1s - loss: 0.9561 - mean_squared_error: 0.95 - ETA: 1s - loss: 0.9548 - mean_squared_error: 0.95 - ETA: 1s - loss: 0.9537 - mean_squared_error: 0.95 - ETA: 0s - loss: 0.9534 - mean_squared_error: 0.95 - ETA: 0s - loss: 0.9534 - mean_squared_error: 0.95 - ETA: 0s - loss: 0.9529 - mean_squared_error: 0.95 - ETA: 0s - loss: 0.9520 - mean_squared_error: 0.95 - ETA: 0s - loss: 0.9525 - mean_squared_error: 0.95 - ETA: 0s - loss: 0.9519 - mean_squared_error: 0.95 - ETA: 0s - loss: 0.9506 - mean_squared_error: 0.95 - ETA: 0s - loss: 0.9497 - mean_squared_error: 0.94 - ETA: 0s - loss: 0.9498 - mean_squared_error: 0.94 - ETA: 0s - loss: 0.9494 - mean_squared_error: 0.94 - ETA: 0s - loss: 0.9481 - mean_squared_error: 0.94 - ETA: 0s - loss: 0.9474 - mean_squared_error: 0.94 - ETA: 0s - loss: 0.9471 - mean_squared_error: 0.94 - 5s 1us/step - loss: 0.9472 - mean_squared_error: 0.9472\n",
      "Epoch 3/5\n"
     ]
    },
    {
     "name": "stdout",
     "output_type": "stream",
     "text": [
      "3746814/3746814 [==============================] - ETA: 14s - loss: 0.9037 - mean_squared_error: 0.903 - ETA: 9s - loss: 0.9428 - mean_squared_error: 0.942 - ETA: 7s - loss: 0.9093 - mean_squared_error: 0.90 - ETA: 6s - loss: 0.9133 - mean_squared_error: 0.91 - ETA: 5s - loss: 0.9012 - mean_squared_error: 0.90 - ETA: 4s - loss: 0.9017 - mean_squared_error: 0.90 - ETA: 4s - loss: 0.9070 - mean_squared_error: 0.90 - ETA: 4s - loss: 0.9044 - mean_squared_error: 0.90 - ETA: 4s - loss: 0.9021 - mean_squared_error: 0.90 - ETA: 3s - loss: 0.9052 - mean_squared_error: 0.90 - ETA: 3s - loss: 0.9020 - mean_squared_error: 0.90 - ETA: 3s - loss: 0.9021 - mean_squared_error: 0.90 - ETA: 3s - loss: 0.9031 - mean_squared_error: 0.90 - ETA: 3s - loss: 0.9027 - mean_squared_error: 0.90 - ETA: 3s - loss: 0.9048 - mean_squared_error: 0.90 - ETA: 2s - loss: 0.9071 - mean_squared_error: 0.90 - ETA: 2s - loss: 0.9064 - mean_squared_error: 0.90 - ETA: 2s - loss: 0.9070 - mean_squared_error: 0.90 - ETA: 2s - loss: 0.9016 - mean_squared_error: 0.90 - ETA: 2s - loss: 0.9010 - mean_squared_error: 0.90 - ETA: 2s - loss: 0.9016 - mean_squared_error: 0.90 - ETA: 2s - loss: 0.9002 - mean_squared_error: 0.90 - ETA: 2s - loss: 0.8999 - mean_squared_error: 0.89 - ETA: 2s - loss: 0.9039 - mean_squared_error: 0.90 - ETA: 2s - loss: 0.9038 - mean_squared_error: 0.90 - ETA: 1s - loss: 0.9039 - mean_squared_error: 0.90 - ETA: 1s - loss: 0.9053 - mean_squared_error: 0.90 - ETA: 1s - loss: 0.9074 - mean_squared_error: 0.90 - ETA: 1s - loss: 0.9074 - mean_squared_error: 0.90 - ETA: 1s - loss: 0.9043 - mean_squared_error: 0.90 - ETA: 1s - loss: 0.9035 - mean_squared_error: 0.90 - ETA: 1s - loss: 0.9039 - mean_squared_error: 0.90 - ETA: 1s - loss: 0.9035 - mean_squared_error: 0.90 - ETA: 1s - loss: 0.9025 - mean_squared_error: 0.90 - ETA: 1s - loss: 0.9021 - mean_squared_error: 0.90 - ETA: 1s - loss: 0.9004 - mean_squared_error: 0.90 - ETA: 0s - loss: 0.9003 - mean_squared_error: 0.90 - ETA: 0s - loss: 0.8998 - mean_squared_error: 0.89 - ETA: 0s - loss: 0.8988 - mean_squared_error: 0.89 - ETA: 0s - loss: 0.8974 - mean_squared_error: 0.89 - ETA: 0s - loss: 0.8972 - mean_squared_error: 0.89 - ETA: 0s - loss: 0.8979 - mean_squared_error: 0.89 - ETA: 0s - loss: 0.8977 - mean_squared_error: 0.89 - ETA: 0s - loss: 0.8972 - mean_squared_error: 0.89 - ETA: 0s - loss: 0.8971 - mean_squared_error: 0.89 - ETA: 0s - loss: 0.8967 - mean_squared_error: 0.89 - ETA: 0s - loss: 0.8967 - mean_squared_error: 0.89 - ETA: 0s - loss: 0.8974 - mean_squared_error: 0.89 - 4s 1us/step - loss: 0.8975 - mean_squared_error: 0.8975\n",
      "Epoch 4/5\n",
      "3746814/3746814 [==============================] - ETA: 12s - loss: 0.8935 - mean_squared_error: 0.893 - ETA: 6s - loss: 0.8805 - mean_squared_error: 0.880 - ETA: 5s - loss: 0.8690 - mean_squared_error: 0.86 - ETA: 4s - loss: 0.8866 - mean_squared_error: 0.88 - ETA: 4s - loss: 0.8823 - mean_squared_error: 0.88 - ETA: 4s - loss: 0.8908 - mean_squared_error: 0.89 - ETA: 3s - loss: 0.8904 - mean_squared_error: 0.89 - ETA: 3s - loss: 0.8900 - mean_squared_error: 0.89 - ETA: 3s - loss: 0.8938 - mean_squared_error: 0.89 - ETA: 3s - loss: 0.8961 - mean_squared_error: 0.89 - ETA: 3s - loss: 0.8911 - mean_squared_error: 0.89 - ETA: 3s - loss: 0.8905 - mean_squared_error: 0.89 - ETA: 2s - loss: 0.8929 - mean_squared_error: 0.89 - ETA: 2s - loss: 0.8893 - mean_squared_error: 0.88 - ETA: 2s - loss: 0.8871 - mean_squared_error: 0.88 - ETA: 2s - loss: 0.8872 - mean_squared_error: 0.88 - ETA: 2s - loss: 0.8864 - mean_squared_error: 0.88 - ETA: 2s - loss: 0.8856 - mean_squared_error: 0.88 - ETA: 2s - loss: 0.8867 - mean_squared_error: 0.88 - ETA: 2s - loss: 0.8865 - mean_squared_error: 0.88 - ETA: 2s - loss: 0.8861 - mean_squared_error: 0.88 - ETA: 2s - loss: 0.8848 - mean_squared_error: 0.88 - ETA: 1s - loss: 0.8863 - mean_squared_error: 0.88 - ETA: 1s - loss: 0.8834 - mean_squared_error: 0.88 - ETA: 1s - loss: 0.8837 - mean_squared_error: 0.88 - ETA: 1s - loss: 0.8843 - mean_squared_error: 0.88 - ETA: 1s - loss: 0.8831 - mean_squared_error: 0.88 - ETA: 1s - loss: 0.8830 - mean_squared_error: 0.88 - ETA: 1s - loss: 0.8826 - mean_squared_error: 0.88 - ETA: 1s - loss: 0.8814 - mean_squared_error: 0.88 - ETA: 1s - loss: 0.8817 - mean_squared_error: 0.88 - ETA: 1s - loss: 0.8801 - mean_squared_error: 0.88 - ETA: 1s - loss: 0.8812 - mean_squared_error: 0.88 - ETA: 0s - loss: 0.8813 - mean_squared_error: 0.88 - ETA: 0s - loss: 0.8827 - mean_squared_error: 0.88 - ETA: 0s - loss: 0.8840 - mean_squared_error: 0.88 - ETA: 0s - loss: 0.8851 - mean_squared_error: 0.88 - ETA: 0s - loss: 0.8854 - mean_squared_error: 0.88 - ETA: 0s - loss: 0.8854 - mean_squared_error: 0.88 - ETA: 0s - loss: 0.8851 - mean_squared_error: 0.88 - ETA: 0s - loss: 0.8845 - mean_squared_error: 0.88 - ETA: 0s - loss: 0.8838 - mean_squared_error: 0.88 - ETA: 0s - loss: 0.8841 - mean_squared_error: 0.88 - ETA: 0s - loss: 0.8839 - mean_squared_error: 0.88 - ETA: 0s - loss: 0.8833 - mean_squared_error: 0.88 - ETA: 0s - loss: 0.8847 - mean_squared_error: 0.88 - ETA: 0s - loss: 0.8851 - mean_squared_error: 0.88 - ETA: 0s - loss: 0.8844 - mean_squared_error: 0.88 - ETA: 0s - loss: 0.8848 - mean_squared_error: 0.88 - 4s 1us/step - loss: 0.8849 - mean_squared_error: 0.8849\n",
      "Epoch 5/5\n",
      "3746814/3746814 [==============================] - ETA: 13s - loss: 0.8707 - mean_squared_error: 0.870 - ETA: 8s - loss: 0.8974 - mean_squared_error: 0.897 - ETA: 7s - loss: 0.8642 - mean_squared_error: 0.86 - ETA: 6s - loss: 0.8891 - mean_squared_error: 0.88 - ETA: 5s - loss: 0.8673 - mean_squared_error: 0.86 - ETA: 5s - loss: 0.8653 - mean_squared_error: 0.86 - ETA: 5s - loss: 0.8743 - mean_squared_error: 0.87 - ETA: 4s - loss: 0.8729 - mean_squared_error: 0.87 - ETA: 4s - loss: 0.8690 - mean_squared_error: 0.86 - ETA: 4s - loss: 0.8676 - mean_squared_error: 0.86 - ETA: 4s - loss: 0.8638 - mean_squared_error: 0.86 - ETA: 4s - loss: 0.8661 - mean_squared_error: 0.86 - ETA: 3s - loss: 0.8707 - mean_squared_error: 0.87 - ETA: 3s - loss: 0.8743 - mean_squared_error: 0.87 - ETA: 3s - loss: 0.8745 - mean_squared_error: 0.87 - ETA: 3s - loss: 0.8730 - mean_squared_error: 0.87 - ETA: 3s - loss: 0.8769 - mean_squared_error: 0.87 - ETA: 3s - loss: 0.8781 - mean_squared_error: 0.87 - ETA: 3s - loss: 0.8803 - mean_squared_error: 0.88 - ETA: 3s - loss: 0.8784 - mean_squared_error: 0.87 - ETA: 3s - loss: 0.8762 - mean_squared_error: 0.87 - ETA: 2s - loss: 0.8739 - mean_squared_error: 0.87 - ETA: 2s - loss: 0.8764 - mean_squared_error: 0.87 - ETA: 2s - loss: 0.8793 - mean_squared_error: 0.87 - ETA: 2s - loss: 0.8777 - mean_squared_error: 0.87 - ETA: 2s - loss: 0.8783 - mean_squared_error: 0.87 - ETA: 2s - loss: 0.8775 - mean_squared_error: 0.87 - ETA: 2s - loss: 0.8796 - mean_squared_error: 0.87 - ETA: 2s - loss: 0.8747 - mean_squared_error: 0.87 - ETA: 1s - loss: 0.8743 - mean_squared_error: 0.87 - ETA: 1s - loss: 0.8741 - mean_squared_error: 0.87 - ETA: 1s - loss: 0.8746 - mean_squared_error: 0.87 - ETA: 1s - loss: 0.8768 - mean_squared_error: 0.87 - ETA: 1s - loss: 0.8781 - mean_squared_error: 0.87 - ETA: 1s - loss: 0.8785 - mean_squared_error: 0.87 - ETA: 1s - loss: 0.8787 - mean_squared_error: 0.87 - ETA: 1s - loss: 0.8782 - mean_squared_error: 0.87 - ETA: 1s - loss: 0.8784 - mean_squared_error: 0.87 - ETA: 0s - loss: 0.8784 - mean_squared_error: 0.87 - ETA: 0s - loss: 0.8790 - mean_squared_error: 0.87 - ETA: 0s - loss: 0.8780 - mean_squared_error: 0.87 - ETA: 0s - loss: 0.8774 - mean_squared_error: 0.87 - ETA: 0s - loss: 0.8782 - mean_squared_error: 0.87 - ETA: 0s - loss: 0.8797 - mean_squared_error: 0.87 - ETA: 0s - loss: 0.8794 - mean_squared_error: 0.87 - ETA: 0s - loss: 0.8796 - mean_squared_error: 0.87 - ETA: 0s - loss: 0.8789 - mean_squared_error: 0.87 - ETA: 0s - loss: 0.8792 - mean_squared_error: 0.87 - ETA: 0s - loss: 0.8789 - mean_squared_error: 0.87 - ETA: 0s - loss: 0.8788 - mean_squared_error: 0.87 - 4s 1us/step - loss: 0.8790 - mean_squared_error: 0.8790\n"
     ]
    },
    {
     "data": {
      "text/plain": [
       "<keras.callbacks.History at 0x1ac9f5ff390>"
      ]
     },
     "execution_count": 18,
     "metadata": {},
     "output_type": "execute_result"
    },
    {
     "name": "stdout",
     "output_type": "stream",
     "text": [
      "221482/221482 [==============================] - ETA:  - 0s 0us/step\n",
      "--------------------------------------------------\n"
     ]
    },
    {
     "name": "stderr",
     "output_type": "stream",
     "text": [
      "\r",
      " 12%|█▎        | 1/8 [05:29<38:29, 329.87s/it]"
     ]
    },
    {
     "name": "stdout",
     "output_type": "stream",
     "text": [
      "--------------------------------------------------\n",
      "Start training for month28\n",
      "Training Model 0: SGDRegressor\n"
     ]
    },
    {
     "name": "stderr",
     "output_type": "stream",
     "text": [
      "C:\\ProgramData\\Anaconda3\\lib\\site-packages\\sklearn\\linear_model\\stochastic_gradient.py:166: FutureWarning: max_iter and tol parameters have been added in SGDRegressor in 0.19. If both are left unset, they default to max_iter=5 and tol=None. If tol is not None, max_iter defaults to max_iter=1000. From 0.21, default max_iter will be 1000, and default tol will be 1e-3.\n",
      "  FutureWarning)\n"
     ]
    },
    {
     "data": {
      "text/plain": [
       "SGDRegressor(alpha=0.0001, average=False, early_stopping=False, epsilon=0.1,\n",
       "       eta0=0.01, fit_intercept=True, l1_ratio=0.15,\n",
       "       learning_rate='invscaling', loss='squared_loss', max_iter=None,\n",
       "       n_iter=None, n_iter_no_change=5, penalty='l2', power_t=0.25,\n",
       "       random_state=777, shuffle=True, tol=None, validation_fraction=0.1,\n",
       "       verbose=0, warm_start=False)"
      ]
     },
     "execution_count": 18,
     "metadata": {},
     "output_type": "execute_result"
    },
    {
     "name": "stdout",
     "output_type": "stream",
     "text": [
      "Train RMSE for SGDRegressor is 0.985327\n",
      "Test RMSE for SGDRegressor is 0.934499\n",
      "Training Model 1: lightgbm\n",
      "Train RMSE for lightgbm is 0.802103\n",
      "Test RMSE for lightgbm is 0.811022\n",
      "Training Model 2: keras\n",
      "Epoch 1/5\n",
      "3968296/3968296 [==============================] - ETA: 51s - loss: 1.5235 - mean_squared_error: 1.523 - ETA: 18s - loss: 1.5786 - mean_squared_error: 1.578 - ETA: 14s - loss: 1.5879 - mean_squared_error: 1.587 - ETA: 12s - loss: 1.5776 - mean_squared_error: 1.577 - ETA: 9s - loss: 1.6054 - mean_squared_error: 1.605 - ETA: 8s - loss: 1.6161 - mean_squared_error: 1.61 - ETA: 7s - loss: 1.6087 - mean_squared_error: 1.60 - ETA: 6s - loss: 1.5998 - mean_squared_error: 1.59 - ETA: 6s - loss: 1.5948 - mean_squared_error: 1.59 - ETA: 5s - loss: 1.5901 - mean_squared_error: 1.59 - ETA: 5s - loss: 1.5998 - mean_squared_error: 1.59 - ETA: 5s - loss: 1.5999 - mean_squared_error: 1.59 - ETA: 4s - loss: 1.5970 - mean_squared_error: 1.59 - ETA: 4s - loss: 1.6017 - mean_squared_error: 1.60 - ETA: 4s - loss: 1.6047 - mean_squared_error: 1.60 - ETA: 4s - loss: 1.6049 - mean_squared_error: 1.60 - ETA: 4s - loss: 1.6047 - mean_squared_error: 1.60 - ETA: 3s - loss: 1.6080 - mean_squared_error: 1.60 - ETA: 3s - loss: 1.6100 - mean_squared_error: 1.61 - ETA: 3s - loss: 1.6092 - mean_squared_error: 1.60 - ETA: 3s - loss: 1.6157 - mean_squared_error: 1.61 - ETA: 3s - loss: 1.6163 - mean_squared_error: 1.61 - ETA: 3s - loss: 1.6186 - mean_squared_error: 1.61 - ETA: 3s - loss: 1.6203 - mean_squared_error: 1.62 - ETA: 2s - loss: 1.6155 - mean_squared_error: 1.61 - ETA: 2s - loss: 1.6201 - mean_squared_error: 1.62 - ETA: 2s - loss: 1.6230 - mean_squared_error: 1.62 - ETA: 2s - loss: 1.6241 - mean_squared_error: 1.62 - ETA: 2s - loss: 1.6235 - mean_squared_error: 1.62 - ETA: 2s - loss: 1.6201 - mean_squared_error: 1.62 - ETA: 2s - loss: 1.6213 - mean_squared_error: 1.62 - ETA: 1s - loss: 1.6215 - mean_squared_error: 1.62 - ETA: 1s - loss: 1.6230 - mean_squared_error: 1.62 - ETA: 1s - loss: 1.6237 - mean_squared_error: 1.62 - ETA: 1s - loss: 1.6219 - mean_squared_error: 1.62 - ETA: 1s - loss: 1.6235 - mean_squared_error: 1.62 - ETA: 1s - loss: 1.6229 - mean_squared_error: 1.62 - ETA: 1s - loss: 1.6237 - mean_squared_error: 1.62 - ETA: 1s - loss: 1.6213 - mean_squared_error: 1.62 - ETA: 1s - loss: 1.6230 - mean_squared_error: 1.62 - ETA: 1s - loss: 1.6211 - mean_squared_error: 1.62 - ETA: 0s - loss: 1.6227 - mean_squared_error: 1.62 - ETA: 0s - loss: 1.6212 - mean_squared_error: 1.62 - ETA: 0s - loss: 1.6201 - mean_squared_error: 1.62 - ETA: 0s - loss: 1.6198 - mean_squared_error: 1.61 - ETA: 0s - loss: 1.6212 - mean_squared_error: 1.62 - ETA: 0s - loss: 1.6197 - mean_squared_error: 1.61 - ETA: 0s - loss: 1.6186 - mean_squared_error: 1.61 - ETA: 0s - loss: 1.6192 - mean_squared_error: 1.61 - ETA: 0s - loss: 1.6190 - mean_squared_error: 1.61 - ETA: 0s - loss: 1.6190 - mean_squared_error: 1.61 - ETA: 0s - loss: 1.6182 - mean_squared_error: 1.61 - ETA: 0s - loss: 1.6197 - mean_squared_error: 1.61 - 5s 1us/step - loss: 1.6182 - mean_squared_error: 1.6182\n",
      "Epoch 2/5\n",
      "3968296/3968296 [==============================] - ETA: 15s - loss: 1.5785 - mean_squared_error: 1.578 - ETA: 9s - loss: 1.6047 - mean_squared_error: 1.604 - ETA: 7s - loss: 1.6403 - mean_squared_error: 1.64 - ETA: 7s - loss: 1.6715 - mean_squared_error: 1.67 - ETA: 6s - loss: 1.6792 - mean_squared_error: 1.67 - ETA: 6s - loss: 1.6827 - mean_squared_error: 1.68 - ETA: 5s - loss: 1.6670 - mean_squared_error: 1.66 - ETA: 4s - loss: 1.6475 - mean_squared_error: 1.64 - ETA: 4s - loss: 1.6493 - mean_squared_error: 1.64 - ETA: 4s - loss: 1.6533 - mean_squared_error: 1.65 - ETA: 4s - loss: 1.6480 - mean_squared_error: 1.64 - ETA: 4s - loss: 1.6487 - mean_squared_error: 1.64 - ETA: 4s - loss: 1.6475 - mean_squared_error: 1.64 - ETA: 4s - loss: 1.6450 - mean_squared_error: 1.64 - ETA: 4s - loss: 1.6413 - mean_squared_error: 1.64 - ETA: 3s - loss: 1.6412 - mean_squared_error: 1.64 - ETA: 3s - loss: 1.6455 - mean_squared_error: 1.64 - ETA: 3s - loss: 1.6414 - mean_squared_error: 1.64 - ETA: 3s - loss: 1.6446 - mean_squared_error: 1.64 - ETA: 3s - loss: 1.6436 - mean_squared_error: 1.64 - ETA: 3s - loss: 1.6353 - mean_squared_error: 1.63 - ETA: 3s - loss: 1.6395 - mean_squared_error: 1.63 - ETA: 3s - loss: 1.6352 - mean_squared_error: 1.63 - ETA: 3s - loss: 1.6342 - mean_squared_error: 1.63 - ETA: 2s - loss: 1.6368 - mean_squared_error: 1.63 - ETA: 2s - loss: 1.6314 - mean_squared_error: 1.63 - ETA: 2s - loss: 1.6270 - mean_squared_error: 1.62 - ETA: 2s - loss: 1.6267 - mean_squared_error: 1.62 - ETA: 2s - loss: 1.6270 - mean_squared_error: 1.62 - ETA: 2s - loss: 1.6245 - mean_squared_error: 1.62 - ETA: 2s - loss: 1.6246 - mean_squared_error: 1.62 - ETA: 2s - loss: 1.6231 - mean_squared_error: 1.62 - ETA: 2s - loss: 1.6220 - mean_squared_error: 1.62 - ETA: 1s - loss: 1.6210 - mean_squared_error: 1.62 - ETA: 1s - loss: 1.6213 - mean_squared_error: 1.62 - ETA: 1s - loss: 1.6197 - mean_squared_error: 1.61 - ETA: 1s - loss: 1.6179 - mean_squared_error: 1.61 - ETA: 1s - loss: 1.6160 - mean_squared_error: 1.61 - ETA: 1s - loss: 1.6159 - mean_squared_error: 1.61 - ETA: 1s - loss: 1.6147 - mean_squared_error: 1.61 - ETA: 1s - loss: 1.6136 - mean_squared_error: 1.61 - ETA: 1s - loss: 1.6166 - mean_squared_error: 1.61 - ETA: 1s - loss: 1.6166 - mean_squared_error: 1.61 - ETA: 1s - loss: 1.6169 - mean_squared_error: 1.61 - ETA: 1s - loss: 1.6167 - mean_squared_error: 1.61 - ETA: 1s - loss: 1.6161 - mean_squared_error: 1.61 - ETA: 0s - loss: 1.6154 - mean_squared_error: 1.61 - ETA: 0s - loss: 1.6162 - mean_squared_error: 1.61 - ETA: 0s - loss: 1.6181 - mean_squared_error: 1.61 - ETA: 0s - loss: 1.6166 - mean_squared_error: 1.61 - ETA: 0s - loss: 1.6162 - mean_squared_error: 1.61 - ETA: 0s - loss: 1.6168 - mean_squared_error: 1.61 - ETA: 0s - loss: 1.6161 - mean_squared_error: 1.61 - ETA: 0s - loss: 1.6147 - mean_squared_error: 1.61 - ETA: 0s - loss: 1.6155 - mean_squared_error: 1.61 - ETA: 0s - loss: 1.6166 - mean_squared_error: 1.61 - ETA: 0s - loss: 1.6172 - mean_squared_error: 1.61 - ETA: 0s - loss: 1.6169 - mean_squared_error: 1.61 - ETA: 0s - loss: 1.6175 - mean_squared_error: 1.61 - 5s 1us/step - loss: 1.6182 - mean_squared_error: 1.6182\n",
      "Epoch 3/5\n"
     ]
    },
    {
     "name": "stdout",
     "output_type": "stream",
     "text": [
      "3968296/3968296 [==============================] - ETA: 16s - loss: 1.6583 - mean_squared_error: 1.658 - ETA: 10s - loss: 1.6870 - mean_squared_error: 1.687 - ETA: 8s - loss: 1.6770 - mean_squared_error: 1.677 - ETA: 7s - loss: 1.6811 - mean_squared_error: 1.68 - ETA: 6s - loss: 1.6781 - mean_squared_error: 1.67 - ETA: 6s - loss: 1.6696 - mean_squared_error: 1.66 - ETA: 5s - loss: 1.6543 - mean_squared_error: 1.65 - ETA: 5s - loss: 1.6416 - mean_squared_error: 1.64 - ETA: 5s - loss: 1.6421 - mean_squared_error: 1.64 - ETA: 4s - loss: 1.6440 - mean_squared_error: 1.64 - ETA: 4s - loss: 1.6371 - mean_squared_error: 1.63 - ETA: 4s - loss: 1.6445 - mean_squared_error: 1.64 - ETA: 4s - loss: 1.6328 - mean_squared_error: 1.63 - ETA: 4s - loss: 1.6137 - mean_squared_error: 1.61 - ETA: 3s - loss: 1.6168 - mean_squared_error: 1.61 - ETA: 3s - loss: 1.6269 - mean_squared_error: 1.62 - ETA: 3s - loss: 1.6248 - mean_squared_error: 1.62 - ETA: 3s - loss: 1.6281 - mean_squared_error: 1.62 - ETA: 3s - loss: 1.6258 - mean_squared_error: 1.62 - ETA: 3s - loss: 1.6280 - mean_squared_error: 1.62 - ETA: 3s - loss: 1.6266 - mean_squared_error: 1.62 - ETA: 3s - loss: 1.6258 - mean_squared_error: 1.62 - ETA: 2s - loss: 1.6283 - mean_squared_error: 1.62 - ETA: 2s - loss: 1.6235 - mean_squared_error: 1.62 - ETA: 2s - loss: 1.6263 - mean_squared_error: 1.62 - ETA: 2s - loss: 1.6243 - mean_squared_error: 1.62 - ETA: 2s - loss: 1.6254 - mean_squared_error: 1.62 - ETA: 2s - loss: 1.6265 - mean_squared_error: 1.62 - ETA: 2s - loss: 1.6277 - mean_squared_error: 1.62 - ETA: 2s - loss: 1.6299 - mean_squared_error: 1.62 - ETA: 2s - loss: 1.6268 - mean_squared_error: 1.62 - ETA: 2s - loss: 1.6266 - mean_squared_error: 1.62 - ETA: 2s - loss: 1.6295 - mean_squared_error: 1.62 - ETA: 1s - loss: 1.6301 - mean_squared_error: 1.63 - ETA: 1s - loss: 1.6333 - mean_squared_error: 1.63 - ETA: 1s - loss: 1.6339 - mean_squared_error: 1.63 - ETA: 1s - loss: 1.6335 - mean_squared_error: 1.63 - ETA: 1s - loss: 1.6321 - mean_squared_error: 1.63 - ETA: 1s - loss: 1.6324 - mean_squared_error: 1.63 - ETA: 1s - loss: 1.6315 - mean_squared_error: 1.63 - ETA: 1s - loss: 1.6282 - mean_squared_error: 1.62 - ETA: 1s - loss: 1.6268 - mean_squared_error: 1.62 - ETA: 1s - loss: 1.6252 - mean_squared_error: 1.62 - ETA: 1s - loss: 1.6248 - mean_squared_error: 1.62 - ETA: 1s - loss: 1.6265 - mean_squared_error: 1.62 - ETA: 1s - loss: 1.6276 - mean_squared_error: 1.62 - ETA: 0s - loss: 1.6239 - mean_squared_error: 1.62 - ETA: 0s - loss: 1.6239 - mean_squared_error: 1.62 - ETA: 0s - loss: 1.6251 - mean_squared_error: 1.62 - ETA: 0s - loss: 1.6244 - mean_squared_error: 1.62 - ETA: 0s - loss: 1.6219 - mean_squared_error: 1.62 - ETA: 0s - loss: 1.6216 - mean_squared_error: 1.62 - ETA: 0s - loss: 1.6205 - mean_squared_error: 1.62 - ETA: 0s - loss: 1.6201 - mean_squared_error: 1.62 - ETA: 0s - loss: 1.6196 - mean_squared_error: 1.61 - ETA: 0s - loss: 1.6204 - mean_squared_error: 1.62 - ETA: 0s - loss: 1.6202 - mean_squared_error: 1.62 - ETA: 0s - loss: 1.6183 - mean_squared_error: 1.61 - 4s 1us/step - loss: 1.6182 - mean_squared_error: 1.6182\n",
      "Epoch 4/5\n",
      "3968296/3968296 [==============================] - ETA: 14s - loss: 1.4531 - mean_squared_error: 1.453 - ETA: 9s - loss: 1.5332 - mean_squared_error: 1.533 - ETA: 8s - loss: 1.5863 - mean_squared_error: 1.58 - ETA: 7s - loss: 1.5972 - mean_squared_error: 1.59 - ETA: 5s - loss: 1.6075 - mean_squared_error: 1.60 - ETA: 5s - loss: 1.6250 - mean_squared_error: 1.62 - ETA: 4s - loss: 1.6163 - mean_squared_error: 1.61 - ETA: 4s - loss: 1.6354 - mean_squared_error: 1.63 - ETA: 4s - loss: 1.6376 - mean_squared_error: 1.63 - ETA: 4s - loss: 1.6347 - mean_squared_error: 1.63 - ETA: 3s - loss: 1.6322 - mean_squared_error: 1.63 - ETA: 3s - loss: 1.6303 - mean_squared_error: 1.63 - ETA: 3s - loss: 1.6250 - mean_squared_error: 1.62 - ETA: 3s - loss: 1.6224 - mean_squared_error: 1.62 - ETA: 3s - loss: 1.6204 - mean_squared_error: 1.62 - ETA: 3s - loss: 1.6148 - mean_squared_error: 1.61 - ETA: 3s - loss: 1.6141 - mean_squared_error: 1.61 - ETA: 2s - loss: 1.6095 - mean_squared_error: 1.60 - ETA: 2s - loss: 1.6111 - mean_squared_error: 1.61 - ETA: 2s - loss: 1.6126 - mean_squared_error: 1.61 - ETA: 2s - loss: 1.6122 - mean_squared_error: 1.61 - ETA: 2s - loss: 1.6120 - mean_squared_error: 1.61 - ETA: 2s - loss: 1.6072 - mean_squared_error: 1.60 - ETA: 2s - loss: 1.6050 - mean_squared_error: 1.60 - ETA: 2s - loss: 1.6072 - mean_squared_error: 1.60 - ETA: 2s - loss: 1.6084 - mean_squared_error: 1.60 - ETA: 2s - loss: 1.6125 - mean_squared_error: 1.61 - ETA: 2s - loss: 1.6142 - mean_squared_error: 1.61 - ETA: 1s - loss: 1.6146 - mean_squared_error: 1.61 - ETA: 1s - loss: 1.6148 - mean_squared_error: 1.61 - ETA: 1s - loss: 1.6180 - mean_squared_error: 1.61 - ETA: 1s - loss: 1.6182 - mean_squared_error: 1.61 - ETA: 1s - loss: 1.6169 - mean_squared_error: 1.61 - ETA: 1s - loss: 1.6171 - mean_squared_error: 1.61 - ETA: 1s - loss: 1.6194 - mean_squared_error: 1.61 - ETA: 1s - loss: 1.6196 - mean_squared_error: 1.61 - ETA: 1s - loss: 1.6202 - mean_squared_error: 1.62 - ETA: 1s - loss: 1.6186 - mean_squared_error: 1.61 - ETA: 1s - loss: 1.6178 - mean_squared_error: 1.61 - ETA: 0s - loss: 1.6165 - mean_squared_error: 1.61 - ETA: 0s - loss: 1.6172 - mean_squared_error: 1.61 - ETA: 0s - loss: 1.6208 - mean_squared_error: 1.62 - ETA: 0s - loss: 1.6170 - mean_squared_error: 1.61 - ETA: 0s - loss: 1.6177 - mean_squared_error: 1.61 - ETA: 0s - loss: 1.6180 - mean_squared_error: 1.61 - ETA: 0s - loss: 1.6224 - mean_squared_error: 1.62 - ETA: 0s - loss: 1.6209 - mean_squared_error: 1.62 - ETA: 0s - loss: 1.6196 - mean_squared_error: 1.61 - ETA: 0s - loss: 1.6191 - mean_squared_error: 1.61 - ETA: 0s - loss: 1.6188 - mean_squared_error: 1.61 - 4s 1us/step - loss: 1.6182 - mean_squared_error: 1.6182\n",
      "Epoch 5/5\n"
     ]
    },
    {
     "name": "stdout",
     "output_type": "stream",
     "text": [
      "3968296/3968296 [==============================] - ETA: 14s - loss: 1.6925 - mean_squared_error: 1.692 - ETA: 6s - loss: 1.6542 - mean_squared_error: 1.654 - ETA: 6s - loss: 1.6537 - mean_squared_error: 1.65 - ETA: 4s - loss: 1.6399 - mean_squared_error: 1.63 - ETA: 4s - loss: 1.6257 - mean_squared_error: 1.62 - ETA: 4s - loss: 1.6263 - mean_squared_error: 1.62 - ETA: 4s - loss: 1.6234 - mean_squared_error: 1.62 - ETA: 4s - loss: 1.6287 - mean_squared_error: 1.62 - ETA: 3s - loss: 1.6120 - mean_squared_error: 1.61 - ETA: 3s - loss: 1.6109 - mean_squared_error: 1.61 - ETA: 3s - loss: 1.6106 - mean_squared_error: 1.61 - ETA: 3s - loss: 1.6119 - mean_squared_error: 1.61 - ETA: 3s - loss: 1.6212 - mean_squared_error: 1.62 - ETA: 3s - loss: 1.6208 - mean_squared_error: 1.62 - ETA: 3s - loss: 1.6189 - mean_squared_error: 1.61 - ETA: 3s - loss: 1.6257 - mean_squared_error: 1.62 - ETA: 2s - loss: 1.6163 - mean_squared_error: 1.61 - ETA: 2s - loss: 1.6170 - mean_squared_error: 1.61 - ETA: 2s - loss: 1.6208 - mean_squared_error: 1.62 - ETA: 2s - loss: 1.6259 - mean_squared_error: 1.62 - ETA: 2s - loss: 1.6281 - mean_squared_error: 1.62 - ETA: 2s - loss: 1.6301 - mean_squared_error: 1.63 - ETA: 2s - loss: 1.6281 - mean_squared_error: 1.62 - ETA: 2s - loss: 1.6341 - mean_squared_error: 1.63 - ETA: 2s - loss: 1.6337 - mean_squared_error: 1.63 - ETA: 2s - loss: 1.6307 - mean_squared_error: 1.63 - ETA: 1s - loss: 1.6281 - mean_squared_error: 1.62 - ETA: 1s - loss: 1.6275 - mean_squared_error: 1.62 - ETA: 1s - loss: 1.6280 - mean_squared_error: 1.62 - ETA: 1s - loss: 1.6278 - mean_squared_error: 1.62 - ETA: 1s - loss: 1.6270 - mean_squared_error: 1.62 - ETA: 1s - loss: 1.6266 - mean_squared_error: 1.62 - ETA: 1s - loss: 1.6249 - mean_squared_error: 1.62 - ETA: 1s - loss: 1.6245 - mean_squared_error: 1.62 - ETA: 1s - loss: 1.6243 - mean_squared_error: 1.62 - ETA: 1s - loss: 1.6219 - mean_squared_error: 1.62 - ETA: 1s - loss: 1.6216 - mean_squared_error: 1.62 - ETA: 1s - loss: 1.6242 - mean_squared_error: 1.62 - ETA: 1s - loss: 1.6246 - mean_squared_error: 1.62 - ETA: 1s - loss: 1.6243 - mean_squared_error: 1.62 - ETA: 0s - loss: 1.6233 - mean_squared_error: 1.62 - ETA: 0s - loss: 1.6251 - mean_squared_error: 1.62 - ETA: 0s - loss: 1.6237 - mean_squared_error: 1.62 - ETA: 0s - loss: 1.6239 - mean_squared_error: 1.62 - ETA: 0s - loss: 1.6220 - mean_squared_error: 1.62 - ETA: 0s - loss: 1.6212 - mean_squared_error: 1.62 - ETA: 0s - loss: 1.6205 - mean_squared_error: 1.62 - ETA: 0s - loss: 1.6209 - mean_squared_error: 1.62 - ETA: 0s - loss: 1.6209 - mean_squared_error: 1.62 - ETA: 0s - loss: 1.6213 - mean_squared_error: 1.62 - ETA: 0s - loss: 1.6203 - mean_squared_error: 1.62 - ETA: 0s - loss: 1.6198 - mean_squared_error: 1.61 - ETA: 0s - loss: 1.6187 - mean_squared_error: 1.61 - 4s 1us/step - loss: 1.6182 - mean_squared_error: 1.6182\n"
     ]
    },
    {
     "data": {
      "text/plain": [
       "<keras.callbacks.History at 0x1aca0e58b38>"
      ]
     },
     "execution_count": 18,
     "metadata": {},
     "output_type": "execute_result"
    },
    {
     "name": "stdout",
     "output_type": "stream",
     "text": [
      "212503/212503 [==============================] - ETA:  - 0s 1us/step\n",
      "--------------------------------------------------\n"
     ]
    },
    {
     "name": "stderr",
     "output_type": "stream",
     "text": [
      "\r",
      " 25%|██▌       | 2/8 [11:15<33:27, 334.64s/it]"
     ]
    },
    {
     "name": "stdout",
     "output_type": "stream",
     "text": [
      "--------------------------------------------------\n",
      "Start training for month29\n",
      "Training Model 0: SGDRegressor\n"
     ]
    },
    {
     "name": "stderr",
     "output_type": "stream",
     "text": [
      "C:\\ProgramData\\Anaconda3\\lib\\site-packages\\sklearn\\linear_model\\stochastic_gradient.py:166: FutureWarning: max_iter and tol parameters have been added in SGDRegressor in 0.19. If both are left unset, they default to max_iter=5 and tol=None. If tol is not None, max_iter defaults to max_iter=1000. From 0.21, default max_iter will be 1000, and default tol will be 1e-3.\n",
      "  FutureWarning)\n"
     ]
    },
    {
     "data": {
      "text/plain": [
       "SGDRegressor(alpha=0.0001, average=False, early_stopping=False, epsilon=0.1,\n",
       "       eta0=0.01, fit_intercept=True, l1_ratio=0.15,\n",
       "       learning_rate='invscaling', loss='squared_loss', max_iter=None,\n",
       "       n_iter=None, n_iter_no_change=5, penalty='l2', power_t=0.25,\n",
       "       random_state=777, shuffle=True, tol=None, validation_fraction=0.1,\n",
       "       verbose=0, warm_start=False)"
      ]
     },
     "execution_count": 18,
     "metadata": {},
     "output_type": "execute_result"
    },
    {
     "name": "stdout",
     "output_type": "stream",
     "text": [
      "Train RMSE for SGDRegressor is 0.962574\n",
      "Test RMSE for SGDRegressor is 0.825379\n",
      "Training Model 1: lightgbm\n",
      "Train RMSE for lightgbm is 0.798954\n",
      "Test RMSE for lightgbm is 0.781604\n",
      "Training Model 2: keras\n",
      "Epoch 1/5\n",
      "4180799/4180799 [==============================] - ETA: 50s - loss: 1.7293 - mean_squared_error: 1.729 - ETA: 27s - loss: 1.6644 - mean_squared_error: 1.664 - ETA: 15s - loss: 1.6118 - mean_squared_error: 1.611 - ETA: 12s - loss: 1.5854 - mean_squared_error: 1.585 - ETA: 11s - loss: 1.5749 - mean_squared_error: 1.574 - ETA: 9s - loss: 1.5490 - mean_squared_error: 1.549 - ETA: 8s - loss: 1.5401 - mean_squared_error: 1.54 - ETA: 7s - loss: 1.5203 - mean_squared_error: 1.52 - ETA: 6s - loss: 1.5068 - mean_squared_error: 1.50 - ETA: 6s - loss: 1.4912 - mean_squared_error: 1.49 - ETA: 5s - loss: 1.4802 - mean_squared_error: 1.48 - ETA: 5s - loss: 1.4787 - mean_squared_error: 1.47 - ETA: 5s - loss: 1.4722 - mean_squared_error: 1.47 - ETA: 5s - loss: 1.4667 - mean_squared_error: 1.46 - ETA: 4s - loss: 1.4603 - mean_squared_error: 1.46 - ETA: 4s - loss: 1.4415 - mean_squared_error: 1.44 - ETA: 4s - loss: 1.4360 - mean_squared_error: 1.43 - ETA: 4s - loss: 1.4216 - mean_squared_error: 1.42 - ETA: 3s - loss: 1.4082 - mean_squared_error: 1.40 - ETA: 3s - loss: 1.3969 - mean_squared_error: 1.39 - ETA: 3s - loss: 1.3825 - mean_squared_error: 1.38 - ETA: 3s - loss: 1.3790 - mean_squared_error: 1.37 - ETA: 3s - loss: 1.3712 - mean_squared_error: 1.37 - ETA: 2s - loss: 1.3640 - mean_squared_error: 1.36 - ETA: 2s - loss: 1.3589 - mean_squared_error: 1.35 - ETA: 2s - loss: 1.3521 - mean_squared_error: 1.35 - ETA: 2s - loss: 1.3373 - mean_squared_error: 1.33 - ETA: 2s - loss: 1.3268 - mean_squared_error: 1.32 - ETA: 2s - loss: 1.3233 - mean_squared_error: 1.32 - ETA: 2s - loss: 1.3150 - mean_squared_error: 1.31 - ETA: 2s - loss: 1.3109 - mean_squared_error: 1.31 - ETA: 2s - loss: 1.3065 - mean_squared_error: 1.30 - ETA: 1s - loss: 1.3025 - mean_squared_error: 1.30 - ETA: 1s - loss: 1.2949 - mean_squared_error: 1.29 - ETA: 1s - loss: 1.2902 - mean_squared_error: 1.29 - ETA: 1s - loss: 1.2872 - mean_squared_error: 1.28 - ETA: 1s - loss: 1.2832 - mean_squared_error: 1.28 - ETA: 1s - loss: 1.2791 - mean_squared_error: 1.27 - ETA: 1s - loss: 1.2744 - mean_squared_error: 1.27 - ETA: 1s - loss: 1.2650 - mean_squared_error: 1.26 - ETA: 1s - loss: 1.2624 - mean_squared_error: 1.26 - ETA: 1s - loss: 1.2572 - mean_squared_error: 1.25 - ETA: 1s - loss: 1.2547 - mean_squared_error: 1.25 - ETA: 1s - loss: 1.2510 - mean_squared_error: 1.25 - ETA: 0s - loss: 1.2448 - mean_squared_error: 1.24 - ETA: 0s - loss: 1.2409 - mean_squared_error: 1.24 - ETA: 0s - loss: 1.2376 - mean_squared_error: 1.23 - ETA: 0s - loss: 1.2327 - mean_squared_error: 1.23 - ETA: 0s - loss: 1.2304 - mean_squared_error: 1.23 - ETA: 0s - loss: 1.2269 - mean_squared_error: 1.22 - ETA: 0s - loss: 1.2236 - mean_squared_error: 1.22 - ETA: 0s - loss: 1.2164 - mean_squared_error: 1.21 - ETA: 0s - loss: 1.2131 - mean_squared_error: 1.21 - ETA: 0s - loss: 1.2088 - mean_squared_error: 1.20 - ETA: 0s - loss: 1.2052 - mean_squared_error: 1.20 - ETA: 0s - loss: 1.1987 - mean_squared_error: 1.19 - 5s 1us/step - loss: 1.1965 - mean_squared_error: 1.1965\n",
      "Epoch 2/5\n",
      "4180799/4180799 [==============================] - ETA: 16s - loss: 0.9566 - mean_squared_error: 0.956 - ETA: 10s - loss: 0.9548 - mean_squared_error: 0.954 - ETA: 8s - loss: 0.9782 - mean_squared_error: 0.978 - ETA: 7s - loss: 0.9756 - mean_squared_error: 0.97 - ETA: 5s - loss: 0.9652 - mean_squared_error: 0.96 - ETA: 5s - loss: 0.9551 - mean_squared_error: 0.95 - ETA: 4s - loss: 0.9447 - mean_squared_error: 0.94 - ETA: 4s - loss: 0.9506 - mean_squared_error: 0.95 - ETA: 4s - loss: 0.9439 - mean_squared_error: 0.94 - ETA: 4s - loss: 0.9455 - mean_squared_error: 0.94 - ETA: 4s - loss: 0.9495 - mean_squared_error: 0.94 - ETA: 4s - loss: 0.9504 - mean_squared_error: 0.95 - ETA: 4s - loss: 0.9526 - mean_squared_error: 0.95 - ETA: 4s - loss: 0.9490 - mean_squared_error: 0.94 - ETA: 4s - loss: 0.9501 - mean_squared_error: 0.95 - ETA: 4s - loss: 0.9477 - mean_squared_error: 0.94 - ETA: 3s - loss: 0.9459 - mean_squared_error: 0.94 - ETA: 3s - loss: 0.9399 - mean_squared_error: 0.93 - ETA: 3s - loss: 0.9392 - mean_squared_error: 0.93 - ETA: 3s - loss: 0.9369 - mean_squared_error: 0.93 - ETA: 3s - loss: 0.9394 - mean_squared_error: 0.93 - ETA: 3s - loss: 0.9397 - mean_squared_error: 0.93 - ETA: 3s - loss: 0.9405 - mean_squared_error: 0.94 - ETA: 3s - loss: 0.9428 - mean_squared_error: 0.94 - ETA: 3s - loss: 0.9420 - mean_squared_error: 0.94 - ETA: 3s - loss: 0.9421 - mean_squared_error: 0.94 - ETA: 2s - loss: 0.9405 - mean_squared_error: 0.94 - ETA: 2s - loss: 0.9400 - mean_squared_error: 0.94 - ETA: 2s - loss: 0.9404 - mean_squared_error: 0.94 - ETA: 2s - loss: 0.9375 - mean_squared_error: 0.93 - ETA: 2s - loss: 0.9349 - mean_squared_error: 0.93 - ETA: 2s - loss: 0.9345 - mean_squared_error: 0.93 - ETA: 2s - loss: 0.9340 - mean_squared_error: 0.93 - ETA: 2s - loss: 0.9332 - mean_squared_error: 0.93 - ETA: 2s - loss: 0.9322 - mean_squared_error: 0.93 - ETA: 2s - loss: 0.9337 - mean_squared_error: 0.93 - ETA: 2s - loss: 0.9334 - mean_squared_error: 0.93 - ETA: 2s - loss: 0.9317 - mean_squared_error: 0.93 - ETA: 2s - loss: 0.9318 - mean_squared_error: 0.93 - ETA: 1s - loss: 0.9309 - mean_squared_error: 0.93 - ETA: 1s - loss: 0.9317 - mean_squared_error: 0.93 - ETA: 1s - loss: 0.9326 - mean_squared_error: 0.93 - ETA: 1s - loss: 0.9325 - mean_squared_error: 0.93 - ETA: 1s - loss: 0.9334 - mean_squared_error: 0.93 - ETA: 1s - loss: 0.9330 - mean_squared_error: 0.93 - ETA: 1s - loss: 0.9333 - mean_squared_error: 0.93 - ETA: 1s - loss: 0.9313 - mean_squared_error: 0.93 - ETA: 1s - loss: 0.9298 - mean_squared_error: 0.92 - ETA: 1s - loss: 0.9287 - mean_squared_error: 0.92 - ETA: 1s - loss: 0.9292 - mean_squared_error: 0.92 - ETA: 1s - loss: 0.9298 - mean_squared_error: 0.92 - ETA: 1s - loss: 0.9288 - mean_squared_error: 0.92 - ETA: 1s - loss: 0.9269 - mean_squared_error: 0.92 - ETA: 0s - loss: 0.9270 - mean_squared_error: 0.92 - ETA: 0s - loss: 0.9266 - mean_squared_error: 0.92 - ETA: 0s - loss: 0.9254 - mean_squared_error: 0.92 - ETA: 0s - loss: 0.9254 - mean_squared_error: 0.92 - ETA: 0s - loss: 0.9258 - mean_squared_error: 0.92 - ETA: 0s - loss: 0.9243 - mean_squared_error: 0.92 - ETA: 0s - loss: 0.9262 - mean_squared_error: 0.92 - ETA: 0s - loss: 0.9272 - mean_squared_error: 0.92 - ETA: 0s - loss: 0.9264 - mean_squared_error: 0.92 - ETA: 0s - loss: 0.9262 - mean_squared_error: 0.92 - ETA: 0s - loss: 0.9253 - mean_squared_error: 0.92 - ETA: 0s - loss: 0.9240 - mean_squared_error: 0.92 - ETA: 0s - loss: 0.9240 - mean_squared_error: 0.92 - ETA: 0s - loss: 0.9241 - mean_squared_error: 0.92 - ETA: 0s - loss: 0.9241 - mean_squared_error: 0.92 - ETA: 0s - loss: 0.9238 - mean_squared_error: 0.92 - 5s 1us/step - loss: 0.9240 - mean_squared_error: 0.9240\n",
      "Epoch 3/5\n"
     ]
    },
    {
     "name": "stdout",
     "output_type": "stream",
     "text": [
      "4180799/4180799 [==============================] - ETA: 15s - loss: 0.9582 - mean_squared_error: 0.958 - ETA: 9s - loss: 0.9166 - mean_squared_error: 0.916 - ETA: 7s - loss: 0.9093 - mean_squared_error: 0.90 - ETA: 7s - loss: 0.9026 - mean_squared_error: 0.90 - ETA: 6s - loss: 0.8920 - mean_squared_error: 0.89 - ETA: 5s - loss: 0.8992 - mean_squared_error: 0.89 - ETA: 5s - loss: 0.8946 - mean_squared_error: 0.89 - ETA: 5s - loss: 0.8899 - mean_squared_error: 0.88 - ETA: 4s - loss: 0.8866 - mean_squared_error: 0.88 - ETA: 4s - loss: 0.8896 - mean_squared_error: 0.88 - ETA: 4s - loss: 0.8884 - mean_squared_error: 0.88 - ETA: 4s - loss: 0.8947 - mean_squared_error: 0.89 - ETA: 4s - loss: 0.8970 - mean_squared_error: 0.89 - ETA: 4s - loss: 0.8988 - mean_squared_error: 0.89 - ETA: 4s - loss: 0.8994 - mean_squared_error: 0.89 - ETA: 4s - loss: 0.8991 - mean_squared_error: 0.89 - ETA: 3s - loss: 0.9002 - mean_squared_error: 0.90 - ETA: 3s - loss: 0.8999 - mean_squared_error: 0.89 - ETA: 3s - loss: 0.8969 - mean_squared_error: 0.89 - ETA: 3s - loss: 0.8952 - mean_squared_error: 0.89 - ETA: 3s - loss: 0.8984 - mean_squared_error: 0.89 - ETA: 3s - loss: 0.8999 - mean_squared_error: 0.89 - ETA: 3s - loss: 0.8987 - mean_squared_error: 0.89 - ETA: 3s - loss: 0.8963 - mean_squared_error: 0.89 - ETA: 3s - loss: 0.8952 - mean_squared_error: 0.89 - ETA: 2s - loss: 0.8916 - mean_squared_error: 0.89 - ETA: 2s - loss: 0.8960 - mean_squared_error: 0.89 - ETA: 2s - loss: 0.8965 - mean_squared_error: 0.89 - ETA: 2s - loss: 0.8969 - mean_squared_error: 0.89 - ETA: 2s - loss: 0.8972 - mean_squared_error: 0.89 - ETA: 2s - loss: 0.8964 - mean_squared_error: 0.89 - ETA: 2s - loss: 0.8945 - mean_squared_error: 0.89 - ETA: 2s - loss: 0.8948 - mean_squared_error: 0.89 - ETA: 2s - loss: 0.8962 - mean_squared_error: 0.89 - ETA: 2s - loss: 0.8963 - mean_squared_error: 0.89 - ETA: 2s - loss: 0.8947 - mean_squared_error: 0.89 - ETA: 1s - loss: 0.8959 - mean_squared_error: 0.89 - ETA: 1s - loss: 0.8948 - mean_squared_error: 0.89 - ETA: 1s - loss: 0.8953 - mean_squared_error: 0.89 - ETA: 1s - loss: 0.8953 - mean_squared_error: 0.89 - ETA: 1s - loss: 0.8948 - mean_squared_error: 0.89 - ETA: 1s - loss: 0.8950 - mean_squared_error: 0.89 - ETA: 1s - loss: 0.8950 - mean_squared_error: 0.89 - ETA: 1s - loss: 0.8954 - mean_squared_error: 0.89 - ETA: 1s - loss: 0.8966 - mean_squared_error: 0.89 - ETA: 1s - loss: 0.8973 - mean_squared_error: 0.89 - ETA: 1s - loss: 0.8949 - mean_squared_error: 0.89 - ETA: 1s - loss: 0.8938 - mean_squared_error: 0.89 - ETA: 0s - loss: 0.8915 - mean_squared_error: 0.89 - ETA: 0s - loss: 0.8928 - mean_squared_error: 0.89 - ETA: 0s - loss: 0.8933 - mean_squared_error: 0.89 - ETA: 0s - loss: 0.8939 - mean_squared_error: 0.89 - ETA: 0s - loss: 0.8934 - mean_squared_error: 0.89 - ETA: 0s - loss: 0.8920 - mean_squared_error: 0.89 - ETA: 0s - loss: 0.8909 - mean_squared_error: 0.89 - ETA: 0s - loss: 0.8901 - mean_squared_error: 0.89 - ETA: 0s - loss: 0.8898 - mean_squared_error: 0.88 - ETA: 0s - loss: 0.8897 - mean_squared_error: 0.88 - ETA: 0s - loss: 0.8887 - mean_squared_error: 0.88 - ETA: 0s - loss: 0.8892 - mean_squared_error: 0.88 - 5s 1us/step - loss: 0.8884 - mean_squared_error: 0.8884\n",
      "Epoch 4/5\n",
      "4180799/4180799 [==============================] - ETA: 15s - loss: 0.9683 - mean_squared_error: 0.968 - ETA: 9s - loss: 0.9537 - mean_squared_error: 0.953 - ETA: 7s - loss: 0.9425 - mean_squared_error: 0.94 - ETA: 5s - loss: 0.9049 - mean_squared_error: 0.90 - ETA: 5s - loss: 0.8989 - mean_squared_error: 0.89 - ETA: 5s - loss: 0.8925 - mean_squared_error: 0.89 - ETA: 5s - loss: 0.8944 - mean_squared_error: 0.89 - ETA: 5s - loss: 0.8869 - mean_squared_error: 0.88 - ETA: 4s - loss: 0.8858 - mean_squared_error: 0.88 - ETA: 4s - loss: 0.8931 - mean_squared_error: 0.89 - ETA: 4s - loss: 0.8946 - mean_squared_error: 0.89 - ETA: 4s - loss: 0.8947 - mean_squared_error: 0.89 - ETA: 3s - loss: 0.8914 - mean_squared_error: 0.89 - ETA: 3s - loss: 0.8917 - mean_squared_error: 0.89 - ETA: 3s - loss: 0.8893 - mean_squared_error: 0.88 - ETA: 3s - loss: 0.8878 - mean_squared_error: 0.88 - ETA: 3s - loss: 0.8853 - mean_squared_error: 0.88 - ETA: 3s - loss: 0.8830 - mean_squared_error: 0.88 - ETA: 3s - loss: 0.8801 - mean_squared_error: 0.88 - ETA: 2s - loss: 0.8781 - mean_squared_error: 0.87 - ETA: 2s - loss: 0.8827 - mean_squared_error: 0.88 - ETA: 2s - loss: 0.8822 - mean_squared_error: 0.88 - ETA: 2s - loss: 0.8802 - mean_squared_error: 0.88 - ETA: 2s - loss: 0.8809 - mean_squared_error: 0.88 - ETA: 2s - loss: 0.8808 - mean_squared_error: 0.88 - ETA: 2s - loss: 0.8813 - mean_squared_error: 0.88 - ETA: 2s - loss: 0.8808 - mean_squared_error: 0.88 - ETA: 2s - loss: 0.8797 - mean_squared_error: 0.87 - ETA: 2s - loss: 0.8808 - mean_squared_error: 0.88 - ETA: 2s - loss: 0.8803 - mean_squared_error: 0.88 - ETA: 1s - loss: 0.8813 - mean_squared_error: 0.88 - ETA: 1s - loss: 0.8792 - mean_squared_error: 0.87 - ETA: 1s - loss: 0.8785 - mean_squared_error: 0.87 - ETA: 1s - loss: 0.8796 - mean_squared_error: 0.87 - ETA: 1s - loss: 0.8789 - mean_squared_error: 0.87 - ETA: 1s - loss: 0.8796 - mean_squared_error: 0.87 - ETA: 1s - loss: 0.8797 - mean_squared_error: 0.87 - ETA: 1s - loss: 0.8785 - mean_squared_error: 0.87 - ETA: 1s - loss: 0.8772 - mean_squared_error: 0.87 - ETA: 1s - loss: 0.8761 - mean_squared_error: 0.87 - ETA: 1s - loss: 0.8766 - mean_squared_error: 0.87 - ETA: 0s - loss: 0.8750 - mean_squared_error: 0.87 - ETA: 0s - loss: 0.8757 - mean_squared_error: 0.87 - ETA: 0s - loss: 0.8768 - mean_squared_error: 0.87 - ETA: 0s - loss: 0.8762 - mean_squared_error: 0.87 - ETA: 0s - loss: 0.8762 - mean_squared_error: 0.87 - ETA: 0s - loss: 0.8764 - mean_squared_error: 0.87 - ETA: 0s - loss: 0.8772 - mean_squared_error: 0.87 - ETA: 0s - loss: 0.8768 - mean_squared_error: 0.87 - ETA: 0s - loss: 0.8781 - mean_squared_error: 0.87 - ETA: 0s - loss: 0.8794 - mean_squared_error: 0.87 - ETA: 0s - loss: 0.8786 - mean_squared_error: 0.87 - ETA: 0s - loss: 0.8787 - mean_squared_error: 0.87 - ETA: 0s - loss: 0.8789 - mean_squared_error: 0.87 - ETA: 0s - loss: 0.8795 - mean_squared_error: 0.87 - ETA: 0s - loss: 0.8793 - mean_squared_error: 0.87 - 5s 1us/step - loss: 0.8792 - mean_squared_error: 0.8792\n",
      "Epoch 5/5\n"
     ]
    },
    {
     "name": "stdout",
     "output_type": "stream",
     "text": [
      "4180799/4180799 [==============================] - ETA: 19s - loss: 0.8740 - mean_squared_error: 0.874 - ETA: 12s - loss: 0.8754 - mean_squared_error: 0.875 - ETA: 9s - loss: 0.8598 - mean_squared_error: 0.859 - ETA: 8s - loss: 0.8691 - mean_squared_error: 0.86 - ETA: 7s - loss: 0.8722 - mean_squared_error: 0.87 - ETA: 6s - loss: 0.8636 - mean_squared_error: 0.86 - ETA: 6s - loss: 0.8744 - mean_squared_error: 0.87 - ETA: 6s - loss: 0.8770 - mean_squared_error: 0.87 - ETA: 5s - loss: 0.8733 - mean_squared_error: 0.87 - ETA: 5s - loss: 0.8780 - mean_squared_error: 0.87 - ETA: 5s - loss: 0.8771 - mean_squared_error: 0.87 - ETA: 4s - loss: 0.8785 - mean_squared_error: 0.87 - ETA: 4s - loss: 0.8731 - mean_squared_error: 0.87 - ETA: 4s - loss: 0.8717 - mean_squared_error: 0.87 - ETA: 4s - loss: 0.8751 - mean_squared_error: 0.87 - ETA: 3s - loss: 0.8758 - mean_squared_error: 0.87 - ETA: 3s - loss: 0.8749 - mean_squared_error: 0.87 - ETA: 3s - loss: 0.8732 - mean_squared_error: 0.87 - ETA: 3s - loss: 0.8735 - mean_squared_error: 0.87 - ETA: 3s - loss: 0.8732 - mean_squared_error: 0.87 - ETA: 3s - loss: 0.8738 - mean_squared_error: 0.87 - ETA: 3s - loss: 0.8743 - mean_squared_error: 0.87 - ETA: 3s - loss: 0.8738 - mean_squared_error: 0.87 - ETA: 3s - loss: 0.8748 - mean_squared_error: 0.87 - ETA: 3s - loss: 0.8746 - mean_squared_error: 0.87 - ETA: 2s - loss: 0.8738 - mean_squared_error: 0.87 - ETA: 2s - loss: 0.8751 - mean_squared_error: 0.87 - ETA: 2s - loss: 0.8743 - mean_squared_error: 0.87 - ETA: 2s - loss: 0.8738 - mean_squared_error: 0.87 - ETA: 2s - loss: 0.8736 - mean_squared_error: 0.87 - ETA: 2s - loss: 0.8741 - mean_squared_error: 0.87 - ETA: 2s - loss: 0.8726 - mean_squared_error: 0.87 - ETA: 2s - loss: 0.8738 - mean_squared_error: 0.87 - ETA: 2s - loss: 0.8730 - mean_squared_error: 0.87 - ETA: 2s - loss: 0.8733 - mean_squared_error: 0.87 - ETA: 2s - loss: 0.8716 - mean_squared_error: 0.87 - ETA: 2s - loss: 0.8731 - mean_squared_error: 0.87 - ETA: 1s - loss: 0.8730 - mean_squared_error: 0.87 - ETA: 1s - loss: 0.8745 - mean_squared_error: 0.87 - ETA: 1s - loss: 0.8718 - mean_squared_error: 0.87 - ETA: 1s - loss: 0.8704 - mean_squared_error: 0.87 - ETA: 1s - loss: 0.8729 - mean_squared_error: 0.87 - ETA: 1s - loss: 0.8717 - mean_squared_error: 0.87 - ETA: 1s - loss: 0.8718 - mean_squared_error: 0.87 - ETA: 1s - loss: 0.8715 - mean_squared_error: 0.87 - ETA: 1s - loss: 0.8728 - mean_squared_error: 0.87 - ETA: 1s - loss: 0.8736 - mean_squared_error: 0.87 - ETA: 1s - loss: 0.8734 - mean_squared_error: 0.87 - ETA: 0s - loss: 0.8729 - mean_squared_error: 0.87 - ETA: 0s - loss: 0.8727 - mean_squared_error: 0.87 - ETA: 0s - loss: 0.8727 - mean_squared_error: 0.87 - ETA: 0s - loss: 0.8729 - mean_squared_error: 0.87 - ETA: 0s - loss: 0.8735 - mean_squared_error: 0.87 - ETA: 0s - loss: 0.8729 - mean_squared_error: 0.87 - ETA: 0s - loss: 0.8728 - mean_squared_error: 0.87 - ETA: 0s - loss: 0.8726 - mean_squared_error: 0.87 - ETA: 0s - loss: 0.8720 - mean_squared_error: 0.87 - ETA: 0s - loss: 0.8713 - mean_squared_error: 0.87 - ETA: 0s - loss: 0.8722 - mean_squared_error: 0.87 - ETA: 0s - loss: 0.8732 - mean_squared_error: 0.87 - ETA: 0s - loss: 0.8724 - mean_squared_error: 0.87 - ETA: 0s - loss: 0.8732 - mean_squared_error: 0.87 - ETA: 0s - loss: 0.8734 - mean_squared_error: 0.87 - ETA: 0s - loss: 0.8738 - mean_squared_error: 0.87 - 5s 1us/step - loss: 0.8739 - mean_squared_error: 0.8739\n"
     ]
    },
    {
     "data": {
      "text/plain": [
       "<keras.callbacks.History at 0x1ac853abcc0>"
      ]
     },
     "execution_count": 18,
     "metadata": {},
     "output_type": "execute_result"
    },
    {
     "name": "stdout",
     "output_type": "stream",
     "text": [
      "210494/210494 [==============================] - ETA:  - 0s 1us/step\n",
      "--------------------------------------------------\n"
     ]
    },
    {
     "name": "stderr",
     "output_type": "stream",
     "text": [
      "\r",
      " 38%|███▊      | 3/8 [17:25<28:46, 345.31s/it]"
     ]
    },
    {
     "name": "stdout",
     "output_type": "stream",
     "text": [
      "--------------------------------------------------\n",
      "Start training for month30\n",
      "Training Model 0: SGDRegressor\n"
     ]
    },
    {
     "name": "stderr",
     "output_type": "stream",
     "text": [
      "C:\\ProgramData\\Anaconda3\\lib\\site-packages\\sklearn\\linear_model\\stochastic_gradient.py:166: FutureWarning: max_iter and tol parameters have been added in SGDRegressor in 0.19. If both are left unset, they default to max_iter=5 and tol=None. If tol is not None, max_iter defaults to max_iter=1000. From 0.21, default max_iter will be 1000, and default tol will be 1e-3.\n",
      "  FutureWarning)\n"
     ]
    },
    {
     "data": {
      "text/plain": [
       "SGDRegressor(alpha=0.0001, average=False, early_stopping=False, epsilon=0.1,\n",
       "       eta0=0.01, fit_intercept=True, l1_ratio=0.15,\n",
       "       learning_rate='invscaling', loss='squared_loss', max_iter=None,\n",
       "       n_iter=None, n_iter_no_change=5, penalty='l2', power_t=0.25,\n",
       "       random_state=777, shuffle=True, tol=None, validation_fraction=0.1,\n",
       "       verbose=0, warm_start=False)"
      ]
     },
     "execution_count": 18,
     "metadata": {},
     "output_type": "execute_result"
    },
    {
     "name": "stdout",
     "output_type": "stream",
     "text": [
      "Train RMSE for SGDRegressor is 0.962578\n",
      "Test RMSE for SGDRegressor is 0.759858\n",
      "Training Model 1: lightgbm\n",
      "Train RMSE for lightgbm is 0.796030\n",
      "Test RMSE for lightgbm is 0.710085\n",
      "Training Model 2: keras\n",
      "Epoch 1/5\n",
      "4391293/4391293 [==============================] - ETA: 52s - loss: 1.6480 - mean_squared_error: 1.648 - ETA: 19s - loss: 1.5643 - mean_squared_error: 1.564 - ETA: 15s - loss: 1.5747 - mean_squared_error: 1.574 - ETA: 11s - loss: 1.5678 - mean_squared_error: 1.567 - ETA: 9s - loss: 1.5328 - mean_squared_error: 1.532 - ETA: 7s - loss: 1.5228 - mean_squared_error: 1.52 - ETA: 7s - loss: 1.5134 - mean_squared_error: 1.51 - ETA: 6s - loss: 1.4947 - mean_squared_error: 1.49 - ETA: 5s - loss: 1.4743 - mean_squared_error: 1.47 - ETA: 5s - loss: 1.4607 - mean_squared_error: 1.46 - ETA: 4s - loss: 1.4380 - mean_squared_error: 1.43 - ETA: 4s - loss: 1.4225 - mean_squared_error: 1.42 - ETA: 4s - loss: 1.4052 - mean_squared_error: 1.40 - ETA: 4s - loss: 1.3923 - mean_squared_error: 1.39 - ETA: 3s - loss: 1.3827 - mean_squared_error: 1.38 - ETA: 3s - loss: 1.3717 - mean_squared_error: 1.37 - ETA: 3s - loss: 1.3567 - mean_squared_error: 1.35 - ETA: 3s - loss: 1.3427 - mean_squared_error: 1.34 - ETA: 3s - loss: 1.3300 - mean_squared_error: 1.33 - ETA: 2s - loss: 1.3260 - mean_squared_error: 1.32 - ETA: 2s - loss: 1.3169 - mean_squared_error: 1.31 - ETA: 2s - loss: 1.3034 - mean_squared_error: 1.30 - ETA: 2s - loss: 1.2991 - mean_squared_error: 1.29 - ETA: 2s - loss: 1.2891 - mean_squared_error: 1.28 - ETA: 2s - loss: 1.2826 - mean_squared_error: 1.28 - ETA: 2s - loss: 1.2753 - mean_squared_error: 1.27 - ETA: 2s - loss: 1.2689 - mean_squared_error: 1.26 - ETA: 1s - loss: 1.2574 - mean_squared_error: 1.25 - ETA: 1s - loss: 1.2485 - mean_squared_error: 1.24 - ETA: 1s - loss: 1.2456 - mean_squared_error: 1.24 - ETA: 1s - loss: 1.2383 - mean_squared_error: 1.23 - ETA: 1s - loss: 1.2345 - mean_squared_error: 1.23 - ETA: 1s - loss: 1.2301 - mean_squared_error: 1.23 - ETA: 1s - loss: 1.2205 - mean_squared_error: 1.22 - ETA: 1s - loss: 1.2148 - mean_squared_error: 1.21 - ETA: 1s - loss: 1.2107 - mean_squared_error: 1.21 - ETA: 1s - loss: 1.2026 - mean_squared_error: 1.20 - ETA: 0s - loss: 1.1960 - mean_squared_error: 1.19 - ETA: 0s - loss: 1.1924 - mean_squared_error: 1.19 - ETA: 0s - loss: 1.1856 - mean_squared_error: 1.18 - ETA: 0s - loss: 1.1801 - mean_squared_error: 1.18 - ETA: 0s - loss: 1.1766 - mean_squared_error: 1.17 - ETA: 0s - loss: 1.1722 - mean_squared_error: 1.17 - ETA: 0s - loss: 1.1702 - mean_squared_error: 1.17 - ETA: 0s - loss: 1.1678 - mean_squared_error: 1.16 - ETA: 0s - loss: 1.1626 - mean_squared_error: 1.16 - ETA: 0s - loss: 1.1586 - mean_squared_error: 1.15 - ETA: 0s - loss: 1.1561 - mean_squared_error: 1.15 - 5s 1us/step - loss: 1.1544 - mean_squared_error: 1.1544\n",
      "Epoch 2/5\n",
      "4391293/4391293 [==============================] - ETA: 16s - loss: 0.9744 - mean_squared_error: 0.974 - ETA: 7s - loss: 0.9680 - mean_squared_error: 0.968 - ETA: 5s - loss: 0.9549 - mean_squared_error: 0.95 - ETA: 5s - loss: 0.9474 - mean_squared_error: 0.94 - ETA: 4s - loss: 0.9488 - mean_squared_error: 0.94 - ETA: 4s - loss: 0.9401 - mean_squared_error: 0.94 - ETA: 3s - loss: 0.9410 - mean_squared_error: 0.94 - ETA: 3s - loss: 0.9397 - mean_squared_error: 0.93 - ETA: 3s - loss: 0.9343 - mean_squared_error: 0.93 - ETA: 3s - loss: 0.9351 - mean_squared_error: 0.93 - ETA: 3s - loss: 0.9309 - mean_squared_error: 0.93 - ETA: 3s - loss: 0.9310 - mean_squared_error: 0.93 - ETA: 3s - loss: 0.9280 - mean_squared_error: 0.92 - ETA: 2s - loss: 0.9295 - mean_squared_error: 0.92 - ETA: 2s - loss: 0.9290 - mean_squared_error: 0.92 - ETA: 2s - loss: 0.9308 - mean_squared_error: 0.93 - ETA: 2s - loss: 0.9296 - mean_squared_error: 0.92 - ETA: 2s - loss: 0.9279 - mean_squared_error: 0.92 - ETA: 2s - loss: 0.9267 - mean_squared_error: 0.92 - ETA: 2s - loss: 0.9283 - mean_squared_error: 0.92 - ETA: 2s - loss: 0.9256 - mean_squared_error: 0.92 - ETA: 2s - loss: 0.9225 - mean_squared_error: 0.92 - ETA: 1s - loss: 0.9237 - mean_squared_error: 0.92 - ETA: 1s - loss: 0.9238 - mean_squared_error: 0.92 - ETA: 1s - loss: 0.9233 - mean_squared_error: 0.92 - ETA: 1s - loss: 0.9222 - mean_squared_error: 0.92 - ETA: 1s - loss: 0.9215 - mean_squared_error: 0.92 - ETA: 1s - loss: 0.9217 - mean_squared_error: 0.92 - ETA: 1s - loss: 0.9190 - mean_squared_error: 0.91 - ETA: 1s - loss: 0.9182 - mean_squared_error: 0.91 - ETA: 1s - loss: 0.9181 - mean_squared_error: 0.91 - ETA: 1s - loss: 0.9158 - mean_squared_error: 0.91 - ETA: 1s - loss: 0.9144 - mean_squared_error: 0.91 - ETA: 0s - loss: 0.9123 - mean_squared_error: 0.91 - ETA: 0s - loss: 0.9113 - mean_squared_error: 0.91 - ETA: 0s - loss: 0.9084 - mean_squared_error: 0.90 - ETA: 0s - loss: 0.9071 - mean_squared_error: 0.90 - ETA: 0s - loss: 0.9069 - mean_squared_error: 0.90 - ETA: 0s - loss: 0.9075 - mean_squared_error: 0.90 - ETA: 0s - loss: 0.9079 - mean_squared_error: 0.90 - ETA: 0s - loss: 0.9074 - mean_squared_error: 0.90 - ETA: 0s - loss: 0.9073 - mean_squared_error: 0.90 - ETA: 0s - loss: 0.9077 - mean_squared_error: 0.90 - ETA: 0s - loss: 0.9075 - mean_squared_error: 0.90 - 4s 1us/step - loss: 0.9067 - mean_squared_error: 0.9067\n",
      "Epoch 3/5\n",
      "4391293/4391293 [==============================] - ETA: 16s - loss: 0.8906 - mean_squared_error: 0.890 - ETA: 7s - loss: 0.8781 - mean_squared_error: 0.878 - ETA: 5s - loss: 0.9029 - mean_squared_error: 0.90 - ETA: 5s - loss: 0.8965 - mean_squared_error: 0.89 - ETA: 4s - loss: 0.9198 - mean_squared_error: 0.91 - ETA: 4s - loss: 0.9186 - mean_squared_error: 0.91 - ETA: 4s - loss: 0.9132 - mean_squared_error: 0.91 - ETA: 3s - loss: 0.9005 - mean_squared_error: 0.90 - ETA: 3s - loss: 0.9014 - mean_squared_error: 0.90 - ETA: 3s - loss: 0.9002 - mean_squared_error: 0.90 - ETA: 3s - loss: 0.8984 - mean_squared_error: 0.89 - ETA: 3s - loss: 0.8928 - mean_squared_error: 0.89 - ETA: 3s - loss: 0.8885 - mean_squared_error: 0.88 - ETA: 2s - loss: 0.8887 - mean_squared_error: 0.88 - ETA: 2s - loss: 0.8913 - mean_squared_error: 0.89 - ETA: 2s - loss: 0.8882 - mean_squared_error: 0.88 - ETA: 2s - loss: 0.8867 - mean_squared_error: 0.88 - ETA: 2s - loss: 0.8871 - mean_squared_error: 0.88 - ETA: 2s - loss: 0.8894 - mean_squared_error: 0.88 - ETA: 2s - loss: 0.8895 - mean_squared_error: 0.88 - ETA: 2s - loss: 0.8866 - mean_squared_error: 0.88 - ETA: 2s - loss: 0.8876 - mean_squared_error: 0.88 - ETA: 1s - loss: 0.8846 - mean_squared_error: 0.88 - ETA: 1s - loss: 0.8852 - mean_squared_error: 0.88 - ETA: 1s - loss: 0.8853 - mean_squared_error: 0.88 - ETA: 1s - loss: 0.8858 - mean_squared_error: 0.88 - ETA: 1s - loss: 0.8849 - mean_squared_error: 0.88 - ETA: 1s - loss: 0.8858 - mean_squared_error: 0.88 - ETA: 1s - loss: 0.8834 - mean_squared_error: 0.88 - ETA: 1s - loss: 0.8849 - mean_squared_error: 0.88 - ETA: 1s - loss: 0.8842 - mean_squared_error: 0.88 - ETA: 1s - loss: 0.8840 - mean_squared_error: 0.88 - ETA: 1s - loss: 0.8828 - mean_squared_error: 0.88 - ETA: 0s - loss: 0.8811 - mean_squared_error: 0.88 - ETA: 0s - loss: 0.8795 - mean_squared_error: 0.87 - ETA: 0s - loss: 0.8794 - mean_squared_error: 0.87 - ETA: 0s - loss: 0.8783 - mean_squared_error: 0.87 - ETA: 0s - loss: 0.8776 - mean_squared_error: 0.87 - ETA: 0s - loss: 0.8785 - mean_squared_error: 0.87 - ETA: 0s - loss: 0.8788 - mean_squared_error: 0.87 - ETA: 0s - loss: 0.8787 - mean_squared_error: 0.87 - ETA: 0s - loss: 0.8791 - mean_squared_error: 0.87 - ETA: 0s - loss: 0.8784 - mean_squared_error: 0.87 - 4s 1us/step - loss: 0.8772 - mean_squared_error: 0.8772\n",
      "Epoch 4/5\n"
     ]
    },
    {
     "name": "stdout",
     "output_type": "stream",
     "text": [
      "4391293/4391293 [==============================] - ETA: 14s - loss: 0.9267 - mean_squared_error: 0.926 - ETA: 7s - loss: 0.8877 - mean_squared_error: 0.887 - ETA: 5s - loss: 0.8695 - mean_squared_error: 0.86 - ETA: 5s - loss: 0.8487 - mean_squared_error: 0.84 - ETA: 4s - loss: 0.8479 - mean_squared_error: 0.84 - ETA: 4s - loss: 0.8600 - mean_squared_error: 0.86 - ETA: 4s - loss: 0.8614 - mean_squared_error: 0.86 - ETA: 4s - loss: 0.8569 - mean_squared_error: 0.85 - ETA: 3s - loss: 0.8592 - mean_squared_error: 0.85 - ETA: 3s - loss: 0.8556 - mean_squared_error: 0.85 - ETA: 3s - loss: 0.8525 - mean_squared_error: 0.85 - ETA: 3s - loss: 0.8481 - mean_squared_error: 0.84 - ETA: 3s - loss: 0.8536 - mean_squared_error: 0.85 - ETA: 3s - loss: 0.8525 - mean_squared_error: 0.85 - ETA: 3s - loss: 0.8508 - mean_squared_error: 0.85 - ETA: 2s - loss: 0.8528 - mean_squared_error: 0.85 - ETA: 2s - loss: 0.8511 - mean_squared_error: 0.85 - ETA: 2s - loss: 0.8538 - mean_squared_error: 0.85 - ETA: 2s - loss: 0.8566 - mean_squared_error: 0.85 - ETA: 2s - loss: 0.8569 - mean_squared_error: 0.85 - ETA: 2s - loss: 0.8589 - mean_squared_error: 0.85 - ETA: 2s - loss: 0.8625 - mean_squared_error: 0.86 - ETA: 2s - loss: 0.8649 - mean_squared_error: 0.86 - ETA: 2s - loss: 0.8651 - mean_squared_error: 0.86 - ETA: 2s - loss: 0.8671 - mean_squared_error: 0.86 - ETA: 2s - loss: 0.8673 - mean_squared_error: 0.86 - ETA: 1s - loss: 0.8686 - mean_squared_error: 0.86 - ETA: 1s - loss: 0.8653 - mean_squared_error: 0.86 - ETA: 1s - loss: 0.8646 - mean_squared_error: 0.86 - ETA: 1s - loss: 0.8657 - mean_squared_error: 0.86 - ETA: 1s - loss: 0.8666 - mean_squared_error: 0.86 - ETA: 1s - loss: 0.8675 - mean_squared_error: 0.86 - ETA: 1s - loss: 0.8671 - mean_squared_error: 0.86 - ETA: 1s - loss: 0.8653 - mean_squared_error: 0.86 - ETA: 1s - loss: 0.8649 - mean_squared_error: 0.86 - ETA: 1s - loss: 0.8627 - mean_squared_error: 0.86 - ETA: 0s - loss: 0.8626 - mean_squared_error: 0.86 - ETA: 0s - loss: 0.8617 - mean_squared_error: 0.86 - ETA: 0s - loss: 0.8631 - mean_squared_error: 0.86 - ETA: 0s - loss: 0.8640 - mean_squared_error: 0.86 - ETA: 0s - loss: 0.8653 - mean_squared_error: 0.86 - ETA: 0s - loss: 0.8660 - mean_squared_error: 0.86 - ETA: 0s - loss: 0.8662 - mean_squared_error: 0.86 - ETA: 0s - loss: 0.8668 - mean_squared_error: 0.86 - ETA: 0s - loss: 0.8673 - mean_squared_error: 0.86 - ETA: 0s - loss: 0.8675 - mean_squared_error: 0.86 - ETA: 0s - loss: 0.8676 - mean_squared_error: 0.86 - 4s 1us/step - loss: 0.8673 - mean_squared_error: 0.8673\n",
      "Epoch 5/5\n",
      "4391293/4391293 [==============================] - ETA: 16s - loss: 0.8630 - mean_squared_error: 0.863 - ETA: 7s - loss: 0.8629 - mean_squared_error: 0.862 - ETA: 5s - loss: 0.8710 - mean_squared_error: 0.87 - ETA: 5s - loss: 0.8578 - mean_squared_error: 0.85 - ETA: 4s - loss: 0.8607 - mean_squared_error: 0.86 - ETA: 4s - loss: 0.8647 - mean_squared_error: 0.86 - ETA: 4s - loss: 0.8707 - mean_squared_error: 0.87 - ETA: 3s - loss: 0.8741 - mean_squared_error: 0.87 - ETA: 3s - loss: 0.8755 - mean_squared_error: 0.87 - ETA: 3s - loss: 0.8727 - mean_squared_error: 0.87 - ETA: 3s - loss: 0.8668 - mean_squared_error: 0.86 - ETA: 3s - loss: 0.8653 - mean_squared_error: 0.86 - ETA: 3s - loss: 0.8633 - mean_squared_error: 0.86 - ETA: 2s - loss: 0.8631 - mean_squared_error: 0.86 - ETA: 2s - loss: 0.8645 - mean_squared_error: 0.86 - ETA: 2s - loss: 0.8629 - mean_squared_error: 0.86 - ETA: 2s - loss: 0.8618 - mean_squared_error: 0.86 - ETA: 2s - loss: 0.8620 - mean_squared_error: 0.86 - ETA: 2s - loss: 0.8638 - mean_squared_error: 0.86 - ETA: 2s - loss: 0.8622 - mean_squared_error: 0.86 - ETA: 2s - loss: 0.8623 - mean_squared_error: 0.86 - ETA: 2s - loss: 0.8627 - mean_squared_error: 0.86 - ETA: 2s - loss: 0.8635 - mean_squared_error: 0.86 - ETA: 1s - loss: 0.8642 - mean_squared_error: 0.86 - ETA: 1s - loss: 0.8632 - mean_squared_error: 0.86 - ETA: 1s - loss: 0.8618 - mean_squared_error: 0.86 - ETA: 1s - loss: 0.8603 - mean_squared_error: 0.86 - ETA: 1s - loss: 0.8605 - mean_squared_error: 0.86 - ETA: 1s - loss: 0.8590 - mean_squared_error: 0.85 - ETA: 1s - loss: 0.8596 - mean_squared_error: 0.85 - ETA: 1s - loss: 0.8585 - mean_squared_error: 0.85 - ETA: 1s - loss: 0.8579 - mean_squared_error: 0.85 - ETA: 1s - loss: 0.8561 - mean_squared_error: 0.85 - ETA: 1s - loss: 0.8555 - mean_squared_error: 0.85 - ETA: 1s - loss: 0.8574 - mean_squared_error: 0.85 - ETA: 0s - loss: 0.8579 - mean_squared_error: 0.85 - ETA: 0s - loss: 0.8587 - mean_squared_error: 0.85 - ETA: 0s - loss: 0.8592 - mean_squared_error: 0.85 - ETA: 0s - loss: 0.8591 - mean_squared_error: 0.85 - ETA: 0s - loss: 0.8605 - mean_squared_error: 0.86 - ETA: 0s - loss: 0.8603 - mean_squared_error: 0.86 - ETA: 0s - loss: 0.8620 - mean_squared_error: 0.86 - ETA: 0s - loss: 0.8630 - mean_squared_error: 0.86 - ETA: 0s - loss: 0.8604 - mean_squared_error: 0.86 - ETA: 0s - loss: 0.8607 - mean_squared_error: 0.86 - 4s 1us/step - loss: 0.8616 - mean_squared_error: 0.8616\n"
     ]
    },
    {
     "data": {
      "text/plain": [
       "<keras.callbacks.History at 0x1ac85702048>"
      ]
     },
     "execution_count": 18,
     "metadata": {},
     "output_type": "execute_result"
    },
    {
     "name": "stdout",
     "output_type": "stream",
     "text": [
      "215496/215496 [==============================] - ETA:  - 0s 0us/step\n",
      "--------------------------------------------------\n"
     ]
    },
    {
     "name": "stderr",
     "output_type": "stream",
     "text": [
      "\r",
      " 50%|█████     | 4/8 [23:35<23:30, 352.66s/it]"
     ]
    },
    {
     "name": "stdout",
     "output_type": "stream",
     "text": [
      "--------------------------------------------------\n",
      "Start training for month31\n",
      "Training Model 0: SGDRegressor\n"
     ]
    },
    {
     "name": "stderr",
     "output_type": "stream",
     "text": [
      "C:\\ProgramData\\Anaconda3\\lib\\site-packages\\sklearn\\linear_model\\stochastic_gradient.py:166: FutureWarning: max_iter and tol parameters have been added in SGDRegressor in 0.19. If both are left unset, they default to max_iter=5 and tol=None. If tol is not None, max_iter defaults to max_iter=1000. From 0.21, default max_iter will be 1000, and default tol will be 1e-3.\n",
      "  FutureWarning)\n"
     ]
    },
    {
     "data": {
      "text/plain": [
       "SGDRegressor(alpha=0.0001, average=False, early_stopping=False, epsilon=0.1,\n",
       "       eta0=0.01, fit_intercept=True, l1_ratio=0.15,\n",
       "       learning_rate='invscaling', loss='squared_loss', max_iter=None,\n",
       "       n_iter=None, n_iter_no_change=5, penalty='l2', power_t=0.25,\n",
       "       random_state=777, shuffle=True, tol=None, validation_fraction=0.1,\n",
       "       verbose=0, warm_start=False)"
      ]
     },
     "execution_count": 18,
     "metadata": {},
     "output_type": "execute_result"
    },
    {
     "name": "stdout",
     "output_type": "stream",
     "text": [
      "Train RMSE for SGDRegressor is 0.948981\n",
      "Test RMSE for SGDRegressor is 0.842127\n",
      "Training Model 1: lightgbm\n",
      "Train RMSE for lightgbm is 0.792038\n",
      "Test RMSE for lightgbm is 0.781334\n",
      "Training Model 2: keras\n",
      "Epoch 1/5\n",
      "4606789/4606789 [==============================] - ETA: 1:02 - loss: 1.5976 - mean_squared_error: 1.59 - ETA: 33s - loss: 1.6177 - mean_squared_error: 1.6177 - ETA: 18s - loss: 1.5776 - mean_squared_error: 1.577 - ETA: 13s - loss: 1.5538 - mean_squared_error: 1.553 - ETA: 11s - loss: 1.5532 - mean_squared_error: 1.553 - ETA: 9s - loss: 1.5403 - mean_squared_error: 1.540 - ETA: 8s - loss: 1.5457 - mean_squared_error: 1.54 - ETA: 8s - loss: 1.5499 - mean_squared_error: 1.54 - ETA: 7s - loss: 1.5468 - mean_squared_error: 1.54 - ETA: 6s - loss: 1.5485 - mean_squared_error: 1.54 - ETA: 5s - loss: 1.5589 - mean_squared_error: 1.55 - ETA: 5s - loss: 1.5623 - mean_squared_error: 1.56 - ETA: 5s - loss: 1.5660 - mean_squared_error: 1.56 - ETA: 4s - loss: 1.5657 - mean_squared_error: 1.56 - ETA: 4s - loss: 1.5649 - mean_squared_error: 1.56 - ETA: 4s - loss: 1.5659 - mean_squared_error: 1.56 - ETA: 4s - loss: 1.5635 - mean_squared_error: 1.56 - ETA: 3s - loss: 1.5661 - mean_squared_error: 1.56 - ETA: 3s - loss: 1.5633 - mean_squared_error: 1.56 - ETA: 3s - loss: 1.5570 - mean_squared_error: 1.55 - ETA: 3s - loss: 1.5562 - mean_squared_error: 1.55 - ETA: 3s - loss: 1.5529 - mean_squared_error: 1.55 - ETA: 2s - loss: 1.5501 - mean_squared_error: 1.55 - ETA: 2s - loss: 1.5472 - mean_squared_error: 1.54 - ETA: 2s - loss: 1.5449 - mean_squared_error: 1.54 - ETA: 2s - loss: 1.5431 - mean_squared_error: 1.54 - ETA: 2s - loss: 1.5441 - mean_squared_error: 1.54 - ETA: 2s - loss: 1.5449 - mean_squared_error: 1.54 - ETA: 2s - loss: 1.5446 - mean_squared_error: 1.54 - ETA: 1s - loss: 1.5448 - mean_squared_error: 1.54 - ETA: 1s - loss: 1.5422 - mean_squared_error: 1.54 - ETA: 1s - loss: 1.5417 - mean_squared_error: 1.54 - ETA: 1s - loss: 1.5405 - mean_squared_error: 1.54 - ETA: 1s - loss: 1.5430 - mean_squared_error: 1.54 - ETA: 1s - loss: 1.5444 - mean_squared_error: 1.54 - ETA: 1s - loss: 1.5438 - mean_squared_error: 1.54 - ETA: 1s - loss: 1.5454 - mean_squared_error: 1.54 - ETA: 1s - loss: 1.5474 - mean_squared_error: 1.54 - ETA: 0s - loss: 1.5486 - mean_squared_error: 1.54 - ETA: 0s - loss: 1.5488 - mean_squared_error: 1.54 - ETA: 0s - loss: 1.5512 - mean_squared_error: 1.55 - ETA: 0s - loss: 1.5512 - mean_squared_error: 1.55 - ETA: 0s - loss: 1.5534 - mean_squared_error: 1.55 - ETA: 0s - loss: 1.5555 - mean_squared_error: 1.55 - ETA: 0s - loss: 1.5549 - mean_squared_error: 1.55 - ETA: 0s - loss: 1.5545 - mean_squared_error: 1.55 - ETA: 0s - loss: 1.5554 - mean_squared_error: 1.55 - 5s 1us/step - loss: 1.5548 - mean_squared_error: 1.5548\n",
      "Epoch 2/5\n",
      "4606789/4606789 [==============================] - ETA: 18s - loss: 1.4752 - mean_squared_error: 1.475 - ETA: 8s - loss: 1.5112 - mean_squared_error: 1.511 - ETA: 6s - loss: 1.5288 - mean_squared_error: 1.52 - ETA: 5s - loss: 1.5570 - mean_squared_error: 1.55 - ETA: 4s - loss: 1.5520 - mean_squared_error: 1.55 - ETA: 4s - loss: 1.5535 - mean_squared_error: 1.55 - ETA: 4s - loss: 1.5595 - mean_squared_error: 1.55 - ETA: 4s - loss: 1.5682 - mean_squared_error: 1.56 - ETA: 3s - loss: 1.5682 - mean_squared_error: 1.56 - ETA: 3s - loss: 1.5671 - mean_squared_error: 1.56 - ETA: 3s - loss: 1.5683 - mean_squared_error: 1.56 - ETA: 3s - loss: 1.5628 - mean_squared_error: 1.56 - ETA: 3s - loss: 1.5664 - mean_squared_error: 1.56 - ETA: 3s - loss: 1.5659 - mean_squared_error: 1.56 - ETA: 3s - loss: 1.5637 - mean_squared_error: 1.56 - ETA: 3s - loss: 1.5621 - mean_squared_error: 1.56 - ETA: 2s - loss: 1.5645 - mean_squared_error: 1.56 - ETA: 2s - loss: 1.5660 - mean_squared_error: 1.56 - ETA: 2s - loss: 1.5660 - mean_squared_error: 1.56 - ETA: 2s - loss: 1.5679 - mean_squared_error: 1.56 - ETA: 2s - loss: 1.5625 - mean_squared_error: 1.56 - ETA: 2s - loss: 1.5611 - mean_squared_error: 1.56 - ETA: 2s - loss: 1.5571 - mean_squared_error: 1.55 - ETA: 2s - loss: 1.5567 - mean_squared_error: 1.55 - ETA: 2s - loss: 1.5551 - mean_squared_error: 1.55 - ETA: 1s - loss: 1.5541 - mean_squared_error: 1.55 - ETA: 1s - loss: 1.5523 - mean_squared_error: 1.55 - ETA: 1s - loss: 1.5504 - mean_squared_error: 1.55 - ETA: 1s - loss: 1.5502 - mean_squared_error: 1.55 - ETA: 1s - loss: 1.5524 - mean_squared_error: 1.55 - ETA: 1s - loss: 1.5549 - mean_squared_error: 1.55 - ETA: 1s - loss: 1.5548 - mean_squared_error: 1.55 - ETA: 1s - loss: 1.5545 - mean_squared_error: 1.55 - ETA: 1s - loss: 1.5560 - mean_squared_error: 1.55 - ETA: 1s - loss: 1.5550 - mean_squared_error: 1.55 - ETA: 0s - loss: 1.5578 - mean_squared_error: 1.55 - ETA: 0s - loss: 1.5588 - mean_squared_error: 1.55 - ETA: 0s - loss: 1.5575 - mean_squared_error: 1.55 - ETA: 0s - loss: 1.5569 - mean_squared_error: 1.55 - ETA: 0s - loss: 1.5569 - mean_squared_error: 1.55 - ETA: 0s - loss: 1.5563 - mean_squared_error: 1.55 - ETA: 0s - loss: 1.5571 - mean_squared_error: 1.55 - ETA: 0s - loss: 1.5568 - mean_squared_error: 1.55 - ETA: 0s - loss: 1.5570 - mean_squared_error: 1.55 - ETA: 0s - loss: 1.5561 - mean_squared_error: 1.55 - ETA: 0s - loss: 1.5555 - mean_squared_error: 1.55 - 4s 1us/step - loss: 1.5548 - mean_squared_error: 1.5548\n",
      "Epoch 3/5\n",
      "4606789/4606789 [==============================] - ETA: 18s - loss: 1.4442 - mean_squared_error: 1.444 - ETA: 8s - loss: 1.5219 - mean_squared_error: 1.521 - ETA: 6s - loss: 1.5554 - mean_squared_error: 1.55 - ETA: 5s - loss: 1.5601 - mean_squared_error: 1.56 - ETA: 4s - loss: 1.5894 - mean_squared_error: 1.58 - ETA: 4s - loss: 1.5867 - mean_squared_error: 1.58 - ETA: 4s - loss: 1.5759 - mean_squared_error: 1.57 - ETA: 4s - loss: 1.5711 - mean_squared_error: 1.57 - ETA: 4s - loss: 1.5741 - mean_squared_error: 1.57 - ETA: 3s - loss: 1.5718 - mean_squared_error: 1.57 - ETA: 3s - loss: 1.5616 - mean_squared_error: 1.56 - ETA: 3s - loss: 1.5633 - mean_squared_error: 1.56 - ETA: 3s - loss: 1.5655 - mean_squared_error: 1.56 - ETA: 3s - loss: 1.5630 - mean_squared_error: 1.56 - ETA: 3s - loss: 1.5632 - mean_squared_error: 1.56 - ETA: 3s - loss: 1.5661 - mean_squared_error: 1.56 - ETA: 2s - loss: 1.5680 - mean_squared_error: 1.56 - ETA: 2s - loss: 1.5694 - mean_squared_error: 1.56 - ETA: 2s - loss: 1.5659 - mean_squared_error: 1.56 - ETA: 2s - loss: 1.5714 - mean_squared_error: 1.57 - ETA: 2s - loss: 1.5713 - mean_squared_error: 1.57 - ETA: 2s - loss: 1.5654 - mean_squared_error: 1.56 - ETA: 2s - loss: 1.5653 - mean_squared_error: 1.56 - ETA: 2s - loss: 1.5641 - mean_squared_error: 1.56 - ETA: 2s - loss: 1.5619 - mean_squared_error: 1.56 - ETA: 2s - loss: 1.5634 - mean_squared_error: 1.56 - ETA: 1s - loss: 1.5646 - mean_squared_error: 1.56 - ETA: 1s - loss: 1.5625 - mean_squared_error: 1.56 - ETA: 1s - loss: 1.5604 - mean_squared_error: 1.56 - ETA: 1s - loss: 1.5620 - mean_squared_error: 1.56 - ETA: 1s - loss: 1.5621 - mean_squared_error: 1.56 - ETA: 1s - loss: 1.5616 - mean_squared_error: 1.56 - ETA: 1s - loss: 1.5625 - mean_squared_error: 1.56 - ETA: 1s - loss: 1.5639 - mean_squared_error: 1.56 - ETA: 1s - loss: 1.5645 - mean_squared_error: 1.56 - ETA: 1s - loss: 1.5652 - mean_squared_error: 1.56 - ETA: 0s - loss: 1.5643 - mean_squared_error: 1.56 - ETA: 0s - loss: 1.5647 - mean_squared_error: 1.56 - ETA: 0s - loss: 1.5620 - mean_squared_error: 1.56 - ETA: 0s - loss: 1.5603 - mean_squared_error: 1.56 - ETA: 0s - loss: 1.5575 - mean_squared_error: 1.55 - ETA: 0s - loss: 1.5541 - mean_squared_error: 1.55 - ETA: 0s - loss: 1.5547 - mean_squared_error: 1.55 - ETA: 0s - loss: 1.5561 - mean_squared_error: 1.55 - ETA: 0s - loss: 1.5566 - mean_squared_error: 1.55 - ETA: 0s - loss: 1.5559 - mean_squared_error: 1.55 - ETA: 0s - loss: 1.5546 - mean_squared_error: 1.55 - 4s 1us/step - loss: 1.5548 - mean_squared_error: 1.5548\n",
      "Epoch 4/5\n"
     ]
    },
    {
     "name": "stdout",
     "output_type": "stream",
     "text": [
      "4606789/4606789 [==============================] - ETA: 16s - loss: 1.3634 - mean_squared_error: 1.363 - ETA: 7s - loss: 1.4940 - mean_squared_error: 1.494 - ETA: 6s - loss: 1.5065 - mean_squared_error: 1.50 - ETA: 5s - loss: 1.5216 - mean_squared_error: 1.52 - ETA: 5s - loss: 1.5188 - mean_squared_error: 1.51 - ETA: 4s - loss: 1.5337 - mean_squared_error: 1.53 - ETA: 4s - loss: 1.5274 - mean_squared_error: 1.52 - ETA: 4s - loss: 1.5233 - mean_squared_error: 1.52 - ETA: 4s - loss: 1.5251 - mean_squared_error: 1.52 - ETA: 3s - loss: 1.5167 - mean_squared_error: 1.51 - ETA: 3s - loss: 1.5178 - mean_squared_error: 1.51 - ETA: 3s - loss: 1.5224 - mean_squared_error: 1.52 - ETA: 3s - loss: 1.5332 - mean_squared_error: 1.53 - ETA: 3s - loss: 1.5378 - mean_squared_error: 1.53 - ETA: 3s - loss: 1.5353 - mean_squared_error: 1.53 - ETA: 3s - loss: 1.5382 - mean_squared_error: 1.53 - ETA: 2s - loss: 1.5386 - mean_squared_error: 1.53 - ETA: 2s - loss: 1.5380 - mean_squared_error: 1.53 - ETA: 2s - loss: 1.5385 - mean_squared_error: 1.53 - ETA: 2s - loss: 1.5364 - mean_squared_error: 1.53 - ETA: 2s - loss: 1.5401 - mean_squared_error: 1.54 - ETA: 2s - loss: 1.5380 - mean_squared_error: 1.53 - ETA: 2s - loss: 1.5414 - mean_squared_error: 1.54 - ETA: 2s - loss: 1.5432 - mean_squared_error: 1.54 - ETA: 2s - loss: 1.5446 - mean_squared_error: 1.54 - ETA: 1s - loss: 1.5459 - mean_squared_error: 1.54 - ETA: 1s - loss: 1.5440 - mean_squared_error: 1.54 - ETA: 1s - loss: 1.5443 - mean_squared_error: 1.54 - ETA: 1s - loss: 1.5447 - mean_squared_error: 1.54 - ETA: 1s - loss: 1.5464 - mean_squared_error: 1.54 - ETA: 1s - loss: 1.5496 - mean_squared_error: 1.54 - ETA: 1s - loss: 1.5514 - mean_squared_error: 1.55 - ETA: 1s - loss: 1.5508 - mean_squared_error: 1.55 - ETA: 1s - loss: 1.5513 - mean_squared_error: 1.55 - ETA: 1s - loss: 1.5498 - mean_squared_error: 1.54 - ETA: 1s - loss: 1.5488 - mean_squared_error: 1.54 - ETA: 0s - loss: 1.5530 - mean_squared_error: 1.55 - ETA: 0s - loss: 1.5531 - mean_squared_error: 1.55 - ETA: 0s - loss: 1.5538 - mean_squared_error: 1.55 - ETA: 0s - loss: 1.5550 - mean_squared_error: 1.55 - ETA: 0s - loss: 1.5546 - mean_squared_error: 1.55 - ETA: 0s - loss: 1.5561 - mean_squared_error: 1.55 - ETA: 0s - loss: 1.5552 - mean_squared_error: 1.55 - ETA: 0s - loss: 1.5555 - mean_squared_error: 1.55 - ETA: 0s - loss: 1.5556 - mean_squared_error: 1.55 - ETA: 0s - loss: 1.5560 - mean_squared_error: 1.55 - ETA: 0s - loss: 1.5554 - mean_squared_error: 1.55 - 4s 1us/step - loss: 1.5548 - mean_squared_error: 1.5548\n",
      "Epoch 5/5\n",
      "4606789/4606789 [==============================] - ETA: 16s - loss: 1.7048 - mean_squared_error: 1.704 - ETA: 7s - loss: 1.5754 - mean_squared_error: 1.575 - ETA: 6s - loss: 1.5525 - mean_squared_error: 1.55 - ETA: 5s - loss: 1.5407 - mean_squared_error: 1.54 - ETA: 5s - loss: 1.5268 - mean_squared_error: 1.52 - ETA: 4s - loss: 1.5149 - mean_squared_error: 1.51 - ETA: 4s - loss: 1.5124 - mean_squared_error: 1.51 - ETA: 4s - loss: 1.5311 - mean_squared_error: 1.53 - ETA: 3s - loss: 1.5246 - mean_squared_error: 1.52 - ETA: 3s - loss: 1.5287 - mean_squared_error: 1.52 - ETA: 3s - loss: 1.5295 - mean_squared_error: 1.52 - ETA: 3s - loss: 1.5295 - mean_squared_error: 1.52 - ETA: 3s - loss: 1.5317 - mean_squared_error: 1.53 - ETA: 3s - loss: 1.5190 - mean_squared_error: 1.51 - ETA: 3s - loss: 1.5202 - mean_squared_error: 1.52 - ETA: 3s - loss: 1.5228 - mean_squared_error: 1.52 - ETA: 2s - loss: 1.5292 - mean_squared_error: 1.52 - ETA: 2s - loss: 1.5388 - mean_squared_error: 1.53 - ETA: 2s - loss: 1.5425 - mean_squared_error: 1.54 - ETA: 2s - loss: 1.5441 - mean_squared_error: 1.54 - ETA: 2s - loss: 1.5455 - mean_squared_error: 1.54 - ETA: 2s - loss: 1.5505 - mean_squared_error: 1.55 - ETA: 2s - loss: 1.5562 - mean_squared_error: 1.55 - ETA: 2s - loss: 1.5547 - mean_squared_error: 1.55 - ETA: 2s - loss: 1.5575 - mean_squared_error: 1.55 - ETA: 1s - loss: 1.5560 - mean_squared_error: 1.55 - ETA: 1s - loss: 1.5586 - mean_squared_error: 1.55 - ETA: 1s - loss: 1.5578 - mean_squared_error: 1.55 - ETA: 1s - loss: 1.5563 - mean_squared_error: 1.55 - ETA: 1s - loss: 1.5552 - mean_squared_error: 1.55 - ETA: 1s - loss: 1.5570 - mean_squared_error: 1.55 - ETA: 1s - loss: 1.5570 - mean_squared_error: 1.55 - ETA: 1s - loss: 1.5591 - mean_squared_error: 1.55 - ETA: 1s - loss: 1.5595 - mean_squared_error: 1.55 - ETA: 1s - loss: 1.5581 - mean_squared_error: 1.55 - ETA: 0s - loss: 1.5585 - mean_squared_error: 1.55 - ETA: 0s - loss: 1.5585 - mean_squared_error: 1.55 - ETA: 0s - loss: 1.5600 - mean_squared_error: 1.56 - ETA: 0s - loss: 1.5578 - mean_squared_error: 1.55 - ETA: 0s - loss: 1.5566 - mean_squared_error: 1.55 - ETA: 0s - loss: 1.5569 - mean_squared_error: 1.55 - ETA: 0s - loss: 1.5569 - mean_squared_error: 1.55 - ETA: 0s - loss: 1.5545 - mean_squared_error: 1.55 - ETA: 0s - loss: 1.5539 - mean_squared_error: 1.55 - ETA: 0s - loss: 1.5538 - mean_squared_error: 1.55 - 4s 1us/step - loss: 1.5548 - mean_squared_error: 1.5548\n"
     ]
    },
    {
     "data": {
      "text/plain": [
       "<keras.callbacks.History at 0x1ac85a8be10>"
      ]
     },
     "execution_count": 18,
     "metadata": {},
     "output_type": "execute_result"
    },
    {
     "name": "stdout",
     "output_type": "stream",
     "text": [
      "208444/208444 [==============================] - ETA:  - 0s 1us/step\n",
      "--------------------------------------------------\n"
     ]
    },
    {
     "name": "stderr",
     "output_type": "stream",
     "text": [
      "\r",
      " 62%|██████▎   | 5/8 [29:47<17:55, 358.53s/it]"
     ]
    },
    {
     "name": "stdout",
     "output_type": "stream",
     "text": [
      "--------------------------------------------------\n",
      "Start training for month32\n",
      "Training Model 0: SGDRegressor\n"
     ]
    },
    {
     "name": "stderr",
     "output_type": "stream",
     "text": [
      "C:\\ProgramData\\Anaconda3\\lib\\site-packages\\sklearn\\linear_model\\stochastic_gradient.py:166: FutureWarning: max_iter and tol parameters have been added in SGDRegressor in 0.19. If both are left unset, they default to max_iter=5 and tol=None. If tol is not None, max_iter defaults to max_iter=1000. From 0.21, default max_iter will be 1000, and default tol will be 1e-3.\n",
      "  FutureWarning)\n"
     ]
    },
    {
     "data": {
      "text/plain": [
       "SGDRegressor(alpha=0.0001, average=False, early_stopping=False, epsilon=0.1,\n",
       "       eta0=0.01, fit_intercept=True, l1_ratio=0.15,\n",
       "       learning_rate='invscaling', loss='squared_loss', max_iter=None,\n",
       "       n_iter=None, n_iter_no_change=5, penalty='l2', power_t=0.25,\n",
       "       random_state=777, shuffle=True, tol=None, validation_fraction=0.1,\n",
       "       verbose=0, warm_start=False)"
      ]
     },
     "execution_count": 18,
     "metadata": {},
     "output_type": "execute_result"
    },
    {
     "name": "stdout",
     "output_type": "stream",
     "text": [
      "Train RMSE for SGDRegressor is 0.941434\n",
      "Test RMSE for SGDRegressor is 0.979531\n",
      "Training Model 1: lightgbm\n",
      "Train RMSE for lightgbm is 0.790476\n",
      "Test RMSE for lightgbm is 0.873295\n",
      "Training Model 2: keras\n",
      "Epoch 1/5\n",
      "4815233/4815233 [==============================] - ETA: 1:34 - loss: 1.5002 - mean_squared_error: 1.50 - ETA: 49s - loss: 1.5306 - mean_squared_error: 1.5306 - ETA: 34s - loss: 1.5018 - mean_squared_error: 1.501 - ETA: 26s - loss: 1.4913 - mean_squared_error: 1.491 - ETA: 22s - loss: 1.4702 - mean_squared_error: 1.470 - ETA: 20s - loss: 1.4506 - mean_squared_error: 1.450 - ETA: 19s - loss: 1.4512 - mean_squared_error: 1.451 - ETA: 18s - loss: 1.4404 - mean_squared_error: 1.440 - ETA: 17s - loss: 1.4206 - mean_squared_error: 1.420 - ETA: 14s - loss: 1.4104 - mean_squared_error: 1.410 - ETA: 12s - loss: 1.3910 - mean_squared_error: 1.391 - ETA: 10s - loss: 1.3817 - mean_squared_error: 1.381 - ETA: 10s - loss: 1.3805 - mean_squared_error: 1.380 - ETA: 10s - loss: 1.3780 - mean_squared_error: 1.378 - ETA: 10s - loss: 1.3707 - mean_squared_error: 1.370 - ETA: 9s - loss: 1.3637 - mean_squared_error: 1.363 - ETA: 9s - loss: 1.3574 - mean_squared_error: 1.35 - ETA: 9s - loss: 1.3503 - mean_squared_error: 1.35 - ETA: 8s - loss: 1.3436 - mean_squared_error: 1.34 - ETA: 8s - loss: 1.3376 - mean_squared_error: 1.33 - ETA: 8s - loss: 1.3315 - mean_squared_error: 1.33 - ETA: 7s - loss: 1.3264 - mean_squared_error: 1.32 - ETA: 7s - loss: 1.3198 - mean_squared_error: 1.31 - ETA: 7s - loss: 1.3084 - mean_squared_error: 1.30 - ETA: 6s - loss: 1.3053 - mean_squared_error: 1.30 - ETA: 6s - loss: 1.3009 - mean_squared_error: 1.30 - ETA: 6s - loss: 1.2951 - mean_squared_error: 1.29 - ETA: 6s - loss: 1.2922 - mean_squared_error: 1.29 - ETA: 5s - loss: 1.2840 - mean_squared_error: 1.28 - ETA: 5s - loss: 1.2791 - mean_squared_error: 1.27 - ETA: 5s - loss: 1.2738 - mean_squared_error: 1.27 - ETA: 4s - loss: 1.2675 - mean_squared_error: 1.26 - ETA: 4s - loss: 1.2613 - mean_squared_error: 1.26 - ETA: 4s - loss: 1.2591 - mean_squared_error: 1.25 - ETA: 4s - loss: 1.2562 - mean_squared_error: 1.25 - ETA: 4s - loss: 1.2507 - mean_squared_error: 1.25 - ETA: 3s - loss: 1.2437 - mean_squared_error: 1.24 - ETA: 3s - loss: 1.2391 - mean_squared_error: 1.23 - ETA: 3s - loss: 1.2305 - mean_squared_error: 1.23 - ETA: 3s - loss: 1.2206 - mean_squared_error: 1.22 - ETA: 3s - loss: 1.2153 - mean_squared_error: 1.21 - ETA: 3s - loss: 1.2113 - mean_squared_error: 1.21 - ETA: 2s - loss: 1.2059 - mean_squared_error: 1.20 - ETA: 2s - loss: 1.2000 - mean_squared_error: 1.20 - ETA: 2s - loss: 1.1956 - mean_squared_error: 1.19 - ETA: 2s - loss: 1.1898 - mean_squared_error: 1.18 - ETA: 2s - loss: 1.1863 - mean_squared_error: 1.18 - ETA: 2s - loss: 1.1833 - mean_squared_error: 1.18 - ETA: 2s - loss: 1.1814 - mean_squared_error: 1.18 - ETA: 2s - loss: 1.1781 - mean_squared_error: 1.17 - ETA: 1s - loss: 1.1750 - mean_squared_error: 1.17 - ETA: 1s - loss: 1.1683 - mean_squared_error: 1.16 - ETA: 1s - loss: 1.1657 - mean_squared_error: 1.16 - ETA: 1s - loss: 1.1629 - mean_squared_error: 1.16 - ETA: 1s - loss: 1.1606 - mean_squared_error: 1.16 - ETA: 1s - loss: 1.1584 - mean_squared_error: 1.15 - ETA: 1s - loss: 1.1549 - mean_squared_error: 1.15 - ETA: 1s - loss: 1.1517 - mean_squared_error: 1.15 - ETA: 1s - loss: 1.1479 - mean_squared_error: 1.14 - ETA: 1s - loss: 1.1445 - mean_squared_error: 1.14 - ETA: 0s - loss: 1.1390 - mean_squared_error: 1.13 - ETA: 0s - loss: 1.1374 - mean_squared_error: 1.13 - ETA: 0s - loss: 1.1344 - mean_squared_error: 1.13 - ETA: 0s - loss: 1.1289 - mean_squared_error: 1.12 - ETA: 0s - loss: 1.1271 - mean_squared_error: 1.12 - ETA: 0s - loss: 1.1243 - mean_squared_error: 1.12 - ETA: 0s - loss: 1.1227 - mean_squared_error: 1.12 - ETA: 0s - loss: 1.1211 - mean_squared_error: 1.12 - ETA: 0s - loss: 1.1197 - mean_squared_error: 1.11 - ETA: 0s - loss: 1.1176 - mean_squared_error: 1.11 - 7s 1us/step - loss: 1.1130 - mean_squared_error: 1.1130\n",
      "Epoch 2/5\n",
      "4815233/4815233 [==============================] - ETA: 20s - loss: 0.8832 - mean_squared_error: 0.883 - ETA: 9s - loss: 0.8839 - mean_squared_error: 0.883 - ETA: 8s - loss: 0.8920 - mean_squared_error: 0.89 - ETA: 7s - loss: 0.9027 - mean_squared_error: 0.90 - ETA: 7s - loss: 0.8915 - mean_squared_error: 0.89 - ETA: 6s - loss: 0.9032 - mean_squared_error: 0.90 - ETA: 5s - loss: 0.9018 - mean_squared_error: 0.90 - ETA: 5s - loss: 0.9077 - mean_squared_error: 0.90 - ETA: 5s - loss: 0.9070 - mean_squared_error: 0.90 - ETA: 5s - loss: 0.9017 - mean_squared_error: 0.90 - ETA: 4s - loss: 0.9029 - mean_squared_error: 0.90 - ETA: 4s - loss: 0.9039 - mean_squared_error: 0.90 - ETA: 4s - loss: 0.9079 - mean_squared_error: 0.90 - ETA: 4s - loss: 0.9007 - mean_squared_error: 0.90 - ETA: 4s - loss: 0.9028 - mean_squared_error: 0.90 - ETA: 4s - loss: 0.8998 - mean_squared_error: 0.89 - ETA: 4s - loss: 0.8973 - mean_squared_error: 0.89 - ETA: 3s - loss: 0.8988 - mean_squared_error: 0.89 - ETA: 3s - loss: 0.8952 - mean_squared_error: 0.89 - ETA: 3s - loss: 0.8942 - mean_squared_error: 0.89 - ETA: 3s - loss: 0.8925 - mean_squared_error: 0.89 - ETA: 3s - loss: 0.8943 - mean_squared_error: 0.89 - ETA: 3s - loss: 0.8939 - mean_squared_error: 0.89 - ETA: 3s - loss: 0.8926 - mean_squared_error: 0.89 - ETA: 3s - loss: 0.8923 - mean_squared_error: 0.89 - ETA: 3s - loss: 0.8950 - mean_squared_error: 0.89 - ETA: 3s - loss: 0.8960 - mean_squared_error: 0.89 - ETA: 3s - loss: 0.8986 - mean_squared_error: 0.89 - ETA: 3s - loss: 0.8989 - mean_squared_error: 0.89 - ETA: 2s - loss: 0.8959 - mean_squared_error: 0.89 - ETA: 2s - loss: 0.8960 - mean_squared_error: 0.89 - ETA: 2s - loss: 0.8965 - mean_squared_error: 0.89 - ETA: 2s - loss: 0.8956 - mean_squared_error: 0.89 - ETA: 2s - loss: 0.8963 - mean_squared_error: 0.89 - ETA: 2s - loss: 0.8970 - mean_squared_error: 0.89 - ETA: 2s - loss: 0.8943 - mean_squared_error: 0.89 - ETA: 2s - loss: 0.8925 - mean_squared_error: 0.89 - ETA: 2s - loss: 0.8934 - mean_squared_error: 0.89 - ETA: 2s - loss: 0.8923 - mean_squared_error: 0.89 - ETA: 2s - loss: 0.8922 - mean_squared_error: 0.89 - ETA: 1s - loss: 0.8921 - mean_squared_error: 0.89 - ETA: 1s - loss: 0.8919 - mean_squared_error: 0.89 - ETA: 1s - loss: 0.8899 - mean_squared_error: 0.88 - ETA: 1s - loss: 0.8889 - mean_squared_error: 0.88 - ETA: 1s - loss: 0.8887 - mean_squared_error: 0.88 - ETA: 1s - loss: 0.8887 - mean_squared_error: 0.88 - ETA: 1s - loss: 0.8886 - mean_squared_error: 0.88 - ETA: 1s - loss: 0.8860 - mean_squared_error: 0.88 - ETA: 1s - loss: 0.8866 - mean_squared_error: 0.88 - ETA: 1s - loss: 0.8852 - mean_squared_error: 0.88 - ETA: 1s - loss: 0.8840 - mean_squared_error: 0.88 - ETA: 1s - loss: 0.8834 - mean_squared_error: 0.88 - ETA: 0s - loss: 0.8829 - mean_squared_error: 0.88 - ETA: 0s - loss: 0.8843 - mean_squared_error: 0.88 - ETA: 0s - loss: 0.8842 - mean_squared_error: 0.88 - ETA: 0s - loss: 0.8852 - mean_squared_error: 0.88 - ETA: 0s - loss: 0.8859 - mean_squared_error: 0.88 - ETA: 0s - loss: 0.8837 - mean_squared_error: 0.88 - ETA: 0s - loss: 0.8833 - mean_squared_error: 0.88 - ETA: 0s - loss: 0.8833 - mean_squared_error: 0.88 - ETA: 0s - loss: 0.8830 - mean_squared_error: 0.88 - ETA: 0s - loss: 0.8826 - mean_squared_error: 0.88 - ETA: 0s - loss: 0.8819 - mean_squared_error: 0.88 - ETA: 0s - loss: 0.8816 - mean_squared_error: 0.88 - ETA: 0s - loss: 0.8816 - mean_squared_error: 0.88 - 5s 1us/step - loss: 0.8810 - mean_squared_error: 0.8810\n",
      "Epoch 3/5\n"
     ]
    },
    {
     "name": "stdout",
     "output_type": "stream",
     "text": [
      "4815233/4815233 [==============================] - ETA: 20s - loss: 0.8391 - mean_squared_error: 0.839 - ETA: 12s - loss: 0.8699 - mean_squared_error: 0.869 - ETA: 10s - loss: 0.8719 - mean_squared_error: 0.871 - ETA: 7s - loss: 0.8795 - mean_squared_error: 0.879 - ETA: 6s - loss: 0.8777 - mean_squared_error: 0.87 - ETA: 6s - loss: 0.8698 - mean_squared_error: 0.86 - ETA: 5s - loss: 0.8669 - mean_squared_error: 0.86 - ETA: 5s - loss: 0.8632 - mean_squared_error: 0.86 - ETA: 5s - loss: 0.8627 - mean_squared_error: 0.86 - ETA: 5s - loss: 0.8577 - mean_squared_error: 0.85 - ETA: 5s - loss: 0.8590 - mean_squared_error: 0.85 - ETA: 5s - loss: 0.8569 - mean_squared_error: 0.85 - ETA: 4s - loss: 0.8601 - mean_squared_error: 0.86 - ETA: 4s - loss: 0.8613 - mean_squared_error: 0.86 - ETA: 4s - loss: 0.8545 - mean_squared_error: 0.85 - ETA: 4s - loss: 0.8561 - mean_squared_error: 0.85 - ETA: 4s - loss: 0.8547 - mean_squared_error: 0.85 - ETA: 4s - loss: 0.8525 - mean_squared_error: 0.85 - ETA: 4s - loss: 0.8550 - mean_squared_error: 0.85 - ETA: 4s - loss: 0.8549 - mean_squared_error: 0.85 - ETA: 4s - loss: 0.8531 - mean_squared_error: 0.85 - ETA: 3s - loss: 0.8527 - mean_squared_error: 0.85 - ETA: 3s - loss: 0.8527 - mean_squared_error: 0.85 - ETA: 3s - loss: 0.8505 - mean_squared_error: 0.85 - ETA: 3s - loss: 0.8511 - mean_squared_error: 0.85 - ETA: 3s - loss: 0.8497 - mean_squared_error: 0.84 - ETA: 3s - loss: 0.8501 - mean_squared_error: 0.85 - ETA: 3s - loss: 0.8530 - mean_squared_error: 0.85 - ETA: 3s - loss: 0.8528 - mean_squared_error: 0.85 - ETA: 3s - loss: 0.8538 - mean_squared_error: 0.85 - ETA: 3s - loss: 0.8531 - mean_squared_error: 0.85 - ETA: 2s - loss: 0.8516 - mean_squared_error: 0.85 - ETA: 2s - loss: 0.8527 - mean_squared_error: 0.85 - ETA: 2s - loss: 0.8525 - mean_squared_error: 0.85 - ETA: 2s - loss: 0.8511 - mean_squared_error: 0.85 - ETA: 2s - loss: 0.8516 - mean_squared_error: 0.85 - ETA: 2s - loss: 0.8521 - mean_squared_error: 0.85 - ETA: 2s - loss: 0.8531 - mean_squared_error: 0.85 - ETA: 2s - loss: 0.8536 - mean_squared_error: 0.85 - ETA: 2s - loss: 0.8540 - mean_squared_error: 0.85 - ETA: 2s - loss: 0.8547 - mean_squared_error: 0.85 - ETA: 2s - loss: 0.8537 - mean_squared_error: 0.85 - ETA: 2s - loss: 0.8544 - mean_squared_error: 0.85 - ETA: 2s - loss: 0.8545 - mean_squared_error: 0.85 - ETA: 2s - loss: 0.8531 - mean_squared_error: 0.85 - ETA: 2s - loss: 0.8537 - mean_squared_error: 0.85 - ETA: 2s - loss: 0.8524 - mean_squared_error: 0.85 - ETA: 1s - loss: 0.8528 - mean_squared_error: 0.85 - ETA: 1s - loss: 0.8525 - mean_squared_error: 0.85 - ETA: 1s - loss: 0.8517 - mean_squared_error: 0.85 - ETA: 1s - loss: 0.8515 - mean_squared_error: 0.85 - ETA: 1s - loss: 0.8513 - mean_squared_error: 0.85 - ETA: 1s - loss: 0.8523 - mean_squared_error: 0.85 - ETA: 1s - loss: 0.8526 - mean_squared_error: 0.85 - ETA: 1s - loss: 0.8524 - mean_squared_error: 0.85 - ETA: 1s - loss: 0.8514 - mean_squared_error: 0.85 - ETA: 1s - loss: 0.8501 - mean_squared_error: 0.85 - ETA: 1s - loss: 0.8495 - mean_squared_error: 0.84 - ETA: 1s - loss: 0.8511 - mean_squared_error: 0.85 - ETA: 1s - loss: 0.8503 - mean_squared_error: 0.85 - ETA: 1s - loss: 0.8501 - mean_squared_error: 0.85 - ETA: 0s - loss: 0.8494 - mean_squared_error: 0.84 - ETA: 0s - loss: 0.8496 - mean_squared_error: 0.84 - ETA: 0s - loss: 0.8490 - mean_squared_error: 0.84 - ETA: 0s - loss: 0.8499 - mean_squared_error: 0.84 - ETA: 0s - loss: 0.8494 - mean_squared_error: 0.84 - ETA: 0s - loss: 0.8501 - mean_squared_error: 0.85 - ETA: 0s - loss: 0.8500 - mean_squared_error: 0.85 - ETA: 0s - loss: 0.8499 - mean_squared_error: 0.84 - ETA: 0s - loss: 0.8507 - mean_squared_error: 0.85 - ETA: 0s - loss: 0.8509 - mean_squared_error: 0.85 - ETA: 0s - loss: 0.8503 - mean_squared_error: 0.85 - ETA: 0s - loss: 0.8512 - mean_squared_error: 0.85 - ETA: 0s - loss: 0.8517 - mean_squared_error: 0.85 - 5s 1us/step - loss: 0.8514 - mean_squared_error: 0.8514\n",
      "Epoch 4/5\n",
      "4815233/4815233 [==============================] - ETA: 20s - loss: 0.8435 - mean_squared_error: 0.843 - ETA: 9s - loss: 0.8219 - mean_squared_error: 0.821 - ETA: 8s - loss: 0.8212 - mean_squared_error: 0.82 - ETA: 7s - loss: 0.8278 - mean_squared_error: 0.82 - ETA: 7s - loss: 0.8206 - mean_squared_error: 0.82 - ETA: 6s - loss: 0.8332 - mean_squared_error: 0.83 - ETA: 5s - loss: 0.8336 - mean_squared_error: 0.83 - ETA: 6s - loss: 0.8301 - mean_squared_error: 0.83 - ETA: 6s - loss: 0.8275 - mean_squared_error: 0.82 - ETA: 6s - loss: 0.8314 - mean_squared_error: 0.83 - ETA: 6s - loss: 0.8296 - mean_squared_error: 0.82 - ETA: 6s - loss: 0.8226 - mean_squared_error: 0.82 - ETA: 5s - loss: 0.8209 - mean_squared_error: 0.82 - ETA: 5s - loss: 0.8256 - mean_squared_error: 0.82 - ETA: 5s - loss: 0.8277 - mean_squared_error: 0.82 - ETA: 5s - loss: 0.8323 - mean_squared_error: 0.83 - ETA: 5s - loss: 0.8329 - mean_squared_error: 0.83 - ETA: 4s - loss: 0.8317 - mean_squared_error: 0.83 - ETA: 4s - loss: 0.8339 - mean_squared_error: 0.83 - ETA: 4s - loss: 0.8358 - mean_squared_error: 0.83 - ETA: 4s - loss: 0.8314 - mean_squared_error: 0.83 - ETA: 4s - loss: 0.8313 - mean_squared_error: 0.83 - ETA: 4s - loss: 0.8334 - mean_squared_error: 0.83 - ETA: 4s - loss: 0.8340 - mean_squared_error: 0.83 - ETA: 3s - loss: 0.8331 - mean_squared_error: 0.83 - ETA: 3s - loss: 0.8330 - mean_squared_error: 0.83 - ETA: 3s - loss: 0.8350 - mean_squared_error: 0.83 - ETA: 3s - loss: 0.8345 - mean_squared_error: 0.83 - ETA: 3s - loss: 0.8328 - mean_squared_error: 0.83 - ETA: 3s - loss: 0.8339 - mean_squared_error: 0.83 - ETA: 3s - loss: 0.8347 - mean_squared_error: 0.83 - ETA: 3s - loss: 0.8343 - mean_squared_error: 0.83 - ETA: 2s - loss: 0.8345 - mean_squared_error: 0.83 - ETA: 2s - loss: 0.8329 - mean_squared_error: 0.83 - ETA: 2s - loss: 0.8345 - mean_squared_error: 0.83 - ETA: 2s - loss: 0.8353 - mean_squared_error: 0.83 - ETA: 2s - loss: 0.8364 - mean_squared_error: 0.83 - ETA: 2s - loss: 0.8385 - mean_squared_error: 0.83 - ETA: 2s - loss: 0.8362 - mean_squared_error: 0.83 - ETA: 2s - loss: 0.8362 - mean_squared_error: 0.83 - ETA: 2s - loss: 0.8360 - mean_squared_error: 0.83 - ETA: 2s - loss: 0.8362 - mean_squared_error: 0.83 - ETA: 2s - loss: 0.8363 - mean_squared_error: 0.83 - ETA: 2s - loss: 0.8374 - mean_squared_error: 0.83 - ETA: 2s - loss: 0.8382 - mean_squared_error: 0.83 - ETA: 2s - loss: 0.8383 - mean_squared_error: 0.83 - ETA: 1s - loss: 0.8394 - mean_squared_error: 0.83 - ETA: 1s - loss: 0.8393 - mean_squared_error: 0.83 - ETA: 1s - loss: 0.8401 - mean_squared_error: 0.84 - ETA: 1s - loss: 0.8402 - mean_squared_error: 0.84 - ETA: 1s - loss: 0.8412 - mean_squared_error: 0.84 - ETA: 1s - loss: 0.8422 - mean_squared_error: 0.84 - ETA: 1s - loss: 0.8426 - mean_squared_error: 0.84 - ETA: 1s - loss: 0.8423 - mean_squared_error: 0.84 - ETA: 1s - loss: 0.8437 - mean_squared_error: 0.84 - ETA: 1s - loss: 0.8433 - mean_squared_error: 0.84 - ETA: 1s - loss: 0.8429 - mean_squared_error: 0.84 - ETA: 1s - loss: 0.8426 - mean_squared_error: 0.84 - ETA: 0s - loss: 0.8429 - mean_squared_error: 0.84 - ETA: 0s - loss: 0.8429 - mean_squared_error: 0.84 - ETA: 0s - loss: 0.8424 - mean_squared_error: 0.84 - ETA: 0s - loss: 0.8420 - mean_squared_error: 0.84 - ETA: 0s - loss: 0.8419 - mean_squared_error: 0.84 - ETA: 0s - loss: 0.8417 - mean_squared_error: 0.84 - ETA: 0s - loss: 0.8417 - mean_squared_error: 0.84 - ETA: 0s - loss: 0.8419 - mean_squared_error: 0.84 - ETA: 0s - loss: 0.8405 - mean_squared_error: 0.84 - ETA: 0s - loss: 0.8407 - mean_squared_error: 0.84 - ETA: 0s - loss: 0.8414 - mean_squared_error: 0.84 - ETA: 0s - loss: 0.8413 - mean_squared_error: 0.84 - ETA: 0s - loss: 0.8412 - mean_squared_error: 0.84 - 6s 1us/step - loss: 0.8419 - mean_squared_error: 0.8419\n",
      "Epoch 5/5\n"
     ]
    },
    {
     "name": "stdout",
     "output_type": "stream",
     "text": [
      "4815233/4815233 [==============================] - ETA: 21s - loss: 0.8973 - mean_squared_error: 0.897 - ETA: 9s - loss: 0.8540 - mean_squared_error: 0.854 - ETA: 8s - loss: 0.8518 - mean_squared_error: 0.85 - ETA: 7s - loss: 0.8427 - mean_squared_error: 0.84 - ETA: 7s - loss: 0.8352 - mean_squared_error: 0.83 - ETA: 6s - loss: 0.8387 - mean_squared_error: 0.83 - ETA: 5s - loss: 0.8378 - mean_squared_error: 0.83 - ETA: 5s - loss: 0.8368 - mean_squared_error: 0.83 - ETA: 5s - loss: 0.8350 - mean_squared_error: 0.83 - ETA: 6s - loss: 0.8382 - mean_squared_error: 0.83 - ETA: 6s - loss: 0.8359 - mean_squared_error: 0.83 - ETA: 6s - loss: 0.8317 - mean_squared_error: 0.83 - ETA: 6s - loss: 0.8349 - mean_squared_error: 0.83 - ETA: 6s - loss: 0.8350 - mean_squared_error: 0.83 - ETA: 5s - loss: 0.8394 - mean_squared_error: 0.83 - ETA: 5s - loss: 0.8376 - mean_squared_error: 0.83 - ETA: 5s - loss: 0.8404 - mean_squared_error: 0.84 - ETA: 4s - loss: 0.8398 - mean_squared_error: 0.83 - ETA: 4s - loss: 0.8397 - mean_squared_error: 0.83 - ETA: 4s - loss: 0.8388 - mean_squared_error: 0.83 - ETA: 4s - loss: 0.8389 - mean_squared_error: 0.83 - ETA: 4s - loss: 0.8393 - mean_squared_error: 0.83 - ETA: 4s - loss: 0.8388 - mean_squared_error: 0.83 - ETA: 4s - loss: 0.8382 - mean_squared_error: 0.83 - ETA: 4s - loss: 0.8399 - mean_squared_error: 0.83 - ETA: 4s - loss: 0.8408 - mean_squared_error: 0.84 - ETA: 4s - loss: 0.8391 - mean_squared_error: 0.83 - ETA: 4s - loss: 0.8392 - mean_squared_error: 0.83 - ETA: 4s - loss: 0.8385 - mean_squared_error: 0.83 - ETA: 4s - loss: 0.8384 - mean_squared_error: 0.83 - ETA: 4s - loss: 0.8381 - mean_squared_error: 0.83 - ETA: 4s - loss: 0.8370 - mean_squared_error: 0.83 - ETA: 4s - loss: 0.8362 - mean_squared_error: 0.83 - ETA: 4s - loss: 0.8364 - mean_squared_error: 0.83 - ETA: 4s - loss: 0.8358 - mean_squared_error: 0.83 - ETA: 4s - loss: 0.8351 - mean_squared_error: 0.83 - ETA: 3s - loss: 0.8361 - mean_squared_error: 0.83 - ETA: 3s - loss: 0.8346 - mean_squared_error: 0.83 - ETA: 3s - loss: 0.8350 - mean_squared_error: 0.83 - ETA: 3s - loss: 0.8358 - mean_squared_error: 0.83 - ETA: 3s - loss: 0.8354 - mean_squared_error: 0.83 - ETA: 3s - loss: 0.8346 - mean_squared_error: 0.83 - ETA: 3s - loss: 0.8357 - mean_squared_error: 0.83 - ETA: 3s - loss: 0.8346 - mean_squared_error: 0.83 - ETA: 3s - loss: 0.8335 - mean_squared_error: 0.83 - ETA: 3s - loss: 0.8334 - mean_squared_error: 0.83 - ETA: 3s - loss: 0.8337 - mean_squared_error: 0.83 - ETA: 3s - loss: 0.8347 - mean_squared_error: 0.83 - ETA: 3s - loss: 0.8348 - mean_squared_error: 0.83 - ETA: 3s - loss: 0.8349 - mean_squared_error: 0.83 - ETA: 2s - loss: 0.8352 - mean_squared_error: 0.83 - ETA: 2s - loss: 0.8348 - mean_squared_error: 0.83 - ETA: 2s - loss: 0.8339 - mean_squared_error: 0.83 - ETA: 2s - loss: 0.8332 - mean_squared_error: 0.83 - ETA: 2s - loss: 0.8332 - mean_squared_error: 0.83 - ETA: 2s - loss: 0.8338 - mean_squared_error: 0.83 - ETA: 2s - loss: 0.8336 - mean_squared_error: 0.83 - ETA: 2s - loss: 0.8338 - mean_squared_error: 0.83 - ETA: 1s - loss: 0.8338 - mean_squared_error: 0.83 - ETA: 1s - loss: 0.8345 - mean_squared_error: 0.83 - ETA: 1s - loss: 0.8346 - mean_squared_error: 0.83 - ETA: 1s - loss: 0.8350 - mean_squared_error: 0.83 - ETA: 1s - loss: 0.8355 - mean_squared_error: 0.83 - ETA: 1s - loss: 0.8357 - mean_squared_error: 0.83 - ETA: 1s - loss: 0.8360 - mean_squared_error: 0.83 - ETA: 1s - loss: 0.8367 - mean_squared_error: 0.83 - ETA: 1s - loss: 0.8366 - mean_squared_error: 0.83 - ETA: 1s - loss: 0.8361 - mean_squared_error: 0.83 - ETA: 1s - loss: 0.8363 - mean_squared_error: 0.83 - ETA: 0s - loss: 0.8366 - mean_squared_error: 0.83 - ETA: 0s - loss: 0.8373 - mean_squared_error: 0.83 - ETA: 0s - loss: 0.8368 - mean_squared_error: 0.83 - ETA: 0s - loss: 0.8362 - mean_squared_error: 0.83 - ETA: 0s - loss: 0.8359 - mean_squared_error: 0.83 - ETA: 0s - loss: 0.8362 - mean_squared_error: 0.83 - ETA: 0s - loss: 0.8356 - mean_squared_error: 0.83 - ETA: 0s - loss: 0.8368 - mean_squared_error: 0.83 - ETA: 0s - loss: 0.8363 - mean_squared_error: 0.83 - 8s 2us/step - loss: 0.8361 - mean_squared_error: 0.8361\n"
     ]
    },
    {
     "data": {
      "text/plain": [
       "<keras.callbacks.History at 0x1ac99398be0>"
      ]
     },
     "execution_count": 18,
     "metadata": {},
     "output_type": "execute_result"
    },
    {
     "name": "stdout",
     "output_type": "stream",
     "text": [
      "208075/208075 [==============================] - ETA:  - ETA:  - 0s 1us/step\n",
      "--------------------------------------------------\n"
     ]
    },
    {
     "name": "stderr",
     "output_type": "stream",
     "text": [
      "\r",
      " 75%|███████▌  | 6/8 [36:54<12:37, 378.95s/it]"
     ]
    },
    {
     "name": "stdout",
     "output_type": "stream",
     "text": [
      "--------------------------------------------------\n",
      "Start training for month33\n",
      "Training Model 0: SGDRegressor\n"
     ]
    },
    {
     "name": "stderr",
     "output_type": "stream",
     "text": [
      "C:\\ProgramData\\Anaconda3\\lib\\site-packages\\sklearn\\linear_model\\stochastic_gradient.py:166: FutureWarning: max_iter and tol parameters have been added in SGDRegressor in 0.19. If both are left unset, they default to max_iter=5 and tol=None. If tol is not None, max_iter defaults to max_iter=1000. From 0.21, default max_iter will be 1000, and default tol will be 1e-3.\n",
      "  FutureWarning)\n"
     ]
    },
    {
     "data": {
      "text/plain": [
       "SGDRegressor(alpha=0.0001, average=False, early_stopping=False, epsilon=0.1,\n",
       "       eta0=0.01, fit_intercept=True, l1_ratio=0.15,\n",
       "       learning_rate='invscaling', loss='squared_loss', max_iter=None,\n",
       "       n_iter=None, n_iter_no_change=5, penalty='l2', power_t=0.25,\n",
       "       random_state=777, shuffle=True, tol=None, validation_fraction=0.1,\n",
       "       verbose=0, warm_start=False)"
      ]
     },
     "execution_count": 18,
     "metadata": {},
     "output_type": "execute_result"
    },
    {
     "name": "stdout",
     "output_type": "stream",
     "text": [
      "Train RMSE for SGDRegressor is 0.947324\n",
      "Test RMSE for SGDRegressor is 0.904258\n",
      "Training Model 1: lightgbm\n",
      "Train RMSE for lightgbm is 0.791116\n",
      "Test RMSE for lightgbm is 0.852500\n",
      "Training Model 2: keras\n",
      "Epoch 1/5\n",
      "5023308/5023308 [==============================] - ETA: 1:13 - loss: 1.5652 - mean_squared_error: 1.56 - ETA: 26s - loss: 1.6145 - mean_squared_error: 1.6145 - ETA: 21s - loss: 1.5971 - mean_squared_error: 1.597 - ETA: 15s - loss: 1.5948 - mean_squared_error: 1.594 - ETA: 12s - loss: 1.5928 - mean_squared_error: 1.592 - ETA: 10s - loss: 1.5878 - mean_squared_error: 1.587 - ETA: 9s - loss: 1.5757 - mean_squared_error: 1.575 - ETA: 8s - loss: 1.5803 - mean_squared_error: 1.58 - ETA: 7s - loss: 1.5758 - mean_squared_error: 1.57 - ETA: 7s - loss: 1.5706 - mean_squared_error: 1.57 - ETA: 6s - loss: 1.5647 - mean_squared_error: 1.56 - ETA: 6s - loss: 1.5649 - mean_squared_error: 1.56 - ETA: 5s - loss: 1.5631 - mean_squared_error: 1.56 - ETA: 5s - loss: 1.5568 - mean_squared_error: 1.55 - ETA: 5s - loss: 1.5535 - mean_squared_error: 1.55 - ETA: 5s - loss: 1.5534 - mean_squared_error: 1.55 - ETA: 4s - loss: 1.5592 - mean_squared_error: 1.55 - ETA: 4s - loss: 1.5621 - mean_squared_error: 1.56 - ETA: 4s - loss: 1.5555 - mean_squared_error: 1.55 - ETA: 4s - loss: 1.5564 - mean_squared_error: 1.55 - ETA: 3s - loss: 1.5559 - mean_squared_error: 1.55 - ETA: 3s - loss: 1.5500 - mean_squared_error: 1.55 - ETA: 3s - loss: 1.5513 - mean_squared_error: 1.55 - ETA: 3s - loss: 1.5510 - mean_squared_error: 1.55 - ETA: 3s - loss: 1.5519 - mean_squared_error: 1.55 - ETA: 3s - loss: 1.5514 - mean_squared_error: 1.55 - ETA: 2s - loss: 1.5517 - mean_squared_error: 1.55 - ETA: 2s - loss: 1.5482 - mean_squared_error: 1.54 - ETA: 2s - loss: 1.5490 - mean_squared_error: 1.54 - ETA: 2s - loss: 1.5505 - mean_squared_error: 1.55 - ETA: 2s - loss: 1.5485 - mean_squared_error: 1.54 - ETA: 2s - loss: 1.5477 - mean_squared_error: 1.54 - ETA: 2s - loss: 1.5486 - mean_squared_error: 1.54 - ETA: 2s - loss: 1.5465 - mean_squared_error: 1.54 - ETA: 1s - loss: 1.5439 - mean_squared_error: 1.54 - ETA: 1s - loss: 1.5426 - mean_squared_error: 1.54 - ETA: 1s - loss: 1.5431 - mean_squared_error: 1.54 - ETA: 1s - loss: 1.5419 - mean_squared_error: 1.54 - ETA: 1s - loss: 1.5440 - mean_squared_error: 1.54 - ETA: 1s - loss: 1.5440 - mean_squared_error: 1.54 - ETA: 1s - loss: 1.5442 - mean_squared_error: 1.54 - ETA: 1s - loss: 1.5426 - mean_squared_error: 1.54 - ETA: 0s - loss: 1.5404 - mean_squared_error: 1.54 - ETA: 0s - loss: 1.5424 - mean_squared_error: 1.54 - ETA: 0s - loss: 1.5425 - mean_squared_error: 1.54 - ETA: 0s - loss: 1.5411 - mean_squared_error: 1.54 - ETA: 0s - loss: 1.5390 - mean_squared_error: 1.53 - ETA: 0s - loss: 1.5383 - mean_squared_error: 1.53 - ETA: 0s - loss: 1.5375 - mean_squared_error: 1.53 - ETA: 0s - loss: 1.5385 - mean_squared_error: 1.53 - ETA: 0s - loss: 1.5379 - mean_squared_error: 1.53 - ETA: 0s - loss: 1.5381 - mean_squared_error: 1.53 - 5s 1us/step - loss: 1.5382 - mean_squared_error: 1.5382\n",
      "Epoch 2/5\n",
      "5023308/5023308 [==============================] - ETA: 21s - loss: 1.5443 - mean_squared_error: 1.544 - ETA: 13s - loss: 1.5402 - mean_squared_error: 1.540 - ETA: 8s - loss: 1.5083 - mean_squared_error: 1.508 - ETA: 6s - loss: 1.4908 - mean_squared_error: 1.49 - ETA: 6s - loss: 1.4902 - mean_squared_error: 1.49 - ETA: 5s - loss: 1.5027 - mean_squared_error: 1.50 - ETA: 5s - loss: 1.5251 - mean_squared_error: 1.52 - ETA: 5s - loss: 1.5175 - mean_squared_error: 1.51 - ETA: 4s - loss: 1.5272 - mean_squared_error: 1.52 - ETA: 4s - loss: 1.5334 - mean_squared_error: 1.53 - ETA: 4s - loss: 1.5406 - mean_squared_error: 1.54 - ETA: 4s - loss: 1.5382 - mean_squared_error: 1.53 - ETA: 4s - loss: 1.5388 - mean_squared_error: 1.53 - ETA: 4s - loss: 1.5387 - mean_squared_error: 1.53 - ETA: 3s - loss: 1.5417 - mean_squared_error: 1.54 - ETA: 3s - loss: 1.5387 - mean_squared_error: 1.53 - ETA: 3s - loss: 1.5439 - mean_squared_error: 1.54 - ETA: 3s - loss: 1.5432 - mean_squared_error: 1.54 - ETA: 3s - loss: 1.5439 - mean_squared_error: 1.54 - ETA: 3s - loss: 1.5482 - mean_squared_error: 1.54 - ETA: 3s - loss: 1.5461 - mean_squared_error: 1.54 - ETA: 3s - loss: 1.5471 - mean_squared_error: 1.54 - ETA: 3s - loss: 1.5480 - mean_squared_error: 1.54 - ETA: 2s - loss: 1.5467 - mean_squared_error: 1.54 - ETA: 2s - loss: 1.5430 - mean_squared_error: 1.54 - ETA: 2s - loss: 1.5395 - mean_squared_error: 1.53 - ETA: 2s - loss: 1.5413 - mean_squared_error: 1.54 - ETA: 2s - loss: 1.5407 - mean_squared_error: 1.54 - ETA: 2s - loss: 1.5359 - mean_squared_error: 1.53 - ETA: 2s - loss: 1.5366 - mean_squared_error: 1.53 - ETA: 2s - loss: 1.5373 - mean_squared_error: 1.53 - ETA: 2s - loss: 1.5383 - mean_squared_error: 1.53 - ETA: 2s - loss: 1.5367 - mean_squared_error: 1.53 - ETA: 1s - loss: 1.5387 - mean_squared_error: 1.53 - ETA: 1s - loss: 1.5404 - mean_squared_error: 1.54 - ETA: 1s - loss: 1.5414 - mean_squared_error: 1.54 - ETA: 1s - loss: 1.5402 - mean_squared_error: 1.54 - ETA: 1s - loss: 1.5408 - mean_squared_error: 1.54 - ETA: 1s - loss: 1.5402 - mean_squared_error: 1.54 - ETA: 1s - loss: 1.5399 - mean_squared_error: 1.53 - ETA: 1s - loss: 1.5408 - mean_squared_error: 1.54 - ETA: 1s - loss: 1.5391 - mean_squared_error: 1.53 - ETA: 1s - loss: 1.5392 - mean_squared_error: 1.53 - ETA: 0s - loss: 1.5391 - mean_squared_error: 1.53 - ETA: 0s - loss: 1.5391 - mean_squared_error: 1.53 - ETA: 0s - loss: 1.5387 - mean_squared_error: 1.53 - ETA: 0s - loss: 1.5394 - mean_squared_error: 1.53 - ETA: 0s - loss: 1.5406 - mean_squared_error: 1.54 - ETA: 0s - loss: 1.5411 - mean_squared_error: 1.54 - ETA: 0s - loss: 1.5399 - mean_squared_error: 1.53 - ETA: 0s - loss: 1.5391 - mean_squared_error: 1.53 - ETA: 0s - loss: 1.5388 - mean_squared_error: 1.53 - ETA: 0s - loss: 1.5393 - mean_squared_error: 1.53 - ETA: 0s - loss: 1.5375 - mean_squared_error: 1.53 - ETA: 0s - loss: 1.5378 - mean_squared_error: 1.53 - ETA: 0s - loss: 1.5368 - mean_squared_error: 1.53 - ETA: 0s - loss: 1.5368 - mean_squared_error: 1.53 - ETA: 0s - loss: 1.5379 - mean_squared_error: 1.53 - ETA: 0s - loss: 1.5379 - mean_squared_error: 1.53 - 5s 1us/step - loss: 1.5382 - mean_squared_error: 1.5382\n",
      "Epoch 3/5\n"
     ]
    },
    {
     "name": "stdout",
     "output_type": "stream",
     "text": [
      "5023308/5023308 [==============================] - ETA: 25s - loss: 1.4615 - mean_squared_error: 1.461 - ETA: 15s - loss: 1.5285 - mean_squared_error: 1.528 - ETA: 15s - loss: 1.5443 - mean_squared_error: 1.544 - ETA: 12s - loss: 1.5493 - mean_squared_error: 1.549 - ETA: 9s - loss: 1.5601 - mean_squared_error: 1.560 - ETA: 9s - loss: 1.5633 - mean_squared_error: 1.56 - ETA: 8s - loss: 1.5697 - mean_squared_error: 1.56 - ETA: 8s - loss: 1.5591 - mean_squared_error: 1.55 - ETA: 8s - loss: 1.5379 - mean_squared_error: 1.53 - ETA: 7s - loss: 1.5434 - mean_squared_error: 1.54 - ETA: 7s - loss: 1.5291 - mean_squared_error: 1.52 - ETA: 7s - loss: 1.5332 - mean_squared_error: 1.53 - ETA: 8s - loss: 1.5438 - mean_squared_error: 1.54 - ETA: 7s - loss: 1.5393 - mean_squared_error: 1.53 - ETA: 7s - loss: 1.5378 - mean_squared_error: 1.53 - ETA: 7s - loss: 1.5382 - mean_squared_error: 1.53 - ETA: 7s - loss: 1.5441 - mean_squared_error: 1.54 - ETA: 7s - loss: 1.5431 - mean_squared_error: 1.54 - ETA: 7s - loss: 1.5460 - mean_squared_error: 1.54 - ETA: 7s - loss: 1.5435 - mean_squared_error: 1.54 - ETA: 7s - loss: 1.5376 - mean_squared_error: 1.53 - ETA: 6s - loss: 1.5349 - mean_squared_error: 1.53 - ETA: 6s - loss: 1.5376 - mean_squared_error: 1.53 - ETA: 6s - loss: 1.5394 - mean_squared_error: 1.53 - ETA: 5s - loss: 1.5362 - mean_squared_error: 1.53 - ETA: 5s - loss: 1.5384 - mean_squared_error: 1.53 - ETA: 5s - loss: 1.5418 - mean_squared_error: 1.54 - ETA: 5s - loss: 1.5383 - mean_squared_error: 1.53 - ETA: 4s - loss: 1.5398 - mean_squared_error: 1.53 - ETA: 4s - loss: 1.5408 - mean_squared_error: 1.54 - ETA: 4s - loss: 1.5401 - mean_squared_error: 1.54 - ETA: 4s - loss: 1.5403 - mean_squared_error: 1.54 - ETA: 4s - loss: 1.5383 - mean_squared_error: 1.53 - ETA: 3s - loss: 1.5384 - mean_squared_error: 1.53 - ETA: 3s - loss: 1.5383 - mean_squared_error: 1.53 - ETA: 3s - loss: 1.5321 - mean_squared_error: 1.53 - ETA: 3s - loss: 1.5297 - mean_squared_error: 1.52 - ETA: 3s - loss: 1.5317 - mean_squared_error: 1.53 - ETA: 3s - loss: 1.5327 - mean_squared_error: 1.53 - ETA: 3s - loss: 1.5339 - mean_squared_error: 1.53 - ETA: 3s - loss: 1.5345 - mean_squared_error: 1.53 - ETA: 3s - loss: 1.5345 - mean_squared_error: 1.53 - ETA: 3s - loss: 1.5321 - mean_squared_error: 1.53 - ETA: 3s - loss: 1.5295 - mean_squared_error: 1.52 - ETA: 2s - loss: 1.5308 - mean_squared_error: 1.53 - ETA: 2s - loss: 1.5311 - mean_squared_error: 1.53 - ETA: 2s - loss: 1.5309 - mean_squared_error: 1.53 - ETA: 2s - loss: 1.5318 - mean_squared_error: 1.53 - ETA: 2s - loss: 1.5313 - mean_squared_error: 1.53 - ETA: 2s - loss: 1.5326 - mean_squared_error: 1.53 - ETA: 2s - loss: 1.5340 - mean_squared_error: 1.53 - ETA: 2s - loss: 1.5359 - mean_squared_error: 1.53 - ETA: 2s - loss: 1.5356 - mean_squared_error: 1.53 - ETA: 1s - loss: 1.5357 - mean_squared_error: 1.53 - ETA: 1s - loss: 1.5352 - mean_squared_error: 1.53 - ETA: 1s - loss: 1.5354 - mean_squared_error: 1.53 - ETA: 1s - loss: 1.5351 - mean_squared_error: 1.53 - ETA: 1s - loss: 1.5337 - mean_squared_error: 1.53 - ETA: 1s - loss: 1.5359 - mean_squared_error: 1.53 - ETA: 1s - loss: 1.5370 - mean_squared_error: 1.53 - ETA: 1s - loss: 1.5362 - mean_squared_error: 1.53 - ETA: 1s - loss: 1.5363 - mean_squared_error: 1.53 - ETA: 1s - loss: 1.5348 - mean_squared_error: 1.53 - ETA: 0s - loss: 1.5356 - mean_squared_error: 1.53 - ETA: 0s - loss: 1.5364 - mean_squared_error: 1.53 - ETA: 0s - loss: 1.5378 - mean_squared_error: 1.53 - ETA: 0s - loss: 1.5380 - mean_squared_error: 1.53 - ETA: 0s - loss: 1.5389 - mean_squared_error: 1.53 - ETA: 0s - loss: 1.5381 - mean_squared_error: 1.53 - ETA: 0s - loss: 1.5388 - mean_squared_error: 1.53 - ETA: 0s - loss: 1.5385 - mean_squared_error: 1.53 - ETA: 0s - loss: 1.5372 - mean_squared_error: 1.53 - ETA: 0s - loss: 1.5370 - mean_squared_error: 1.53 - ETA: 0s - loss: 1.5375 - mean_squared_error: 1.53 - 8s 2us/step - loss: 1.5382 - mean_squared_error: 1.5382\n",
      "Epoch 4/5\n",
      "5023308/5023308 [==============================] - ETA: 26s - loss: 1.5490 - mean_squared_error: 1.549 - ETA: 15s - loss: 1.6286 - mean_squared_error: 1.628 - ETA: 12s - loss: 1.5908 - mean_squared_error: 1.590 - ETA: 9s - loss: 1.5828 - mean_squared_error: 1.582 - ETA: 8s - loss: 1.5643 - mean_squared_error: 1.56 - ETA: 7s - loss: 1.5536 - mean_squared_error: 1.55 - ETA: 7s - loss: 1.5496 - mean_squared_error: 1.54 - ETA: 7s - loss: 1.5499 - mean_squared_error: 1.54 - ETA: 6s - loss: 1.5506 - mean_squared_error: 1.55 - ETA: 6s - loss: 1.5411 - mean_squared_error: 1.54 - ETA: 5s - loss: 1.5474 - mean_squared_error: 1.54 - ETA: 5s - loss: 1.5496 - mean_squared_error: 1.54 - ETA: 5s - loss: 1.5510 - mean_squared_error: 1.55 - ETA: 4s - loss: 1.5481 - mean_squared_error: 1.54 - ETA: 4s - loss: 1.5469 - mean_squared_error: 1.54 - ETA: 4s - loss: 1.5463 - mean_squared_error: 1.54 - ETA: 4s - loss: 1.5423 - mean_squared_error: 1.54 - ETA: 4s - loss: 1.5470 - mean_squared_error: 1.54 - ETA: 4s - loss: 1.5477 - mean_squared_error: 1.54 - ETA: 4s - loss: 1.5432 - mean_squared_error: 1.54 - ETA: 4s - loss: 1.5441 - mean_squared_error: 1.54 - ETA: 4s - loss: 1.5452 - mean_squared_error: 1.54 - ETA: 4s - loss: 1.5483 - mean_squared_error: 1.54 - ETA: 3s - loss: 1.5503 - mean_squared_error: 1.55 - ETA: 3s - loss: 1.5519 - mean_squared_error: 1.55 - ETA: 3s - loss: 1.5491 - mean_squared_error: 1.54 - ETA: 3s - loss: 1.5436 - mean_squared_error: 1.54 - ETA: 3s - loss: 1.5440 - mean_squared_error: 1.54 - ETA: 3s - loss: 1.5425 - mean_squared_error: 1.54 - ETA: 3s - loss: 1.5406 - mean_squared_error: 1.54 - ETA: 3s - loss: 1.5412 - mean_squared_error: 1.54 - ETA: 2s - loss: 1.5404 - mean_squared_error: 1.54 - ETA: 2s - loss: 1.5406 - mean_squared_error: 1.54 - ETA: 2s - loss: 1.5425 - mean_squared_error: 1.54 - ETA: 2s - loss: 1.5417 - mean_squared_error: 1.54 - ETA: 2s - loss: 1.5420 - mean_squared_error: 1.54 - ETA: 2s - loss: 1.5459 - mean_squared_error: 1.54 - ETA: 2s - loss: 1.5452 - mean_squared_error: 1.54 - ETA: 2s - loss: 1.5457 - mean_squared_error: 1.54 - ETA: 2s - loss: 1.5480 - mean_squared_error: 1.54 - ETA: 2s - loss: 1.5490 - mean_squared_error: 1.54 - ETA: 2s - loss: 1.5480 - mean_squared_error: 1.54 - ETA: 2s - loss: 1.5458 - mean_squared_error: 1.54 - ETA: 2s - loss: 1.5451 - mean_squared_error: 1.54 - ETA: 1s - loss: 1.5405 - mean_squared_error: 1.54 - ETA: 1s - loss: 1.5388 - mean_squared_error: 1.53 - ETA: 1s - loss: 1.5410 - mean_squared_error: 1.54 - ETA: 1s - loss: 1.5404 - mean_squared_error: 1.54 - ETA: 1s - loss: 1.5383 - mean_squared_error: 1.53 - ETA: 1s - loss: 1.5359 - mean_squared_error: 1.53 - ETA: 1s - loss: 1.5375 - mean_squared_error: 1.53 - ETA: 1s - loss: 1.5366 - mean_squared_error: 1.53 - ETA: 1s - loss: 1.5373 - mean_squared_error: 1.53 - ETA: 1s - loss: 1.5396 - mean_squared_error: 1.53 - ETA: 1s - loss: 1.5402 - mean_squared_error: 1.54 - ETA: 1s - loss: 1.5407 - mean_squared_error: 1.54 - ETA: 0s - loss: 1.5398 - mean_squared_error: 1.53 - ETA: 0s - loss: 1.5386 - mean_squared_error: 1.53 - ETA: 0s - loss: 1.5390 - mean_squared_error: 1.53 - ETA: 0s - loss: 1.5378 - mean_squared_error: 1.53 - ETA: 0s - loss: 1.5384 - mean_squared_error: 1.53 - ETA: 0s - loss: 1.5371 - mean_squared_error: 1.53 - ETA: 0s - loss: 1.5377 - mean_squared_error: 1.53 - ETA: 0s - loss: 1.5399 - mean_squared_error: 1.53 - ETA: 0s - loss: 1.5401 - mean_squared_error: 1.54 - ETA: 0s - loss: 1.5384 - mean_squared_error: 1.53 - ETA: 0s - loss: 1.5386 - mean_squared_error: 1.53 - ETA: 0s - loss: 1.5384 - mean_squared_error: 1.53 - 5s 1us/step - loss: 1.5382 - mean_squared_error: 1.5382\n",
      "Epoch 5/5\n"
     ]
    },
    {
     "name": "stdout",
     "output_type": "stream",
     "text": [
      "5023308/5023308 [==============================] - ETA: 22s - loss: 1.5507 - mean_squared_error: 1.550 - ETA: 10s - loss: 1.5463 - mean_squared_error: 1.546 - ETA: 8s - loss: 1.5342 - mean_squared_error: 1.534 - ETA: 8s - loss: 1.5303 - mean_squared_error: 1.53 - ETA: 7s - loss: 1.5509 - mean_squared_error: 1.55 - ETA: 7s - loss: 1.5546 - mean_squared_error: 1.55 - ETA: 6s - loss: 1.5409 - mean_squared_error: 1.54 - ETA: 6s - loss: 1.5300 - mean_squared_error: 1.53 - ETA: 5s - loss: 1.5450 - mean_squared_error: 1.54 - ETA: 5s - loss: 1.5464 - mean_squared_error: 1.54 - ETA: 5s - loss: 1.5355 - mean_squared_error: 1.53 - ETA: 5s - loss: 1.5402 - mean_squared_error: 1.54 - ETA: 4s - loss: 1.5365 - mean_squared_error: 1.53 - ETA: 4s - loss: 1.5419 - mean_squared_error: 1.54 - ETA: 4s - loss: 1.5425 - mean_squared_error: 1.54 - ETA: 4s - loss: 1.5450 - mean_squared_error: 1.54 - ETA: 4s - loss: 1.5463 - mean_squared_error: 1.54 - ETA: 4s - loss: 1.5488 - mean_squared_error: 1.54 - ETA: 4s - loss: 1.5472 - mean_squared_error: 1.54 - ETA: 3s - loss: 1.5447 - mean_squared_error: 1.54 - ETA: 3s - loss: 1.5477 - mean_squared_error: 1.54 - ETA: 3s - loss: 1.5498 - mean_squared_error: 1.54 - ETA: 3s - loss: 1.5453 - mean_squared_error: 1.54 - ETA: 3s - loss: 1.5484 - mean_squared_error: 1.54 - ETA: 3s - loss: 1.5439 - mean_squared_error: 1.54 - ETA: 3s - loss: 1.5466 - mean_squared_error: 1.54 - ETA: 3s - loss: 1.5458 - mean_squared_error: 1.54 - ETA: 3s - loss: 1.5475 - mean_squared_error: 1.54 - ETA: 3s - loss: 1.5510 - mean_squared_error: 1.55 - ETA: 3s - loss: 1.5494 - mean_squared_error: 1.54 - ETA: 3s - loss: 1.5488 - mean_squared_error: 1.54 - ETA: 2s - loss: 1.5454 - mean_squared_error: 1.54 - ETA: 2s - loss: 1.5455 - mean_squared_error: 1.54 - ETA: 2s - loss: 1.5424 - mean_squared_error: 1.54 - ETA: 2s - loss: 1.5385 - mean_squared_error: 1.53 - ETA: 2s - loss: 1.5384 - mean_squared_error: 1.53 - ETA: 2s - loss: 1.5392 - mean_squared_error: 1.53 - ETA: 2s - loss: 1.5390 - mean_squared_error: 1.53 - ETA: 2s - loss: 1.5397 - mean_squared_error: 1.53 - ETA: 2s - loss: 1.5401 - mean_squared_error: 1.54 - ETA: 2s - loss: 1.5413 - mean_squared_error: 1.54 - ETA: 2s - loss: 1.5428 - mean_squared_error: 1.54 - ETA: 2s - loss: 1.5426 - mean_squared_error: 1.54 - ETA: 2s - loss: 1.5424 - mean_squared_error: 1.54 - ETA: 1s - loss: 1.5411 - mean_squared_error: 1.54 - ETA: 1s - loss: 1.5411 - mean_squared_error: 1.54 - ETA: 1s - loss: 1.5419 - mean_squared_error: 1.54 - ETA: 1s - loss: 1.5415 - mean_squared_error: 1.54 - ETA: 1s - loss: 1.5437 - mean_squared_error: 1.54 - ETA: 1s - loss: 1.5439 - mean_squared_error: 1.54 - ETA: 1s - loss: 1.5448 - mean_squared_error: 1.54 - ETA: 1s - loss: 1.5447 - mean_squared_error: 1.54 - ETA: 1s - loss: 1.5442 - mean_squared_error: 1.54 - ETA: 1s - loss: 1.5445 - mean_squared_error: 1.54 - ETA: 1s - loss: 1.5446 - mean_squared_error: 1.54 - ETA: 1s - loss: 1.5454 - mean_squared_error: 1.54 - ETA: 1s - loss: 1.5457 - mean_squared_error: 1.54 - ETA: 1s - loss: 1.5442 - mean_squared_error: 1.54 - ETA: 0s - loss: 1.5430 - mean_squared_error: 1.54 - ETA: 0s - loss: 1.5412 - mean_squared_error: 1.54 - ETA: 0s - loss: 1.5420 - mean_squared_error: 1.54 - ETA: 0s - loss: 1.5403 - mean_squared_error: 1.54 - ETA: 0s - loss: 1.5399 - mean_squared_error: 1.53 - ETA: 0s - loss: 1.5398 - mean_squared_error: 1.53 - ETA: 0s - loss: 1.5389 - mean_squared_error: 1.53 - ETA: 0s - loss: 1.5387 - mean_squared_error: 1.53 - ETA: 0s - loss: 1.5362 - mean_squared_error: 1.53 - ETA: 0s - loss: 1.5348 - mean_squared_error: 1.53 - ETA: 0s - loss: 1.5370 - mean_squared_error: 1.53 - ETA: 0s - loss: 1.5373 - mean_squared_error: 1.53 - ETA: 0s - loss: 1.5372 - mean_squared_error: 1.53 - ETA: 0s - loss: 1.5382 - mean_squared_error: 1.53 - ETA: 0s - loss: 1.5376 - mean_squared_error: 1.53 - ETA: 0s - loss: 1.5382 - mean_squared_error: 1.53 - 6s 1us/step - loss: 1.5382 - mean_squared_error: 1.5382\n"
     ]
    },
    {
     "data": {
      "text/plain": [
       "<keras.callbacks.History at 0x1ac993f5438>"
      ]
     },
     "execution_count": 18,
     "metadata": {},
     "output_type": "execute_result"
    },
    {
     "name": "stdout",
     "output_type": "stream",
     "text": [
      "221802/221802 [==============================] - ETA:  - 0s 1us/step\n",
      "--------------------------------------------------\n"
     ]
    },
    {
     "name": "stderr",
     "output_type": "stream",
     "text": [
      "\r",
      " 88%|████████▊ | 7/8 [44:38<06:44, 404.45s/it]"
     ]
    },
    {
     "name": "stdout",
     "output_type": "stream",
     "text": [
      "--------------------------------------------------\n",
      "Start training for month34\n",
      "Training Model 0: SGDRegressor\n"
     ]
    },
    {
     "name": "stderr",
     "output_type": "stream",
     "text": [
      "C:\\ProgramData\\Anaconda3\\lib\\site-packages\\sklearn\\linear_model\\stochastic_gradient.py:166: FutureWarning: max_iter and tol parameters have been added in SGDRegressor in 0.19. If both are left unset, they default to max_iter=5 and tol=None. If tol is not None, max_iter defaults to max_iter=1000. From 0.21, default max_iter will be 1000, and default tol will be 1e-3.\n",
      "  FutureWarning)\n"
     ]
    },
    {
     "data": {
      "text/plain": [
       "SGDRegressor(alpha=0.0001, average=False, early_stopping=False, epsilon=0.1,\n",
       "       eta0=0.01, fit_intercept=True, l1_ratio=0.15,\n",
       "       learning_rate='invscaling', loss='squared_loss', max_iter=None,\n",
       "       n_iter=None, n_iter_no_change=5, penalty='l2', power_t=0.25,\n",
       "       random_state=777, shuffle=True, tol=None, validation_fraction=0.1,\n",
       "       verbose=0, warm_start=False)"
      ]
     },
     "execution_count": 18,
     "metadata": {},
     "output_type": "execute_result"
    },
    {
     "name": "stdout",
     "output_type": "stream",
     "text": [
      "Train RMSE for SGDRegressor is 0.947978\n",
      "Test RMSE for SGDRegressor is 0.789128\n",
      "Training Model 1: lightgbm\n",
      "Train RMSE for lightgbm is 0.791660\n",
      "Test RMSE for lightgbm is 0.867605\n",
      "Training Model 2: keras\n",
      "Epoch 1/5\n",
      "5245110/5245110 [==============================] - ETA: 1:19 - loss: 1.5126 - mean_squared_error: 1.51 - ETA: 42s - loss: 1.5430 - mean_squared_error: 1.5430 - ETA: 22s - loss: 1.4857 - mean_squared_error: 1.485 - ETA: 16s - loss: 1.4519 - mean_squared_error: 1.451 - ETA: 14s - loss: 1.4466 - mean_squared_error: 1.446 - ETA: 11s - loss: 1.4352 - mean_squared_error: 1.435 - ETA: 10s - loss: 1.4287 - mean_squared_error: 1.428 - ETA: 9s - loss: 1.4113 - mean_squared_error: 1.411 - ETA: 8s - loss: 1.4023 - mean_squared_error: 1.40 - ETA: 7s - loss: 1.3914 - mean_squared_error: 1.39 - ETA: 7s - loss: 1.3869 - mean_squared_error: 1.38 - ETA: 6s - loss: 1.3730 - mean_squared_error: 1.37 - ETA: 6s - loss: 1.3538 - mean_squared_error: 1.35 - ETA: 5s - loss: 1.3420 - mean_squared_error: 1.34 - ETA: 5s - loss: 1.3323 - mean_squared_error: 1.33 - ETA: 5s - loss: 1.3217 - mean_squared_error: 1.32 - ETA: 4s - loss: 1.3104 - mean_squared_error: 1.31 - ETA: 4s - loss: 1.2977 - mean_squared_error: 1.29 - ETA: 4s - loss: 1.2888 - mean_squared_error: 1.28 - ETA: 4s - loss: 1.2780 - mean_squared_error: 1.27 - ETA: 4s - loss: 1.2726 - mean_squared_error: 1.27 - ETA: 3s - loss: 1.2643 - mean_squared_error: 1.26 - ETA: 3s - loss: 1.2560 - mean_squared_error: 1.25 - ETA: 3s - loss: 1.2480 - mean_squared_error: 1.24 - ETA: 3s - loss: 1.2429 - mean_squared_error: 1.24 - ETA: 3s - loss: 1.2395 - mean_squared_error: 1.23 - ETA: 3s - loss: 1.2312 - mean_squared_error: 1.23 - ETA: 3s - loss: 1.2266 - mean_squared_error: 1.22 - ETA: 3s - loss: 1.2218 - mean_squared_error: 1.22 - ETA: 2s - loss: 1.2164 - mean_squared_error: 1.21 - ETA: 2s - loss: 1.2129 - mean_squared_error: 1.21 - ETA: 2s - loss: 1.2111 - mean_squared_error: 1.21 - ETA: 2s - loss: 1.2044 - mean_squared_error: 1.20 - ETA: 2s - loss: 1.1970 - mean_squared_error: 1.19 - ETA: 2s - loss: 1.1915 - mean_squared_error: 1.19 - ETA: 2s - loss: 1.1850 - mean_squared_error: 1.18 - ETA: 2s - loss: 1.1814 - mean_squared_error: 1.18 - ETA: 1s - loss: 1.1720 - mean_squared_error: 1.17 - ETA: 1s - loss: 1.1657 - mean_squared_error: 1.16 - ETA: 1s - loss: 1.1582 - mean_squared_error: 1.15 - ETA: 1s - loss: 1.1530 - mean_squared_error: 1.15 - ETA: 1s - loss: 1.1469 - mean_squared_error: 1.14 - ETA: 1s - loss: 1.1412 - mean_squared_error: 1.14 - ETA: 1s - loss: 1.1360 - mean_squared_error: 1.13 - ETA: 1s - loss: 1.1298 - mean_squared_error: 1.12 - ETA: 0s - loss: 1.1280 - mean_squared_error: 1.12 - ETA: 0s - loss: 1.1242 - mean_squared_error: 1.12 - ETA: 0s - loss: 1.1195 - mean_squared_error: 1.11 - ETA: 0s - loss: 1.1167 - mean_squared_error: 1.11 - ETA: 0s - loss: 1.1142 - mean_squared_error: 1.11 - ETA: 0s - loss: 1.1117 - mean_squared_error: 1.11 - ETA: 0s - loss: 1.1093 - mean_squared_error: 1.10 - ETA: 0s - loss: 1.1041 - mean_squared_error: 1.10 - ETA: 0s - loss: 1.1015 - mean_squared_error: 1.10 - ETA: 0s - loss: 1.0952 - mean_squared_error: 1.09 - ETA: 0s - loss: 1.0917 - mean_squared_error: 1.09 - 6s 1us/step - loss: 1.0907 - mean_squared_error: 1.0907\n",
      "Epoch 2/5\n",
      "5245110/5245110 [==============================] - ETA: 28s - loss: 1.0108 - mean_squared_error: 1.010 - ETA: 17s - loss: 0.9559 - mean_squared_error: 0.955 - ETA: 13s - loss: 0.9292 - mean_squared_error: 0.929 - ETA: 11s - loss: 0.9170 - mean_squared_error: 0.917 - ETA: 10s - loss: 0.9076 - mean_squared_error: 0.907 - ETA: 8s - loss: 0.9078 - mean_squared_error: 0.907 - ETA: 7s - loss: 0.9009 - mean_squared_error: 0.90 - ETA: 6s - loss: 0.8910 - mean_squared_error: 0.89 - ETA: 6s - loss: 0.8985 - mean_squared_error: 0.89 - ETA: 6s - loss: 0.8968 - mean_squared_error: 0.89 - ETA: 5s - loss: 0.9013 - mean_squared_error: 0.90 - ETA: 5s - loss: 0.8986 - mean_squared_error: 0.89 - ETA: 5s - loss: 0.8919 - mean_squared_error: 0.89 - ETA: 5s - loss: 0.8917 - mean_squared_error: 0.89 - ETA: 5s - loss: 0.8927 - mean_squared_error: 0.89 - ETA: 5s - loss: 0.8897 - mean_squared_error: 0.88 - ETA: 4s - loss: 0.8917 - mean_squared_error: 0.89 - ETA: 4s - loss: 0.8928 - mean_squared_error: 0.89 - ETA: 4s - loss: 0.8921 - mean_squared_error: 0.89 - ETA: 4s - loss: 0.8911 - mean_squared_error: 0.89 - ETA: 4s - loss: 0.8881 - mean_squared_error: 0.88 - ETA: 4s - loss: 0.8885 - mean_squared_error: 0.88 - ETA: 3s - loss: 0.8853 - mean_squared_error: 0.88 - ETA: 3s - loss: 0.8841 - mean_squared_error: 0.88 - ETA: 3s - loss: 0.8871 - mean_squared_error: 0.88 - ETA: 3s - loss: 0.8871 - mean_squared_error: 0.88 - ETA: 3s - loss: 0.8870 - mean_squared_error: 0.88 - ETA: 3s - loss: 0.8868 - mean_squared_error: 0.88 - ETA: 3s - loss: 0.8876 - mean_squared_error: 0.88 - ETA: 3s - loss: 0.8876 - mean_squared_error: 0.88 - ETA: 2s - loss: 0.8880 - mean_squared_error: 0.88 - ETA: 2s - loss: 0.8857 - mean_squared_error: 0.88 - ETA: 2s - loss: 0.8842 - mean_squared_error: 0.88 - ETA: 2s - loss: 0.8815 - mean_squared_error: 0.88 - ETA: 2s - loss: 0.8802 - mean_squared_error: 0.88 - ETA: 2s - loss: 0.8814 - mean_squared_error: 0.88 - ETA: 2s - loss: 0.8808 - mean_squared_error: 0.88 - ETA: 2s - loss: 0.8787 - mean_squared_error: 0.87 - ETA: 2s - loss: 0.8808 - mean_squared_error: 0.88 - ETA: 2s - loss: 0.8812 - mean_squared_error: 0.88 - ETA: 2s - loss: 0.8806 - mean_squared_error: 0.88 - ETA: 1s - loss: 0.8798 - mean_squared_error: 0.87 - ETA: 1s - loss: 0.8788 - mean_squared_error: 0.87 - ETA: 1s - loss: 0.8786 - mean_squared_error: 0.87 - ETA: 1s - loss: 0.8792 - mean_squared_error: 0.87 - ETA: 1s - loss: 0.8788 - mean_squared_error: 0.87 - ETA: 1s - loss: 0.8779 - mean_squared_error: 0.87 - ETA: 1s - loss: 0.8785 - mean_squared_error: 0.87 - ETA: 1s - loss: 0.8788 - mean_squared_error: 0.87 - ETA: 1s - loss: 0.8782 - mean_squared_error: 0.87 - ETA: 1s - loss: 0.8763 - mean_squared_error: 0.87 - ETA: 1s - loss: 0.8748 - mean_squared_error: 0.87 - ETA: 0s - loss: 0.8740 - mean_squared_error: 0.87 - ETA: 0s - loss: 0.8730 - mean_squared_error: 0.87 - ETA: 0s - loss: 0.8725 - mean_squared_error: 0.87 - ETA: 0s - loss: 0.8719 - mean_squared_error: 0.87 - ETA: 0s - loss: 0.8717 - mean_squared_error: 0.87 - ETA: 0s - loss: 0.8719 - mean_squared_error: 0.87 - ETA: 0s - loss: 0.8725 - mean_squared_error: 0.87 - ETA: 0s - loss: 0.8727 - mean_squared_error: 0.87 - ETA: 0s - loss: 0.8728 - mean_squared_error: 0.87 - ETA: 0s - loss: 0.8706 - mean_squared_error: 0.87 - ETA: 0s - loss: 0.8705 - mean_squared_error: 0.87 - ETA: 0s - loss: 0.8714 - mean_squared_error: 0.87 - 5s 1us/step - loss: 0.8714 - mean_squared_error: 0.8714\n",
      "Epoch 3/5\n"
     ]
    },
    {
     "name": "stdout",
     "output_type": "stream",
     "text": [
      "5245110/5245110 [==============================] - ETA: 30s - loss: 0.8638 - mean_squared_error: 0.863 - ETA: 13s - loss: 0.8699 - mean_squared_error: 0.869 - ETA: 11s - loss: 0.8772 - mean_squared_error: 0.877 - ETA: 10s - loss: 0.8557 - mean_squared_error: 0.855 - ETA: 8s - loss: 0.8544 - mean_squared_error: 0.854 - ETA: 8s - loss: 0.8503 - mean_squared_error: 0.85 - ETA: 7s - loss: 0.8533 - mean_squared_error: 0.85 - ETA: 7s - loss: 0.8575 - mean_squared_error: 0.85 - ETA: 6s - loss: 0.8689 - mean_squared_error: 0.86 - ETA: 6s - loss: 0.8612 - mean_squared_error: 0.86 - ETA: 5s - loss: 0.8560 - mean_squared_error: 0.85 - ETA: 5s - loss: 0.8491 - mean_squared_error: 0.84 - ETA: 5s - loss: 0.8476 - mean_squared_error: 0.84 - ETA: 5s - loss: 0.8493 - mean_squared_error: 0.84 - ETA: 5s - loss: 0.8488 - mean_squared_error: 0.84 - ETA: 5s - loss: 0.8511 - mean_squared_error: 0.85 - ETA: 4s - loss: 0.8560 - mean_squared_error: 0.85 - ETA: 4s - loss: 0.8559 - mean_squared_error: 0.85 - ETA: 4s - loss: 0.8542 - mean_squared_error: 0.85 - ETA: 4s - loss: 0.8571 - mean_squared_error: 0.85 - ETA: 4s - loss: 0.8578 - mean_squared_error: 0.85 - ETA: 4s - loss: 0.8594 - mean_squared_error: 0.85 - ETA: 4s - loss: 0.8578 - mean_squared_error: 0.85 - ETA: 4s - loss: 0.8596 - mean_squared_error: 0.85 - ETA: 4s - loss: 0.8594 - mean_squared_error: 0.85 - ETA: 3s - loss: 0.8581 - mean_squared_error: 0.85 - ETA: 3s - loss: 0.8569 - mean_squared_error: 0.85 - ETA: 3s - loss: 0.8548 - mean_squared_error: 0.85 - ETA: 3s - loss: 0.8548 - mean_squared_error: 0.85 - ETA: 3s - loss: 0.8555 - mean_squared_error: 0.85 - ETA: 3s - loss: 0.8545 - mean_squared_error: 0.85 - ETA: 3s - loss: 0.8570 - mean_squared_error: 0.85 - ETA: 3s - loss: 0.8570 - mean_squared_error: 0.85 - ETA: 3s - loss: 0.8580 - mean_squared_error: 0.85 - ETA: 2s - loss: 0.8562 - mean_squared_error: 0.85 - ETA: 2s - loss: 0.8553 - mean_squared_error: 0.85 - ETA: 2s - loss: 0.8546 - mean_squared_error: 0.85 - ETA: 2s - loss: 0.8534 - mean_squared_error: 0.85 - ETA: 2s - loss: 0.8533 - mean_squared_error: 0.85 - ETA: 2s - loss: 0.8525 - mean_squared_error: 0.85 - ETA: 2s - loss: 0.8514 - mean_squared_error: 0.85 - ETA: 2s - loss: 0.8518 - mean_squared_error: 0.85 - ETA: 2s - loss: 0.8509 - mean_squared_error: 0.85 - ETA: 2s - loss: 0.8514 - mean_squared_error: 0.85 - ETA: 1s - loss: 0.8511 - mean_squared_error: 0.85 - ETA: 1s - loss: 0.8497 - mean_squared_error: 0.84 - ETA: 1s - loss: 0.8491 - mean_squared_error: 0.84 - ETA: 1s - loss: 0.8502 - mean_squared_error: 0.85 - ETA: 1s - loss: 0.8512 - mean_squared_error: 0.85 - ETA: 1s - loss: 0.8514 - mean_squared_error: 0.85 - ETA: 1s - loss: 0.8523 - mean_squared_error: 0.85 - ETA: 1s - loss: 0.8508 - mean_squared_error: 0.85 - ETA: 1s - loss: 0.8502 - mean_squared_error: 0.85 - ETA: 1s - loss: 0.8494 - mean_squared_error: 0.84 - ETA: 1s - loss: 0.8496 - mean_squared_error: 0.84 - ETA: 0s - loss: 0.8490 - mean_squared_error: 0.84 - ETA: 0s - loss: 0.8482 - mean_squared_error: 0.84 - ETA: 0s - loss: 0.8492 - mean_squared_error: 0.84 - ETA: 0s - loss: 0.8488 - mean_squared_error: 0.84 - ETA: 0s - loss: 0.8483 - mean_squared_error: 0.84 - ETA: 0s - loss: 0.8482 - mean_squared_error: 0.84 - ETA: 0s - loss: 0.8479 - mean_squared_error: 0.84 - ETA: 0s - loss: 0.8485 - mean_squared_error: 0.84 - ETA: 0s - loss: 0.8491 - mean_squared_error: 0.84 - ETA: 0s - loss: 0.8481 - mean_squared_error: 0.84 - ETA: 0s - loss: 0.8477 - mean_squared_error: 0.84 - 5s 1us/step - loss: 0.8476 - mean_squared_error: 0.8476\n",
      "Epoch 4/5\n",
      "5245110/5245110 [==============================] - ETA: 26s - loss: 0.7983 - mean_squared_error: 0.798 - ETA: 16s - loss: 0.8085 - mean_squared_error: 0.808 - ETA: 12s - loss: 0.8288 - mean_squared_error: 0.828 - ETA: 9s - loss: 0.8501 - mean_squared_error: 0.850 - ETA: 8s - loss: 0.8637 - mean_squared_error: 0.86 - ETA: 7s - loss: 0.8578 - mean_squared_error: 0.85 - ETA: 6s - loss: 0.8510 - mean_squared_error: 0.85 - ETA: 5s - loss: 0.8545 - mean_squared_error: 0.85 - ETA: 5s - loss: 0.8531 - mean_squared_error: 0.85 - ETA: 5s - loss: 0.8471 - mean_squared_error: 0.84 - ETA: 5s - loss: 0.8437 - mean_squared_error: 0.84 - ETA: 4s - loss: 0.8421 - mean_squared_error: 0.84 - ETA: 4s - loss: 0.8415 - mean_squared_error: 0.84 - ETA: 4s - loss: 0.8447 - mean_squared_error: 0.84 - ETA: 4s - loss: 0.8431 - mean_squared_error: 0.84 - ETA: 4s - loss: 0.8455 - mean_squared_error: 0.84 - ETA: 4s - loss: 0.8439 - mean_squared_error: 0.84 - ETA: 3s - loss: 0.8437 - mean_squared_error: 0.84 - ETA: 3s - loss: 0.8447 - mean_squared_error: 0.84 - ETA: 3s - loss: 0.8405 - mean_squared_error: 0.84 - ETA: 3s - loss: 0.8414 - mean_squared_error: 0.84 - ETA: 3s - loss: 0.8408 - mean_squared_error: 0.84 - ETA: 3s - loss: 0.8423 - mean_squared_error: 0.84 - ETA: 3s - loss: 0.8455 - mean_squared_error: 0.84 - ETA: 3s - loss: 0.8450 - mean_squared_error: 0.84 - ETA: 2s - loss: 0.8479 - mean_squared_error: 0.84 - ETA: 2s - loss: 0.8467 - mean_squared_error: 0.84 - ETA: 2s - loss: 0.8452 - mean_squared_error: 0.84 - ETA: 2s - loss: 0.8434 - mean_squared_error: 0.84 - ETA: 2s - loss: 0.8436 - mean_squared_error: 0.84 - ETA: 2s - loss: 0.8428 - mean_squared_error: 0.84 - ETA: 2s - loss: 0.8431 - mean_squared_error: 0.84 - ETA: 2s - loss: 0.8430 - mean_squared_error: 0.84 - ETA: 2s - loss: 0.8420 - mean_squared_error: 0.84 - ETA: 1s - loss: 0.8427 - mean_squared_error: 0.84 - ETA: 1s - loss: 0.8411 - mean_squared_error: 0.84 - ETA: 1s - loss: 0.8403 - mean_squared_error: 0.84 - ETA: 1s - loss: 0.8387 - mean_squared_error: 0.83 - ETA: 1s - loss: 0.8391 - mean_squared_error: 0.83 - ETA: 1s - loss: 0.8388 - mean_squared_error: 0.83 - ETA: 1s - loss: 0.8390 - mean_squared_error: 0.83 - ETA: 1s - loss: 0.8406 - mean_squared_error: 0.84 - ETA: 1s - loss: 0.8407 - mean_squared_error: 0.84 - ETA: 1s - loss: 0.8417 - mean_squared_error: 0.84 - ETA: 0s - loss: 0.8415 - mean_squared_error: 0.84 - ETA: 0s - loss: 0.8421 - mean_squared_error: 0.84 - ETA: 0s - loss: 0.8431 - mean_squared_error: 0.84 - ETA: 0s - loss: 0.8424 - mean_squared_error: 0.84 - ETA: 0s - loss: 0.8422 - mean_squared_error: 0.84 - ETA: 0s - loss: 0.8429 - mean_squared_error: 0.84 - ETA: 0s - loss: 0.8419 - mean_squared_error: 0.84 - ETA: 0s - loss: 0.8416 - mean_squared_error: 0.84 - ETA: 0s - loss: 0.8419 - mean_squared_error: 0.84 - ETA: 0s - loss: 0.8416 - mean_squared_error: 0.84 - 5s 1us/step - loss: 0.8402 - mean_squared_error: 0.8402\n",
      "Epoch 5/5\n"
     ]
    },
    {
     "name": "stdout",
     "output_type": "stream",
     "text": [
      "5245110/5245110 [==============================] - ETA: 22s - loss: 0.8674 - mean_squared_error: 0.867 - ETA: 13s - loss: 0.8396 - mean_squared_error: 0.839 - ETA: 8s - loss: 0.8181 - mean_squared_error: 0.818 - ETA: 7s - loss: 0.8255 - mean_squared_error: 0.82 - ETA: 6s - loss: 0.8294 - mean_squared_error: 0.82 - ETA: 6s - loss: 0.8347 - mean_squared_error: 0.83 - ETA: 6s - loss: 0.8291 - mean_squared_error: 0.82 - ETA: 5s - loss: 0.8369 - mean_squared_error: 0.83 - ETA: 5s - loss: 0.8353 - mean_squared_error: 0.83 - ETA: 5s - loss: 0.8325 - mean_squared_error: 0.83 - ETA: 4s - loss: 0.8350 - mean_squared_error: 0.83 - ETA: 4s - loss: 0.8325 - mean_squared_error: 0.83 - ETA: 4s - loss: 0.8340 - mean_squared_error: 0.83 - ETA: 4s - loss: 0.8384 - mean_squared_error: 0.83 - ETA: 4s - loss: 0.8360 - mean_squared_error: 0.83 - ETA: 4s - loss: 0.8362 - mean_squared_error: 0.83 - ETA: 3s - loss: 0.8369 - mean_squared_error: 0.83 - ETA: 3s - loss: 0.8335 - mean_squared_error: 0.83 - ETA: 3s - loss: 0.8360 - mean_squared_error: 0.83 - ETA: 3s - loss: 0.8369 - mean_squared_error: 0.83 - ETA: 3s - loss: 0.8387 - mean_squared_error: 0.83 - ETA: 3s - loss: 0.8364 - mean_squared_error: 0.83 - ETA: 3s - loss: 0.8371 - mean_squared_error: 0.83 - ETA: 3s - loss: 0.8352 - mean_squared_error: 0.83 - ETA: 3s - loss: 0.8356 - mean_squared_error: 0.83 - ETA: 2s - loss: 0.8367 - mean_squared_error: 0.83 - ETA: 2s - loss: 0.8384 - mean_squared_error: 0.83 - ETA: 2s - loss: 0.8365 - mean_squared_error: 0.83 - ETA: 2s - loss: 0.8366 - mean_squared_error: 0.83 - ETA: 2s - loss: 0.8367 - mean_squared_error: 0.83 - ETA: 2s - loss: 0.8383 - mean_squared_error: 0.83 - ETA: 2s - loss: 0.8380 - mean_squared_error: 0.83 - ETA: 2s - loss: 0.8381 - mean_squared_error: 0.83 - ETA: 2s - loss: 0.8377 - mean_squared_error: 0.83 - ETA: 2s - loss: 0.8360 - mean_squared_error: 0.83 - ETA: 2s - loss: 0.8369 - mean_squared_error: 0.83 - ETA: 2s - loss: 0.8357 - mean_squared_error: 0.83 - ETA: 2s - loss: 0.8361 - mean_squared_error: 0.83 - ETA: 1s - loss: 0.8356 - mean_squared_error: 0.83 - ETA: 1s - loss: 0.8341 - mean_squared_error: 0.83 - ETA: 1s - loss: 0.8341 - mean_squared_error: 0.83 - ETA: 1s - loss: 0.8344 - mean_squared_error: 0.83 - ETA: 1s - loss: 0.8322 - mean_squared_error: 0.83 - ETA: 1s - loss: 0.8316 - mean_squared_error: 0.83 - ETA: 1s - loss: 0.8324 - mean_squared_error: 0.83 - ETA: 1s - loss: 0.8338 - mean_squared_error: 0.83 - ETA: 1s - loss: 0.8337 - mean_squared_error: 0.83 - ETA: 1s - loss: 0.8347 - mean_squared_error: 0.83 - ETA: 1s - loss: 0.8344 - mean_squared_error: 0.83 - ETA: 1s - loss: 0.8360 - mean_squared_error: 0.83 - ETA: 0s - loss: 0.8358 - mean_squared_error: 0.83 - ETA: 0s - loss: 0.8348 - mean_squared_error: 0.83 - ETA: 0s - loss: 0.8347 - mean_squared_error: 0.83 - ETA: 0s - loss: 0.8345 - mean_squared_error: 0.83 - ETA: 0s - loss: 0.8339 - mean_squared_error: 0.83 - ETA: 0s - loss: 0.8338 - mean_squared_error: 0.83 - ETA: 0s - loss: 0.8336 - mean_squared_error: 0.83 - ETA: 0s - loss: 0.8330 - mean_squared_error: 0.83 - ETA: 0s - loss: 0.8330 - mean_squared_error: 0.83 - ETA: 0s - loss: 0.8333 - mean_squared_error: 0.83 - ETA: 0s - loss: 0.8339 - mean_squared_error: 0.83 - 5s 1us/step - loss: 0.8348 - mean_squared_error: 0.8348\n"
     ]
    },
    {
     "data": {
      "text/plain": [
       "<keras.callbacks.History at 0x1ac99760550>"
      ]
     },
     "execution_count": 18,
     "metadata": {},
     "output_type": "execute_result"
    },
    {
     "name": "stdout",
     "output_type": "stream",
     "text": [
      "214200/214200 [==============================] - ETA:  - 0s 1us/step\n",
      "--------------------------------------------------\n"
     ]
    },
    {
     "name": "stderr",
     "output_type": "stream",
     "text": [
      "100%|██████████| 8/8 [52:21<00:00, 421.89s/it]\n"
     ]
    }
   ],
   "source": [
    "num_first_level_models = 3\n",
    "SEED = 777\n",
    "dates = all_data['date_block_num']\n",
    "\n",
    "last_block = dates.max()\n",
    "\n",
    "print('Test `date_block_num` is %d' % last_block)\n",
    "print(feature_columns)\n",
    "\n",
    "\n",
    "scoringMethod = 'r2' \n",
    "from sklearn.metrics import mean_squared_error \n",
    "from math import sqrt\n",
    "\n",
    "\n",
    "# Train meta-features M = 15 (12 + 15 = 27)\n",
    "mon_to_meta_features = range(27,last_block +1)\n",
    "mask = dates.isin(mon_to_meta_features)\n",
    "\n",
    "Target = 'item_cnt_month'\n",
    "\n",
    "y_all_level2 = all_data[Target][mask].values\n",
    "X_all_level2 = np.zeros([y_all_level2.shape[0], num_first_level_models])\n",
    "\n",
    "\n",
    "# Now fill `X_train_level2` with metafeatures\n",
    "\n",
    "slice_start = 0\n",
    "\n",
    "for cur_block_num in tqdm(mon_to_meta_features):\n",
    "\n",
    "    print('-' * 50)\n",
    "    print('Start training for month%d'% cur_block_num)\n",
    "\n",
    "    cur_X_train = all_data.loc[dates <  cur_block_num][feature_columns]\n",
    "    cur_X_test =  all_data.loc[dates == cur_block_num][feature_columns]\n",
    "\n",
    "\n",
    "    cur_y_train = all_data.loc[dates <  cur_block_num, Target].values\n",
    "    cur_y_test =  all_data.loc[dates == cur_block_num, Target].values\n",
    "\n",
    "    #Create Numpy arrays of train, test and target dataframes to feed into models\n",
    "    train_x = cur_X_train.values\n",
    "    train_y = cur_y_train.ravel()\n",
    "\n",
    "    test_x = cur_X_test.values\n",
    "    test_y = cur_y_test.ravel()\n",
    "\n",
    "    preds = []\n",
    "\n",
    "    from sklearn.linear_model import (LinearRegression, SGDRegressor)\n",
    "    import lightgbm as lgb\n",
    "\n",
    "    sgdr= SGDRegressor(\n",
    "        penalty = 'l2' ,\n",
    "        random_state = SEED )\n",
    "\n",
    "    lgb_params = {\n",
    "                  'feature_fraction': 0.75,\n",
    "                  'metric': 'rmse',\n",
    "                  'nthread':1,\n",
    "                  'min_data_in_leaf': 2**7,\n",
    "                  'bagging_fraction': 0.75,\n",
    "                  'learning_rate': 0.03,\n",
    "                  'objective': 'mse',\n",
    "                  'bagging_seed': 2**7,\n",
    "                  'num_leaves': 2**7,\n",
    "                  'bagging_freq':1,\n",
    "                  'verbose':0\n",
    "                  }\n",
    "\n",
    "    estimators = [sgdr]\n",
    "\n",
    "    for estimator in estimators:\n",
    "\n",
    "        print('Training Model %d: %s'%(len(preds), estimator.__class__.__name__))\n",
    "\n",
    "        estimator.fit(train_x, train_y)\n",
    "        pred_test = estimator.predict(test_x)\n",
    "        preds.append(pred_test)\n",
    "\n",
    "        pred_train = estimator.predict(train_x)\n",
    "\n",
    "        print('Train RMSE for %s is %f' % (estimator.__class__.__name__, sqrt(mean_squared_error(cur_y_train, pred_train))))\n",
    "        print('Test RMSE for %s is %f' % (estimator.__class__.__name__, sqrt(mean_squared_error(cur_y_test, pred_test))))\n",
    "\n",
    "\n",
    "    print('Training Model %d: %s'%(len(preds), 'lightgbm'))\n",
    "\n",
    "    estimator = lgb.train(lgb_params, lgb.Dataset(train_x, label=train_y), 300)\n",
    "\n",
    "    pred_test = estimator.predict(test_x)\n",
    "\n",
    "    preds.append(pred_test)\n",
    "\n",
    "    pred_train = estimator.predict(train_x)\n",
    "\n",
    "    print('Train RMSE for %s is %f' % ('lightgbm', sqrt(mean_squared_error(cur_y_train, pred_train))))\n",
    "\n",
    "    print('Test RMSE for %s is %f' % ('lightgbm', sqrt(mean_squared_error(cur_y_test, pred_test))))\n",
    "\n",
    "\n",
    "    print('Training Model %d: %s'%(len(preds), 'keras'))\n",
    "\n",
    "\n",
    "    from keras.models import Sequential\n",
    "    from keras.layers import Dense\n",
    "    from keras.wrappers.scikit_learn import KerasRegressor\n",
    "\n",
    "    def baseline_model():\n",
    "\n",
    "        # create model\n",
    "        model = Sequential()\n",
    "        model.add(Dense(20, input_dim=train_x.shape[1], kernel_initializer='uniform', activation='softplus'))\n",
    "        model.add(Dense(1, kernel_initializer='uniform', activation = 'relu'))\n",
    "\n",
    "        # Compile model\n",
    "        model.compile(loss='mse', optimizer='Nadam', metrics=['mse'])\n",
    "        # model.compile(loss='mean_squared_error', optimizer='adam')\n",
    "\n",
    "        return model\n",
    "\n",
    "\n",
    "\n",
    "    estimator = KerasRegressor(build_fn=baseline_model, verbose=1, epochs=5, batch_size = 55000)\n",
    "\n",
    "    estimator.fit(train_x, train_y)\n",
    "\n",
    "    pred_test = estimator.predict(test_x)\n",
    "\n",
    "    preds.append(pred_test)\n",
    "\n",
    "    print('-' * 50)\n",
    "\n",
    "    slice_end = slice_start + cur_X_test.shape[0]\n",
    "\n",
    "    X_all_level2[ slice_start : slice_end , :] = np.c_[preds].transpose()\n",
    "\n",
    "    slice_start = slice_end\n",
    "\n",
    "\n",
    "#Split train and test\n",
    "\n",
    "test_nrow = len(preds[0])\n",
    "X_train_level2 = X_all_level2[ : -test_nrow, :]\n",
    "X_test_level2 = X_all_level2[ -test_nrow: , :]\n",
    "y_train_level2 = y_all_level2[ : -test_nrow]\n",
    "y_test_level2 = y_all_level2[ -test_nrow : ]"
   ]
  },
  {
   "cell_type": "markdown",
   "metadata": {},
   "source": [
    "## 5.  Ensembling"
   ]
  },
  {
   "cell_type": "code",
   "execution_count": 21,
   "metadata": {},
   "outputs": [
    {
     "name": "stdout",
     "output_type": "stream",
     "text": [
      "Training Second level learning model via SGDRegressor\n"
     ]
    },
    {
     "name": "stderr",
     "output_type": "stream",
     "text": [
      "C:\\ProgramData\\Anaconda3\\lib\\site-packages\\sklearn\\linear_model\\stochastic_gradient.py:166: FutureWarning: max_iter and tol parameters have been added in SGDRegressor in 0.19. If both are left unset, they default to max_iter=5 and tol=None. If tol is not None, max_iter defaults to max_iter=1000. From 0.21, default max_iter will be 1000, and default tol will be 1e-3.\n",
      "  FutureWarning)\n"
     ]
    },
    {
     "data": {
      "text/plain": [
       "SGDRegressor(alpha=0.0001, average=False, early_stopping=False, epsilon=0.1,\n",
       "       eta0=0.01, fit_intercept=True, l1_ratio=0.15,\n",
       "       learning_rate='invscaling', loss='squared_loss', max_iter=None,\n",
       "       n_iter=None, n_iter_no_change=5, penalty='l2', power_t=0.25,\n",
       "       random_state=777, shuffle=True, tol=None, validation_fraction=0.1,\n",
       "       verbose=0, warm_start=False)"
      ]
     },
     "execution_count": 21,
     "metadata": {},
     "output_type": "execute_result"
    },
    {
     "name": "stdout",
     "output_type": "stream",
     "text": [
      "Train R-squared for train_preds_lr_stacking is 0.816129\n"
     ]
    }
   ],
   "source": [
    "\n",
    "print('Training Second level learning model via SGDRegressor')\n",
    "\n",
    "sgdr= SGDRegressor(\n",
    "    penalty = 'l2' ,\n",
    "    random_state = SEED )\n",
    "\n",
    "sgdr.fit(X_train_level2, y_train_level2)\n",
    "\n",
    "# R-squared on the train and test sets.\n",
    "\n",
    "test_preds_sgdr_stacking = sgdr.predict(X_test_level2)\n",
    "train_preds_sgdr_stacking = sgdr.predict(X_train_level2)\n",
    "\n",
    "print('Train R-squared for %s is %f' %('train_preds_lr_stacking', sqrt(mean_squared_error(y_train_level2, train_preds_sgdr_stacking))))\n",
    "\n",
    "\n",
    "if Validation:\n",
    "\n",
    "    print('Test R-squared for %s is %f' %('test_preds_sgdr_stacking', sqrt(mean_squared_error(y_test_level2, test_preds_sgdr_stacking))))\n",
    "\n"
   ]
  },
  {
   "cell_type": "code",
   "execution_count": 23,
   "metadata": {},
   "outputs": [
    {
     "name": "stdout",
     "output_type": "stream",
     "text": [
      "0.32986748899429086\n"
     ]
    }
   ],
   "source": [
    "# Submission -------------------------------------------------------------------\n",
    "\n",
    "if not Validation:\n",
    "\n",
    "    submission = sample_submission_df\n",
    "    print(test_preds_sgdr_stacking.clip(0,20).mean())\n",
    "    submission['item_cnt_month'] = test_preds_sgdr_stacking.clip(0,20)\n",
    "    submission[['ID', 'item_cnt_month']].to_csv('submission.csv', index = False)\n",
    "    "
   ]
  }
 ],
 "metadata": {
  "kernelspec": {
   "display_name": "Python 3",
   "language": "python",
   "name": "python3"
  },
  "language_info": {
   "codemirror_mode": {
    "name": "ipython",
    "version": 3
   },
   "file_extension": ".py",
   "mimetype": "text/x-python",
   "name": "python",
   "nbconvert_exporter": "python",
   "pygments_lexer": "ipython3",
   "version": "3.6.8"
  }
 },
 "nbformat": 4,
 "nbformat_minor": 2
}
